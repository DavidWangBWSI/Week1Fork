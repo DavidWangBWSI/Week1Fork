{
 "cells": [
  {
   "cell_type": "markdown",
   "source": "# Week 1 Challenge Project\n### Lyle Lalunio\n---\nHypothyroidism, also called underactive thyroid or low thyroid, is a disorder of the endocrine system in which the thyroid gland does not produce enough thyroid hormone. It can cause a number of symptoms, such as poor ability to tolerate cold, a feeling of tiredness, constipation, depression, and weight gain. Occasionally there may be swelling of the front part of the neck due to goitre. Untreated hypothyroidism during pregnancy can lead to delays in growth and intellectual development in the baby or cretinism.\n\nWorldwide, too little iodine in the diet is the most common cause of hypothyroidism. In countries with enough iodine in the diet, the most common cause of hypothyroidism is the autoimmune condition Hashimoto's thyroiditis. Less common causes include: previous treatment with radioactive iodine, injury to the hypothalamus or the anterior pituitary gland, certain medications, a lack of a functioning thyroid at birth, or previous thyroid surgery. The diagnosis of hypothyroidism, when suspected, can be confirmed with blood tests measuring thyroid-stimulating hormone (TSH) and thyroxine levels.\n\nWorldwide about one billion people are estimated to be iodine deficient; however, it is unknown how often this results in hypothyroidism. In the United States, hypothyroidism occurs in 0.3–0.4% of people.\n\nAnd that is why we iodize salt.\n\n![alt text](https://www.mayoclinic.org/-/media/kcms/gbs/patient-consumer/images/2013/11/15/17/39/ds00181_-ds00344_-ds00353_-ds00491_-ds00492_-ds00567_-ds00660_-my00709_im01872_thyroid_gif.jpg)\n\n",
   "metadata": {
    "colab_type": "text",
    "id": "XQDE8pPCpFRb",
    "cell_id": "bf92d4dc-6a24-4820-9df9-1dfe8a45fe1e",
    "deepnote_cell_type": "markdown",
    "deepnote_cell_height": 991.171875
   }
  },
  {
   "cell_type": "markdown",
   "source": "Background: Doctors all around the world need our help to predict whether a patient has hypothyroid disease. We have already overspent our budget to collect such complete data on about 30 attributes for 2800 patients--a good starting number, but a larger sample would certainly be preferred. Moving forward, however, we simply cannot afford to spend so much money on data collection. Therefore, we also need to determine which attributes are the most meaningful to the predictive models, and cut out the rest that don't contribute much. \n\nThe boss wants to see a **balanced** model that can predict with a **high sensitivity** and **high specificity** while using a ***low amount of features***. Collecting complete data such as this is very rare, very time-consuming, and often very expensive. By minimizing the number of features, it will optimize future data collection by deciding what needs to be collected, and what doesn't.",
   "metadata": {
    "colab_type": "text",
    "id": "OFF1-BLiSLZ8",
    "cell_id": "00001-dcbc9f4c-6c64-4d3e-8cf9-d54633fa665a",
    "deepnote_cell_type": "markdown",
    "deepnote_cell_height": 245.578125
   }
  },
  {
   "cell_type": "markdown",
   "source": "## Loading the data",
   "metadata": {
    "colab_type": "text",
    "id": "HsZB_SGvp4mP",
    "cell_id": "00002-edd9ae0b-2c98-40b7-a366-b7d96b42b690",
    "deepnote_cell_type": "markdown",
    "deepnote_cell_height": 70
   }
  },
  {
   "cell_type": "markdown",
   "source": "Let's read the data into a Pandas dataframe and look at the first 20 records.",
   "metadata": {
    "colab_type": "text",
    "id": "DWrUz9OQ0uAU",
    "cell_id": "00003-2e97da25-f86c-413f-8e7b-ab8ba039328f",
    "deepnote_cell_type": "markdown",
    "deepnote_cell_height": 52.390625
   }
  },
  {
   "cell_type": "code",
   "metadata": {
    "colab": {
     "autoexec": {
      "startup": false,
      "wait_interval": 0
     }
    },
    "colab_type": "code",
    "id": "s9AtXQPkzC8j",
    "deepnote_to_be_reexecuted": false,
    "source_hash": "bb88ca56",
    "execution_start": 1657910258142,
    "execution_millis": 93,
    "cell_id": "00004-1bf34d83-8a6f-4968-97d7-5d98613147e2",
    "deepnote_cell_type": "code",
    "deepnote_cell_height": 171
   },
   "source": "import pandas as pd\nurl = \"https://raw.githubusercontent.com/Medlytics2022/Week1/master/Datasets/allhypo.train.data\"\ndataset = pd.read_csv(url)\ndataset.head(5)\n\ndataset = dataset.dropna(axis=0).reset_index(drop=True)",
   "execution_count": 1,
   "outputs": []
  },
  {
   "cell_type": "code",
   "metadata": {
    "tags": [],
    "deepnote_to_be_reexecuted": false,
    "source_hash": "efbbfa43",
    "execution_start": 1657910258299,
    "execution_millis": 1,
    "cell_id": "00005-a0ba1095-9377-484f-a4d1-25bc526aed3d",
    "deepnote_cell_type": "code",
    "deepnote_cell_height": 81
   },
   "source": "dataset.columns = ['Age', 'Sex', 'On Thyroxine', 'Query on Thyroxine', 'On Antithyroid Medication', 'Sick', 'Pregnant', 'Thyroid Surgery', 'I131 Treatment', 'Query Hypothyroid', 'Query Hyperthyroid', 'Lithium', 'Goiter', 'Tumor', 'Hypopituitary', 'Psych', 'TSH Measured', 'TSH', 'T3 Measured', 'T3', 'TT4 Measured', 'TT4', 'T4U Measured', 'T4U', 'FTI Measured', 'FTI', 'TBG Measured', 'TBG', 'Referral Source', 'Class']",
   "execution_count": 2,
   "outputs": []
  },
  {
   "cell_type": "markdown",
   "source": "Great, looks like the data loaded in properly. Let's continue looking at some summary statistics on our data.",
   "metadata": {
    "colab_type": "text",
    "id": "tYhtoqdR6Y3J",
    "cell_id": "00006-5cd56db6-8187-4a02-9ccb-b3fcdf9696a5",
    "deepnote_cell_type": "markdown",
    "deepnote_cell_height": 52.390625
   }
  },
  {
   "cell_type": "markdown",
   "source": "## Viewing summary statistics\nThe functions describe() and info() are your friends",
   "metadata": {
    "colab_type": "text",
    "id": "sGKbG-eBqBjF",
    "cell_id": "00007-de605971-8a68-44de-b018-619e92ae5b06",
    "deepnote_cell_type": "markdown",
    "deepnote_cell_height": 108.390625
   }
  },
  {
   "cell_type": "markdown",
   "source": "Note the data types are all objects--even columns that are obviously numeric like Age. This is because there are \"?\" values for some of the cells, making pandas interpret these columns as non-null objects (instead of int, for example).",
   "metadata": {
    "colab_type": "text",
    "id": "olpFokrp8AIH",
    "cell_id": "00010-2b83e56e-55d4-40bf-b9c3-21dbf6db7aa4",
    "deepnote_cell_type": "markdown",
    "deepnote_cell_height": 74.796875
   }
  },
  {
   "cell_type": "markdown",
   "source": "## Data cleaning",
   "metadata": {
    "colab_type": "text",
    "id": "0emOppVyqQS9",
    "cell_id": "00011-09fce31a-533a-4206-af0e-75cde8433967",
    "deepnote_cell_type": "markdown",
    "deepnote_cell_height": 70
   }
  },
  {
   "cell_type": "markdown",
   "source": "To start, let's make all the numerical columns contain the correct type of values and change the data type of those columns to numeric. Let's also replace all those question marks with the median of the respective column.\n\nHint: To make it easier, first try converting all the \"?\" to NaN.",
   "metadata": {
    "colab_type": "text",
    "id": "ZRQpnByEWrcx",
    "cell_id": "00012-d7f1e53b-7ad1-4440-af8c-558458fdc438",
    "deepnote_cell_type": "markdown",
    "deepnote_cell_height": 111.1875
   }
  },
  {
   "cell_type": "code",
   "metadata": {
    "colab": {
     "autoexec": {
      "startup": false,
      "wait_interval": 0
     }
    },
    "colab_type": "code",
    "id": "BlTsaK5n5Bg1",
    "deepnote_to_be_reexecuted": false,
    "source_hash": "f296e4ab",
    "execution_start": 1657910258300,
    "execution_millis": 36,
    "deepnote_table_state": {
     "pageSize": 10,
     "pageIndex": 1,
     "filters": [],
     "sortBy": []
    },
    "deepnote_table_loading": false,
    "cell_id": "00013-198ba1c1-d3df-42e8-8d32-6aedb80f9773",
    "deepnote_cell_type": "code",
    "deepnote_cell_height": 135
   },
   "source": "import numpy as np\n\nfor i in dataset.columns:\n    dataset[i].replace(to_replace= \"?\", value=np.nan, inplace=True)",
   "execution_count": 3,
   "outputs": []
  },
  {
   "cell_type": "markdown",
   "source": "Hmm, still looks like the TBG column is unfilled, implying it was empty to begin with. Let's get rid of this column, then (and make sure to get rid of it in your list of numeric columns, too!)",
   "metadata": {
    "colab_type": "text",
    "id": "HZo7iKHUD3DG",
    "cell_id": "00015-4c07a00b-ea70-4d0b-bebc-552a5a7e2909",
    "deepnote_cell_type": "markdown",
    "deepnote_cell_height": 74.796875
   }
  },
  {
   "cell_type": "code",
   "metadata": {
    "colab": {
     "autoexec": {
      "startup": false,
      "wait_interval": 0
     }
    },
    "colab_type": "code",
    "id": "yAe5FIFkD25f",
    "deepnote_to_be_reexecuted": false,
    "source_hash": "966bfd2d",
    "execution_start": 1657910258336,
    "execution_millis": 1,
    "cell_id": "00016-6ea8624e-d6d5-460d-9175-28aca334a463",
    "deepnote_cell_type": "code",
    "deepnote_cell_height": 99
   },
   "source": "to_drop = ['TBG','TBG Measured']\ndataset = dataset.drop(to_drop, axis=1)",
   "execution_count": 4,
   "outputs": []
  },
  {
   "cell_type": "code",
   "metadata": {
    "tags": [],
    "deepnote_to_be_reexecuted": false,
    "source_hash": "94766caa",
    "execution_start": 1657910258382,
    "execution_millis": 1,
    "cell_id": "00017-b018902e-2ab4-4b7b-baf3-938883a4d39e",
    "deepnote_cell_type": "code",
    "deepnote_cell_height": 171
   },
   "source": "numeric_columns = list([\"Age\",\"TSH\",\"T3\",\"TT4\",\"T4U\",\"FTI\"])\ncategorical_columns = list(set(dataset.columns)-set(numeric_columns)-set(['Class']))\nmeasured_columns = []\nfor i in categorical_columns:\n    if 'Measured' in i:\n        measured_columns.append(i)",
   "execution_count": 5,
   "outputs": []
  },
  {
   "cell_type": "markdown",
   "source": "All right, let's take a look now at the info of *just the numeric columns* in the dataset:",
   "metadata": {
    "colab_type": "text",
    "id": "DTjWD_ddCHsA",
    "cell_id": "00019-0be9d263-4d40-4cd2-8e27-a65408b5441f",
    "deepnote_cell_type": "markdown",
    "deepnote_cell_height": 52.390625
   }
  },
  {
   "cell_type": "markdown",
   "source": "Perfect, now let's fix that class feature. According to the note the data collectors included with this data, the \".|####\" refers to a patient number, and is not necessarily relevant for our purposes here.",
   "metadata": {
    "colab_type": "text",
    "id": "XOzcRX-5YRvz",
    "cell_id": "00021-39761179-e94d-48b5-b9f7-dd7f2e45dda9",
    "deepnote_cell_type": "markdown",
    "deepnote_cell_height": 74.796875
   }
  },
  {
   "cell_type": "code",
   "metadata": {
    "colab": {
     "autoexec": {
      "startup": false,
      "wait_interval": 0
     }
    },
    "colab_type": "code",
    "id": "QFmeyRcGYR7s",
    "deepnote_to_be_reexecuted": false,
    "source_hash": "8e01320c",
    "execution_start": 1657910258383,
    "execution_millis": 1043,
    "cell_id": "00022-46ba5f1d-d26f-48b7-bd77-8617b983f720",
    "deepnote_cell_type": "code",
    "deepnote_cell_height": 117
   },
   "source": "for i in range(dataset.shape[0]):\n    text = dataset.loc[i, \"Class\"].split(\".\")[0]\n    dataset.loc[i, \"Class\"] = text",
   "execution_count": 6,
   "outputs": []
  },
  {
   "cell_type": "markdown",
   "source": "Let's run the describe() function on just the \"class\" column.",
   "metadata": {
    "colab_type": "text",
    "id": "KYOwWnpqhQvd",
    "cell_id": "00023-93294c18-4800-4522-bb8a-9018354923b6",
    "deepnote_cell_type": "markdown",
    "deepnote_cell_height": 52.390625
   }
  },
  {
   "cell_type": "markdown",
   "source": "It looks like there are actually 4 unique classification variables! Thank goodness we didn't assume it was binary.\n\nDisplay all the unique values in the class column.",
   "metadata": {
    "colab_type": "text",
    "id": "m6S7Y6VXhYct",
    "cell_id": "00024-8a1edc63-74ea-4cba-a90c-fdf37ae72aff",
    "deepnote_cell_type": "markdown",
    "deepnote_cell_height": 88.796875
   }
  },
  {
   "cell_type": "markdown",
   "source": "But let's make it binary for the sake of this example anyway. If you finish early later on, try the multiclass classifier with all 4 values!",
   "metadata": {
    "colab_type": "text",
    "id": "aBrmRJHakpWm",
    "cell_id": "00027-bc19a1a8-2b37-4db2-9946-bed387f46491",
    "deepnote_cell_type": "markdown",
    "deepnote_cell_height": 74.796875
   }
  },
  {
   "cell_type": "code",
   "metadata": {
    "colab": {
     "autoexec": {
      "startup": false,
      "wait_interval": 0
     }
    },
    "colab_type": "code",
    "id": "HwqVoUFTkoa0",
    "deepnote_to_be_reexecuted": false,
    "source_hash": "f70a34c6",
    "execution_start": 1657910259458,
    "execution_millis": 1051,
    "cell_id": "00028-dac19904-1073-43b7-b493-5a21f530d22c",
    "deepnote_cell_type": "code",
    "deepnote_cell_height": 189,
    "deepnote_output_heights": [
     232.34375
    ]
   },
   "source": "\nfor i in range(dataset.shape[0]):\n    if(dataset.loc[i, 'Class'] == 'negative'):\n        dataset.loc[i, 'Class'] = 0\n    else:\n        dataset.loc[i, 'Class'] = 1\n",
   "execution_count": 7,
   "outputs": []
  },
  {
   "cell_type": "markdown",
   "source": "Before we move on, let's not forget to run the describe() function on just  your categorical columns, too.\nCompare it to the describe() that your numeric columns produce.",
   "metadata": {
    "colab_type": "text",
    "id": "jbgWOvekhluw",
    "cell_id": "00029-c07b6005-83b1-48a9-8968-e5624543128c",
    "deepnote_cell_type": "markdown",
    "deepnote_cell_height": 74.796875
   }
  },
  {
   "cell_type": "markdown",
   "source": "Great! Let's see if there's any other records we have to address. count() is a nice way to check if we have any other missing values.",
   "metadata": {
    "colab_type": "text",
    "id": "Jo9aRzltCOK8",
    "cell_id": "00031-803fefb3-5b56-4ab4-9058-294123fc10ea",
    "deepnote_cell_type": "markdown",
    "deepnote_cell_height": 74.796875
   }
  },
  {
   "cell_type": "markdown",
   "source": "We could replace the missing values in proportion to the current number of males and females over the total, but that is making an assumption we don't have to make. For now, let's simply cut the records of all these sexless people out of our data.",
   "metadata": {
    "colab_type": "text",
    "id": "-Y9DDq8qCeL8",
    "cell_id": "00033-ea2da53f-7dc7-4b03-8390-7c551195fbaf",
    "deepnote_cell_type": "markdown",
    "deepnote_cell_height": 97.1875
   }
  },
  {
   "cell_type": "code",
   "metadata": {
    "colab": {
     "autoexec": {
      "startup": false,
      "wait_interval": 0
     }
    },
    "colab_type": "code",
    "id": "1E6qS7F5zyt3",
    "deepnote_to_be_reexecuted": false,
    "source_hash": "3256d8bc",
    "execution_start": 1657910260512,
    "execution_millis": 9,
    "cell_id": "00034-0c6e9272-b7df-4575-a302-4635cf83c1d0",
    "deepnote_cell_type": "code",
    "deepnote_cell_height": 81,
    "deepnote_output_heights": [
     558.65625
    ]
   },
   "source": "dataset = dataset[(dataset[\"Sex\"]==\"M\") | (dataset[\"Sex\"]==\"F\")] ",
   "execution_count": 8,
   "outputs": []
  },
  {
   "cell_type": "code",
   "metadata": {
    "tags": [],
    "deepnote_to_be_reexecuted": false,
    "source_hash": "4aa98619",
    "execution_start": 1657910260552,
    "execution_millis": 25,
    "cell_id": "00036-b236bd48-0f3b-4612-ac06-b88c25be938c",
    "deepnote_cell_type": "code",
    "deepnote_cell_height": 153
   },
   "source": "for i in numeric_columns:\n    dataset[i] = pd.to_numeric(dataset[i])\n\n\n",
   "execution_count": 9,
   "outputs": []
  },
  {
   "cell_type": "markdown",
   "source": "Nice! Now we have a pretty clean dataset to work with. Let's now do some further data analysis and visualization to better understand what we're working with.",
   "metadata": {
    "colab_type": "text",
    "id": "eTcS25EHF4vL",
    "cell_id": "00037-8ac18191-0cdb-4847-aa17-fd7ff51d6fc2",
    "deepnote_cell_type": "markdown",
    "deepnote_cell_height": 74.796875
   }
  },
  {
   "cell_type": "markdown",
   "source": "## Data analysis and visualization",
   "metadata": {
    "colab_type": "text",
    "id": "SsiaTCjQql3S",
    "cell_id": "00038-ce0fe2a7-fca1-4df6-8c08-a393e27902ee",
    "deepnote_cell_type": "markdown",
    "deepnote_cell_height": 70
   }
  },
  {
   "cell_type": "markdown",
   "source": "Check the correlation of the dataset",
   "metadata": {
    "colab_type": "text",
    "id": "huFOG2Mw3OqJ",
    "cell_id": "00039-a1e553ed-cbe7-43ce-bc6b-020eb06a0b6e",
    "deepnote_cell_type": "markdown",
    "deepnote_cell_height": 52.390625
   }
  },
  {
   "cell_type": "markdown",
   "source": "Convert the class feature to numeric so we can also see the correlations it has with the numeric features, and check the correlation again.",
   "metadata": {
    "colab_type": "text",
    "id": "scfm6AEv3YIJ",
    "cell_id": "00041-7dff44ea-7c85-44e5-9a5e-b03909107cec",
    "deepnote_cell_type": "markdown",
    "deepnote_cell_height": 74.796875
   }
  },
  {
   "cell_type": "markdown",
   "source": "Let's do some further visual analysis using a new module called seaborn. Explore its incredible versatility and diversity with data visualization here: https://seaborn.pydata.org/",
   "metadata": {
    "colab_type": "text",
    "id": "tp4yO5kUGd3L",
    "cell_id": "00043-bfe2c7a9-822f-4b1f-bfb4-b3a4e7afa52f",
    "deepnote_cell_type": "markdown",
    "deepnote_cell_height": 74.796875
   }
  },
  {
   "cell_type": "markdown",
   "source": "import seaborn as sns\n#sns.pairplot(dataset)\ndataset",
   "metadata": {
    "colab": {
     "autoexec": {
      "startup": false,
      "wait_interval": 0
     }
    },
    "colab_type": "code",
    "id": "JzkaBa64aXzb",
    "deepnote_to_be_reexecuted": false,
    "source_hash": "29d41f12",
    "execution_start": 1657832979605,
    "execution_millis": 1472,
    "cell_id": "00044-f25bdf7c-aba0-43c5-bc3f-bad789ebb414",
    "deepnote_cell_type": "markdown",
    "deepnote_cell_height": 52.390625
   }
  },
  {
   "cell_type": "markdown",
   "source": "OK! I think we're ready to create and select some supervised learning models. To get the ball rolling, select Age and Sex as our explanatory features (and class as the target feature, obviously).",
   "metadata": {
    "colab_type": "text",
    "id": "mvW7_0aWFSEm",
    "owner_user_id": "ebd09714-693c-4027-a801-7e8a920b6a58",
    "cell_id": "00045-5f761fe6-fa09-484f-94a4-5f8614b4c5cb",
    "deepnote_cell_type": "markdown",
    "deepnote_cell_height": 74.796875
   }
  },
  {
   "cell_type": "markdown",
   "source": "## Model training and selection",
   "metadata": {
    "colab_type": "text",
    "id": "JXMQ9UaKqyha",
    "cell_id": "00046-685a5ab9-2c42-46cb-beab-76876e211fcc",
    "deepnote_cell_type": "markdown",
    "deepnote_cell_height": 70
   }
  },
  {
   "cell_type": "markdown",
   "source": "Let's dummy the categorical variables (but not the class value!) and view the column names to select some for our model.",
   "metadata": {
    "colab_type": "text",
    "id": "Mon3ih88tW8y",
    "cell_id": "00047-f4e89851-463a-4684-92b6-db2254ecd5ed",
    "deepnote_cell_type": "markdown",
    "deepnote_cell_height": 52.390625
   }
  },
  {
   "cell_type": "code",
   "metadata": {
    "colab": {
     "autoexec": {
      "startup": false,
      "wait_interval": 0
     }
    },
    "colab_type": "code",
    "id": "1NqvPYi6itkH",
    "deepnote_to_be_reexecuted": false,
    "source_hash": "404f7310",
    "execution_start": 1657910260582,
    "execution_millis": 844,
    "deepnote_table_state": {
     "pageSize": 10,
     "pageIndex": 261,
     "filters": [],
     "sortBy": []
    },
    "deepnote_table_loading": false,
    "deepnote_table_invalid": false,
    "cell_id": "00048-6fb1bae1-19d2-4a18-99c5-640e45a19e35",
    "deepnote_cell_type": "code",
    "deepnote_cell_height": 654
   },
   "source": "for i in (categorical_columns):\n    df = pd.get_dummies(dataset[i])\n    dataset[i] = df.iloc[:,1]\ndataset",
   "execution_count": 10,
   "outputs": [
    {
     "output_type": "execute_result",
     "execution_count": 10,
     "data": {
      "application/vnd.deepnote.dataframe.v3+json": {
       "column_count": 28,
       "row_count": 2690,
       "columns": [
        {
         "name": "Age",
         "dtype": "float64",
         "stats": {
          "unique_count": 93,
          "nan_count": 1,
          "min": "1.0",
          "max": "455.0",
          "histogram": [
           {
            "bin_start": 1,
            "bin_end": 46.4,
            "count": 1049
           },
           {
            "bin_start": 46.4,
            "bin_end": 91.8,
            "count": 1635
           },
           {
            "bin_start": 91.8,
            "bin_end": 137.2,
            "count": 4
           },
           {
            "bin_start": 137.2,
            "bin_end": 182.6,
            "count": 0
           },
           {
            "bin_start": 182.6,
            "bin_end": 228,
            "count": 0
           },
           {
            "bin_start": 228,
            "bin_end": 273.4,
            "count": 0
           },
           {
            "bin_start": 273.4,
            "bin_end": 318.8,
            "count": 0
           },
           {
            "bin_start": 318.8,
            "bin_end": 364.2,
            "count": 0
           },
           {
            "bin_start": 364.2,
            "bin_end": 409.59999999999997,
            "count": 0
           },
           {
            "bin_start": 409.59999999999997,
            "bin_end": 455,
            "count": 1
           }
          ]
         }
        },
        {
         "name": "Sex",
         "dtype": "uint8",
         "stats": {
          "unique_count": 2,
          "nan_count": 0,
          "min": "0",
          "max": "1",
          "histogram": [
           {
            "bin_start": 0,
            "bin_end": 0.1,
            "count": 1830
           },
           {
            "bin_start": 0.1,
            "bin_end": 0.2,
            "count": 0
           },
           {
            "bin_start": 0.2,
            "bin_end": 0.30000000000000004,
            "count": 0
           },
           {
            "bin_start": 0.30000000000000004,
            "bin_end": 0.4,
            "count": 0
           },
           {
            "bin_start": 0.4,
            "bin_end": 0.5,
            "count": 0
           },
           {
            "bin_start": 0.5,
            "bin_end": 0.6000000000000001,
            "count": 0
           },
           {
            "bin_start": 0.6000000000000001,
            "bin_end": 0.7000000000000001,
            "count": 0
           },
           {
            "bin_start": 0.7000000000000001,
            "bin_end": 0.8,
            "count": 0
           },
           {
            "bin_start": 0.8,
            "bin_end": 0.9,
            "count": 0
           },
           {
            "bin_start": 0.9,
            "bin_end": 1,
            "count": 860
           }
          ]
         }
        },
        {
         "name": "On Thyroxine",
         "dtype": "uint8",
         "stats": {
          "unique_count": 2,
          "nan_count": 0,
          "min": "0",
          "max": "1",
          "histogram": [
           {
            "bin_start": 0,
            "bin_end": 0.1,
            "count": 2368
           },
           {
            "bin_start": 0.1,
            "bin_end": 0.2,
            "count": 0
           },
           {
            "bin_start": 0.2,
            "bin_end": 0.30000000000000004,
            "count": 0
           },
           {
            "bin_start": 0.30000000000000004,
            "bin_end": 0.4,
            "count": 0
           },
           {
            "bin_start": 0.4,
            "bin_end": 0.5,
            "count": 0
           },
           {
            "bin_start": 0.5,
            "bin_end": 0.6000000000000001,
            "count": 0
           },
           {
            "bin_start": 0.6000000000000001,
            "bin_end": 0.7000000000000001,
            "count": 0
           },
           {
            "bin_start": 0.7000000000000001,
            "bin_end": 0.8,
            "count": 0
           },
           {
            "bin_start": 0.8,
            "bin_end": 0.9,
            "count": 0
           },
           {
            "bin_start": 0.9,
            "bin_end": 1,
            "count": 322
           }
          ]
         }
        },
        {
         "name": "Query on Thyroxine",
         "dtype": "uint8",
         "stats": {
          "unique_count": 2,
          "nan_count": 0,
          "min": "0",
          "max": "1",
          "histogram": [
           {
            "bin_start": 0,
            "bin_end": 0.1,
            "count": 2650
           },
           {
            "bin_start": 0.1,
            "bin_end": 0.2,
            "count": 0
           },
           {
            "bin_start": 0.2,
            "bin_end": 0.30000000000000004,
            "count": 0
           },
           {
            "bin_start": 0.30000000000000004,
            "bin_end": 0.4,
            "count": 0
           },
           {
            "bin_start": 0.4,
            "bin_end": 0.5,
            "count": 0
           },
           {
            "bin_start": 0.5,
            "bin_end": 0.6000000000000001,
            "count": 0
           },
           {
            "bin_start": 0.6000000000000001,
            "bin_end": 0.7000000000000001,
            "count": 0
           },
           {
            "bin_start": 0.7000000000000001,
            "bin_end": 0.8,
            "count": 0
           },
           {
            "bin_start": 0.8,
            "bin_end": 0.9,
            "count": 0
           },
           {
            "bin_start": 0.9,
            "bin_end": 1,
            "count": 40
           }
          ]
         }
        },
        {
         "name": "On Antithyroid Medication",
         "dtype": "uint8",
         "stats": {
          "unique_count": 2,
          "nan_count": 0,
          "min": "0",
          "max": "1",
          "histogram": [
           {
            "bin_start": 0,
            "bin_end": 0.1,
            "count": 2656
           },
           {
            "bin_start": 0.1,
            "bin_end": 0.2,
            "count": 0
           },
           {
            "bin_start": 0.2,
            "bin_end": 0.30000000000000004,
            "count": 0
           },
           {
            "bin_start": 0.30000000000000004,
            "bin_end": 0.4,
            "count": 0
           },
           {
            "bin_start": 0.4,
            "bin_end": 0.5,
            "count": 0
           },
           {
            "bin_start": 0.5,
            "bin_end": 0.6000000000000001,
            "count": 0
           },
           {
            "bin_start": 0.6000000000000001,
            "bin_end": 0.7000000000000001,
            "count": 0
           },
           {
            "bin_start": 0.7000000000000001,
            "bin_end": 0.8,
            "count": 0
           },
           {
            "bin_start": 0.8,
            "bin_end": 0.9,
            "count": 0
           },
           {
            "bin_start": 0.9,
            "bin_end": 1,
            "count": 34
           }
          ]
         }
        },
        {
         "name": "Sick",
         "dtype": "uint8",
         "stats": {
          "unique_count": 2,
          "nan_count": 0,
          "min": "0",
          "max": "1",
          "histogram": [
           {
            "bin_start": 0,
            "bin_end": 0.1,
            "count": 2582
           },
           {
            "bin_start": 0.1,
            "bin_end": 0.2,
            "count": 0
           },
           {
            "bin_start": 0.2,
            "bin_end": 0.30000000000000004,
            "count": 0
           },
           {
            "bin_start": 0.30000000000000004,
            "bin_end": 0.4,
            "count": 0
           },
           {
            "bin_start": 0.4,
            "bin_end": 0.5,
            "count": 0
           },
           {
            "bin_start": 0.5,
            "bin_end": 0.6000000000000001,
            "count": 0
           },
           {
            "bin_start": 0.6000000000000001,
            "bin_end": 0.7000000000000001,
            "count": 0
           },
           {
            "bin_start": 0.7000000000000001,
            "bin_end": 0.8,
            "count": 0
           },
           {
            "bin_start": 0.8,
            "bin_end": 0.9,
            "count": 0
           },
           {
            "bin_start": 0.9,
            "bin_end": 1,
            "count": 108
           }
          ]
         }
        },
        {
         "name": "Pregnant",
         "dtype": "uint8",
         "stats": {
          "unique_count": 2,
          "nan_count": 0,
          "min": "0",
          "max": "1",
          "histogram": [
           {
            "bin_start": 0,
            "bin_end": 0.1,
            "count": 2650
           },
           {
            "bin_start": 0.1,
            "bin_end": 0.2,
            "count": 0
           },
           {
            "bin_start": 0.2,
            "bin_end": 0.30000000000000004,
            "count": 0
           },
           {
            "bin_start": 0.30000000000000004,
            "bin_end": 0.4,
            "count": 0
           },
           {
            "bin_start": 0.4,
            "bin_end": 0.5,
            "count": 0
           },
           {
            "bin_start": 0.5,
            "bin_end": 0.6000000000000001,
            "count": 0
           },
           {
            "bin_start": 0.6000000000000001,
            "bin_end": 0.7000000000000001,
            "count": 0
           },
           {
            "bin_start": 0.7000000000000001,
            "bin_end": 0.8,
            "count": 0
           },
           {
            "bin_start": 0.8,
            "bin_end": 0.9,
            "count": 0
           },
           {
            "bin_start": 0.9,
            "bin_end": 1,
            "count": 40
           }
          ]
         }
        },
        {
         "name": "Thyroid Surgery",
         "dtype": "uint8",
         "stats": {
          "unique_count": 2,
          "nan_count": 0,
          "min": "0",
          "max": "1",
          "histogram": [
           {
            "bin_start": 0,
            "bin_end": 0.1,
            "count": 2651
           },
           {
            "bin_start": 0.1,
            "bin_end": 0.2,
            "count": 0
           },
           {
            "bin_start": 0.2,
            "bin_end": 0.30000000000000004,
            "count": 0
           },
           {
            "bin_start": 0.30000000000000004,
            "bin_end": 0.4,
            "count": 0
           },
           {
            "bin_start": 0.4,
            "bin_end": 0.5,
            "count": 0
           },
           {
            "bin_start": 0.5,
            "bin_end": 0.6000000000000001,
            "count": 0
           },
           {
            "bin_start": 0.6000000000000001,
            "bin_end": 0.7000000000000001,
            "count": 0
           },
           {
            "bin_start": 0.7000000000000001,
            "bin_end": 0.8,
            "count": 0
           },
           {
            "bin_start": 0.8,
            "bin_end": 0.9,
            "count": 0
           },
           {
            "bin_start": 0.9,
            "bin_end": 1,
            "count": 39
           }
          ]
         }
        },
        {
         "name": "I131 Treatment",
         "dtype": "uint8",
         "stats": {
          "unique_count": 2,
          "nan_count": 0,
          "min": "0",
          "max": "1",
          "histogram": [
           {
            "bin_start": 0,
            "bin_end": 0.1,
            "count": 2645
           },
           {
            "bin_start": 0.1,
            "bin_end": 0.2,
            "count": 0
           },
           {
            "bin_start": 0.2,
            "bin_end": 0.30000000000000004,
            "count": 0
           },
           {
            "bin_start": 0.30000000000000004,
            "bin_end": 0.4,
            "count": 0
           },
           {
            "bin_start": 0.4,
            "bin_end": 0.5,
            "count": 0
           },
           {
            "bin_start": 0.5,
            "bin_end": 0.6000000000000001,
            "count": 0
           },
           {
            "bin_start": 0.6000000000000001,
            "bin_end": 0.7000000000000001,
            "count": 0
           },
           {
            "bin_start": 0.7000000000000001,
            "bin_end": 0.8,
            "count": 0
           },
           {
            "bin_start": 0.8,
            "bin_end": 0.9,
            "count": 0
           },
           {
            "bin_start": 0.9,
            "bin_end": 1,
            "count": 45
           }
          ]
         }
        },
        {
         "name": "Query Hypothyroid",
         "dtype": "uint8",
         "stats": {
          "unique_count": 2,
          "nan_count": 0,
          "min": "0",
          "max": "1",
          "histogram": [
           {
            "bin_start": 0,
            "bin_end": 0.1,
            "count": 2530
           },
           {
            "bin_start": 0.1,
            "bin_end": 0.2,
            "count": 0
           },
           {
            "bin_start": 0.2,
            "bin_end": 0.30000000000000004,
            "count": 0
           },
           {
            "bin_start": 0.30000000000000004,
            "bin_end": 0.4,
            "count": 0
           },
           {
            "bin_start": 0.4,
            "bin_end": 0.5,
            "count": 0
           },
           {
            "bin_start": 0.5,
            "bin_end": 0.6000000000000001,
            "count": 0
           },
           {
            "bin_start": 0.6000000000000001,
            "bin_end": 0.7000000000000001,
            "count": 0
           },
           {
            "bin_start": 0.7000000000000001,
            "bin_end": 0.8,
            "count": 0
           },
           {
            "bin_start": 0.8,
            "bin_end": 0.9,
            "count": 0
           },
           {
            "bin_start": 0.9,
            "bin_end": 1,
            "count": 160
           }
          ]
         }
        },
        {
         "name": "Query Hyperthyroid",
         "dtype": "uint8",
         "stats": {
          "unique_count": 2,
          "nan_count": 0,
          "min": "0",
          "max": "1",
          "histogram": [
           {
            "bin_start": 0,
            "bin_end": 0.1,
            "count": 2522
           },
           {
            "bin_start": 0.1,
            "bin_end": 0.2,
            "count": 0
           },
           {
            "bin_start": 0.2,
            "bin_end": 0.30000000000000004,
            "count": 0
           },
           {
            "bin_start": 0.30000000000000004,
            "bin_end": 0.4,
            "count": 0
           },
           {
            "bin_start": 0.4,
            "bin_end": 0.5,
            "count": 0
           },
           {
            "bin_start": 0.5,
            "bin_end": 0.6000000000000001,
            "count": 0
           },
           {
            "bin_start": 0.6000000000000001,
            "bin_end": 0.7000000000000001,
            "count": 0
           },
           {
            "bin_start": 0.7000000000000001,
            "bin_end": 0.8,
            "count": 0
           },
           {
            "bin_start": 0.8,
            "bin_end": 0.9,
            "count": 0
           },
           {
            "bin_start": 0.9,
            "bin_end": 1,
            "count": 168
           }
          ]
         }
        },
        {
         "name": "Lithium",
         "dtype": "uint8",
         "stats": {
          "unique_count": 2,
          "nan_count": 0,
          "min": "0",
          "max": "1",
          "histogram": [
           {
            "bin_start": 0,
            "bin_end": 0.1,
            "count": 2676
           },
           {
            "bin_start": 0.1,
            "bin_end": 0.2,
            "count": 0
           },
           {
            "bin_start": 0.2,
            "bin_end": 0.30000000000000004,
            "count": 0
           },
           {
            "bin_start": 0.30000000000000004,
            "bin_end": 0.4,
            "count": 0
           },
           {
            "bin_start": 0.4,
            "bin_end": 0.5,
            "count": 0
           },
           {
            "bin_start": 0.5,
            "bin_end": 0.6000000000000001,
            "count": 0
           },
           {
            "bin_start": 0.6000000000000001,
            "bin_end": 0.7000000000000001,
            "count": 0
           },
           {
            "bin_start": 0.7000000000000001,
            "bin_end": 0.8,
            "count": 0
           },
           {
            "bin_start": 0.8,
            "bin_end": 0.9,
            "count": 0
           },
           {
            "bin_start": 0.9,
            "bin_end": 1,
            "count": 14
           }
          ]
         }
        },
        {
         "name": "Goiter",
         "dtype": "uint8",
         "stats": {
          "unique_count": 2,
          "nan_count": 0,
          "min": "0",
          "max": "1",
          "histogram": [
           {
            "bin_start": 0,
            "bin_end": 0.1,
            "count": 2665
           },
           {
            "bin_start": 0.1,
            "bin_end": 0.2,
            "count": 0
           },
           {
            "bin_start": 0.2,
            "bin_end": 0.30000000000000004,
            "count": 0
           },
           {
            "bin_start": 0.30000000000000004,
            "bin_end": 0.4,
            "count": 0
           },
           {
            "bin_start": 0.4,
            "bin_end": 0.5,
            "count": 0
           },
           {
            "bin_start": 0.5,
            "bin_end": 0.6000000000000001,
            "count": 0
           },
           {
            "bin_start": 0.6000000000000001,
            "bin_end": 0.7000000000000001,
            "count": 0
           },
           {
            "bin_start": 0.7000000000000001,
            "bin_end": 0.8,
            "count": 0
           },
           {
            "bin_start": 0.8,
            "bin_end": 0.9,
            "count": 0
           },
           {
            "bin_start": 0.9,
            "bin_end": 1,
            "count": 25
           }
          ]
         }
        },
        {
         "name": "Tumor",
         "dtype": "uint8",
         "stats": {
          "unique_count": 2,
          "nan_count": 0,
          "min": "0",
          "max": "1",
          "histogram": [
           {
            "bin_start": 0,
            "bin_end": 0.1,
            "count": 2620
           },
           {
            "bin_start": 0.1,
            "bin_end": 0.2,
            "count": 0
           },
           {
            "bin_start": 0.2,
            "bin_end": 0.30000000000000004,
            "count": 0
           },
           {
            "bin_start": 0.30000000000000004,
            "bin_end": 0.4,
            "count": 0
           },
           {
            "bin_start": 0.4,
            "bin_end": 0.5,
            "count": 0
           },
           {
            "bin_start": 0.5,
            "bin_end": 0.6000000000000001,
            "count": 0
           },
           {
            "bin_start": 0.6000000000000001,
            "bin_end": 0.7000000000000001,
            "count": 0
           },
           {
            "bin_start": 0.7000000000000001,
            "bin_end": 0.8,
            "count": 0
           },
           {
            "bin_start": 0.8,
            "bin_end": 0.9,
            "count": 0
           },
           {
            "bin_start": 0.9,
            "bin_end": 1,
            "count": 70
           }
          ]
         }
        },
        {
         "name": "Hypopituitary",
         "dtype": "uint8",
         "stats": {
          "unique_count": 2,
          "nan_count": 0,
          "min": "0",
          "max": "1",
          "histogram": [
           {
            "bin_start": 0,
            "bin_end": 0.1,
            "count": 2689
           },
           {
            "bin_start": 0.1,
            "bin_end": 0.2,
            "count": 0
           },
           {
            "bin_start": 0.2,
            "bin_end": 0.30000000000000004,
            "count": 0
           },
           {
            "bin_start": 0.30000000000000004,
            "bin_end": 0.4,
            "count": 0
           },
           {
            "bin_start": 0.4,
            "bin_end": 0.5,
            "count": 0
           },
           {
            "bin_start": 0.5,
            "bin_end": 0.6000000000000001,
            "count": 0
           },
           {
            "bin_start": 0.6000000000000001,
            "bin_end": 0.7000000000000001,
            "count": 0
           },
           {
            "bin_start": 0.7000000000000001,
            "bin_end": 0.8,
            "count": 0
           },
           {
            "bin_start": 0.8,
            "bin_end": 0.9,
            "count": 0
           },
           {
            "bin_start": 0.9,
            "bin_end": 1,
            "count": 1
           }
          ]
         }
        },
        {
         "name": "Psych",
         "dtype": "uint8",
         "stats": {
          "unique_count": 2,
          "nan_count": 0,
          "min": "0",
          "max": "1",
          "histogram": [
           {
            "bin_start": 0,
            "bin_end": 0.1,
            "count": 2556
           },
           {
            "bin_start": 0.1,
            "bin_end": 0.2,
            "count": 0
           },
           {
            "bin_start": 0.2,
            "bin_end": 0.30000000000000004,
            "count": 0
           },
           {
            "bin_start": 0.30000000000000004,
            "bin_end": 0.4,
            "count": 0
           },
           {
            "bin_start": 0.4,
            "bin_end": 0.5,
            "count": 0
           },
           {
            "bin_start": 0.5,
            "bin_end": 0.6000000000000001,
            "count": 0
           },
           {
            "bin_start": 0.6000000000000001,
            "bin_end": 0.7000000000000001,
            "count": 0
           },
           {
            "bin_start": 0.7000000000000001,
            "bin_end": 0.8,
            "count": 0
           },
           {
            "bin_start": 0.8,
            "bin_end": 0.9,
            "count": 0
           },
           {
            "bin_start": 0.9,
            "bin_end": 1,
            "count": 134
           }
          ]
         }
        },
        {
         "name": "TSH Measured",
         "dtype": "uint8",
         "stats": {
          "unique_count": 2,
          "nan_count": 0,
          "min": "0",
          "max": "1",
          "histogram": [
           {
            "bin_start": 0,
            "bin_end": 0.1,
            "count": 271
           },
           {
            "bin_start": 0.1,
            "bin_end": 0.2,
            "count": 0
           },
           {
            "bin_start": 0.2,
            "bin_end": 0.30000000000000004,
            "count": 0
           },
           {
            "bin_start": 0.30000000000000004,
            "bin_end": 0.4,
            "count": 0
           },
           {
            "bin_start": 0.4,
            "bin_end": 0.5,
            "count": 0
           },
           {
            "bin_start": 0.5,
            "bin_end": 0.6000000000000001,
            "count": 0
           },
           {
            "bin_start": 0.6000000000000001,
            "bin_end": 0.7000000000000001,
            "count": 0
           },
           {
            "bin_start": 0.7000000000000001,
            "bin_end": 0.8,
            "count": 0
           },
           {
            "bin_start": 0.8,
            "bin_end": 0.9,
            "count": 0
           },
           {
            "bin_start": 0.9,
            "bin_end": 1,
            "count": 2419
           }
          ]
         }
        },
        {
         "name": "TSH",
         "dtype": "float64",
         "stats": {
          "unique_count": 261,
          "nan_count": 271,
          "min": "0.005",
          "max": "478.0",
          "histogram": [
           {
            "bin_start": 0.005,
            "bin_end": 47.804500000000004,
            "count": 2382
           },
           {
            "bin_start": 47.804500000000004,
            "bin_end": 95.604,
            "count": 16
           },
           {
            "bin_start": 95.604,
            "bin_end": 143.4035,
            "count": 10
           },
           {
            "bin_start": 143.4035,
            "bin_end": 191.203,
            "count": 8
           },
           {
            "bin_start": 191.203,
            "bin_end": 239.0025,
            "count": 1
           },
           {
            "bin_start": 239.0025,
            "bin_end": 286.802,
            "count": 0
           },
           {
            "bin_start": 286.802,
            "bin_end": 334.6015,
            "count": 0
           },
           {
            "bin_start": 334.6015,
            "bin_end": 382.401,
            "count": 0
           },
           {
            "bin_start": 382.401,
            "bin_end": 430.20050000000003,
            "count": 0
           },
           {
            "bin_start": 430.20050000000003,
            "bin_end": 478,
            "count": 2
           }
          ]
         }
        },
        {
         "name": "T3 Measured",
         "dtype": "uint8",
         "stats": {
          "unique_count": 2,
          "nan_count": 0,
          "min": "0",
          "max": "1",
          "histogram": [
           {
            "bin_start": 0,
            "bin_end": 0.1,
            "count": 570
           },
           {
            "bin_start": 0.1,
            "bin_end": 0.2,
            "count": 0
           },
           {
            "bin_start": 0.2,
            "bin_end": 0.30000000000000004,
            "count": 0
           },
           {
            "bin_start": 0.30000000000000004,
            "bin_end": 0.4,
            "count": 0
           },
           {
            "bin_start": 0.4,
            "bin_end": 0.5,
            "count": 0
           },
           {
            "bin_start": 0.5,
            "bin_end": 0.6000000000000001,
            "count": 0
           },
           {
            "bin_start": 0.6000000000000001,
            "bin_end": 0.7000000000000001,
            "count": 0
           },
           {
            "bin_start": 0.7000000000000001,
            "bin_end": 0.8,
            "count": 0
           },
           {
            "bin_start": 0.8,
            "bin_end": 0.9,
            "count": 0
           },
           {
            "bin_start": 0.9,
            "bin_end": 1,
            "count": 2120
           }
          ]
         }
        },
        {
         "name": "T3",
         "dtype": "float64",
         "stats": {
          "unique_count": 64,
          "nan_count": 570,
          "min": "0.05",
          "max": "10.6",
          "histogram": [
           {
            "bin_start": 0.05,
            "bin_end": 1.105,
            "count": 212
           },
           {
            "bin_start": 1.105,
            "bin_end": 2.1599999999999997,
            "count": 1087
           },
           {
            "bin_start": 2.1599999999999997,
            "bin_end": 3.215,
            "count": 698
           },
           {
            "bin_start": 3.215,
            "bin_end": 4.27,
            "count": 85
           },
           {
            "bin_start": 4.27,
            "bin_end": 5.324999999999999,
            "count": 25
           },
           {
            "bin_start": 5.324999999999999,
            "bin_end": 6.38,
            "count": 8
           },
           {
            "bin_start": 6.38,
            "bin_end": 7.435,
            "count": 4
           },
           {
            "bin_start": 7.435,
            "bin_end": 8.49,
            "count": 0
           },
           {
            "bin_start": 8.49,
            "bin_end": 9.545,
            "count": 0
           },
           {
            "bin_start": 9.545,
            "bin_end": 10.6,
            "count": 1
           }
          ]
         }
        },
        {
         "name": "TT4 Measured",
         "dtype": "uint8",
         "stats": {
          "unique_count": 2,
          "nan_count": 0,
          "min": "0",
          "max": "1",
          "histogram": [
           {
            "bin_start": 0,
            "bin_end": 0.1,
            "count": 172
           },
           {
            "bin_start": 0.1,
            "bin_end": 0.2,
            "count": 0
           },
           {
            "bin_start": 0.2,
            "bin_end": 0.30000000000000004,
            "count": 0
           },
           {
            "bin_start": 0.30000000000000004,
            "bin_end": 0.4,
            "count": 0
           },
           {
            "bin_start": 0.4,
            "bin_end": 0.5,
            "count": 0
           },
           {
            "bin_start": 0.5,
            "bin_end": 0.6000000000000001,
            "count": 0
           },
           {
            "bin_start": 0.6000000000000001,
            "bin_end": 0.7000000000000001,
            "count": 0
           },
           {
            "bin_start": 0.7000000000000001,
            "bin_end": 0.8,
            "count": 0
           },
           {
            "bin_start": 0.8,
            "bin_end": 0.9,
            "count": 0
           },
           {
            "bin_start": 0.9,
            "bin_end": 1,
            "count": 2518
           }
          ]
         }
        },
        {
         "name": "TT4",
         "dtype": "float64",
         "stats": {
          "unique_count": 212,
          "nan_count": 172,
          "min": "2.0",
          "max": "430.0",
          "histogram": [
           {
            "bin_start": 2,
            "bin_end": 44.8,
            "count": 50
           },
           {
            "bin_start": 44.8,
            "bin_end": 87.6,
            "count": 569
           },
           {
            "bin_start": 87.6,
            "bin_end": 130.39999999999998,
            "count": 1370
           },
           {
            "bin_start": 130.39999999999998,
            "bin_end": 173.2,
            "count": 410
           },
           {
            "bin_start": 173.2,
            "bin_end": 216,
            "count": 93
           },
           {
            "bin_start": 216,
            "bin_end": 258.79999999999995,
            "count": 20
           },
           {
            "bin_start": 258.79999999999995,
            "bin_end": 301.59999999999997,
            "count": 4
           },
           {
            "bin_start": 301.59999999999997,
            "bin_end": 344.4,
            "count": 0
           },
           {
            "bin_start": 344.4,
            "bin_end": 387.2,
            "count": 0
           },
           {
            "bin_start": 387.2,
            "bin_end": 430,
            "count": 2
           }
          ]
         }
        },
        {
         "name": "T4U Measured",
         "dtype": "uint8",
         "stats": {
          "unique_count": 2,
          "nan_count": 0,
          "min": "0",
          "max": "1",
          "histogram": [
           {
            "bin_start": 0,
            "bin_end": 0.1,
            "count": 280
           },
           {
            "bin_start": 0.1,
            "bin_end": 0.2,
            "count": 0
           },
           {
            "bin_start": 0.2,
            "bin_end": 0.30000000000000004,
            "count": 0
           },
           {
            "bin_start": 0.30000000000000004,
            "bin_end": 0.4,
            "count": 0
           },
           {
            "bin_start": 0.4,
            "bin_end": 0.5,
            "count": 0
           },
           {
            "bin_start": 0.5,
            "bin_end": 0.6000000000000001,
            "count": 0
           },
           {
            "bin_start": 0.6000000000000001,
            "bin_end": 0.7000000000000001,
            "count": 0
           },
           {
            "bin_start": 0.7000000000000001,
            "bin_end": 0.8,
            "count": 0
           },
           {
            "bin_start": 0.8,
            "bin_end": 0.9,
            "count": 0
           },
           {
            "bin_start": 0.9,
            "bin_end": 1,
            "count": 2410
           }
          ]
         }
        },
        {
         "name": "T4U",
         "dtype": "float64",
         "stats": {
          "unique_count": 137,
          "nan_count": 280,
          "min": "0.31",
          "max": "2.12",
          "histogram": [
           {
            "bin_start": 0.31,
            "bin_end": 0.491,
            "count": 4
           },
           {
            "bin_start": 0.491,
            "bin_end": 0.6719999999999999,
            "count": 47
           },
           {
            "bin_start": 0.6719999999999999,
            "bin_end": 0.853,
            "count": 433
           },
           {
            "bin_start": 0.853,
            "bin_end": 1.034,
            "count": 1069
           },
           {
            "bin_start": 1.034,
            "bin_end": 1.215,
            "count": 635
           },
           {
            "bin_start": 1.215,
            "bin_end": 1.396,
            "count": 126
           },
           {
            "bin_start": 1.396,
            "bin_end": 1.577,
            "count": 46
           },
           {
            "bin_start": 1.577,
            "bin_end": 1.758,
            "count": 34
           },
           {
            "bin_start": 1.758,
            "bin_end": 1.939,
            "count": 12
           },
           {
            "bin_start": 1.939,
            "bin_end": 2.12,
            "count": 4
           }
          ]
         }
        },
        {
         "name": "FTI Measured",
         "dtype": "uint8",
         "stats": {
          "unique_count": 2,
          "nan_count": 0,
          "min": "0",
          "max": "1",
          "histogram": [
           {
            "bin_start": 0,
            "bin_end": 0.1,
            "count": 278
           },
           {
            "bin_start": 0.1,
            "bin_end": 0.2,
            "count": 0
           },
           {
            "bin_start": 0.2,
            "bin_end": 0.30000000000000004,
            "count": 0
           },
           {
            "bin_start": 0.30000000000000004,
            "bin_end": 0.4,
            "count": 0
           },
           {
            "bin_start": 0.4,
            "bin_end": 0.5,
            "count": 0
           },
           {
            "bin_start": 0.5,
            "bin_end": 0.6000000000000001,
            "count": 0
           },
           {
            "bin_start": 0.6000000000000001,
            "bin_end": 0.7000000000000001,
            "count": 0
           },
           {
            "bin_start": 0.7000000000000001,
            "bin_end": 0.8,
            "count": 0
           },
           {
            "bin_start": 0.8,
            "bin_end": 0.9,
            "count": 0
           },
           {
            "bin_start": 0.9,
            "bin_end": 1,
            "count": 2412
           }
          ]
         }
        },
        {
         "name": "FTI",
         "dtype": "float64",
         "stats": {
          "unique_count": 203,
          "nan_count": 278,
          "min": "2.0",
          "max": "395.0",
          "histogram": [
           {
            "bin_start": 2,
            "bin_end": 41.3,
            "count": 34
           },
           {
            "bin_start": 41.3,
            "bin_end": 80.6,
            "count": 232
           },
           {
            "bin_start": 80.6,
            "bin_end": 119.89999999999999,
            "count": 1410
           },
           {
            "bin_start": 119.89999999999999,
            "bin_end": 159.2,
            "count": 584
           },
           {
            "bin_start": 159.2,
            "bin_end": 198.5,
            "count": 112
           },
           {
            "bin_start": 198.5,
            "bin_end": 237.79999999999998,
            "count": 29
           },
           {
            "bin_start": 237.79999999999998,
            "bin_end": 277.09999999999997,
            "count": 6
           },
           {
            "bin_start": 277.09999999999997,
            "bin_end": 316.4,
            "count": 2
           },
           {
            "bin_start": 316.4,
            "bin_end": 355.7,
            "count": 1
           },
           {
            "bin_start": 355.7,
            "bin_end": 395,
            "count": 2
           }
          ]
         }
        },
        {
         "name": "Referral Source",
         "dtype": "uint8",
         "stats": {
          "unique_count": 2,
          "nan_count": 0,
          "min": "0",
          "max": "1",
          "histogram": [
           {
            "bin_start": 0,
            "bin_end": 0.1,
            "count": 2419
           },
           {
            "bin_start": 0.1,
            "bin_end": 0.2,
            "count": 0
           },
           {
            "bin_start": 0.2,
            "bin_end": 0.30000000000000004,
            "count": 0
           },
           {
            "bin_start": 0.30000000000000004,
            "bin_end": 0.4,
            "count": 0
           },
           {
            "bin_start": 0.4,
            "bin_end": 0.5,
            "count": 0
           },
           {
            "bin_start": 0.5,
            "bin_end": 0.6000000000000001,
            "count": 0
           },
           {
            "bin_start": 0.6000000000000001,
            "bin_end": 0.7000000000000001,
            "count": 0
           },
           {
            "bin_start": 0.7000000000000001,
            "bin_end": 0.8,
            "count": 0
           },
           {
            "bin_start": 0.8,
            "bin_end": 0.9,
            "count": 0
           },
           {
            "bin_start": 0.9,
            "bin_end": 1,
            "count": 271
           }
          ]
         }
        },
        {
         "name": "Class",
         "dtype": "object",
         "stats": {
          "unique_count": 2,
          "nan_count": 0,
          "categories": [
           {
            "name": "0",
            "count": 2479
           },
           {
            "name": "1",
            "count": 211
           }
          ]
         }
        },
        {
         "name": "_deepnote_index_column",
         "dtype": "int64"
        }
       ],
       "rows": [
        {
         "Age": 77,
         "Sex": 0,
         "On Thyroxine": 0,
         "Query on Thyroxine": 0,
         "On Antithyroid Medication": 0,
         "Sick": 0,
         "Pregnant": 0,
         "Thyroid Surgery": 0,
         "I131 Treatment": 0,
         "Query Hypothyroid": 0,
         "Query Hyperthyroid": 0,
         "Lithium": 0,
         "Goiter": 0,
         "Tumor": 0,
         "Hypopituitary": 0,
         "Psych": 0,
         "TSH Measured": 1,
         "TSH": 1.6,
         "T3 Measured": 1,
         "T3": 2.3,
         "TT4 Measured": 1,
         "TT4": 144,
         "T4U Measured": 1,
         "T4U": 0.95,
         "FTI Measured": 1,
         "FTI": 152,
         "Referral Source": 0,
         "Class": "0",
         "_deepnote_index_column": 2714
        },
        {
         "Age": 34,
         "Sex": 1,
         "On Thyroxine": 0,
         "Query on Thyroxine": 0,
         "On Antithyroid Medication": 0,
         "Sick": 0,
         "Pregnant": 0,
         "Thyroid Surgery": 0,
         "I131 Treatment": 0,
         "Query Hypothyroid": 0,
         "Query Hyperthyroid": 0,
         "Lithium": 0,
         "Goiter": 0,
         "Tumor": 0,
         "Hypopituitary": 0,
         "Psych": 1,
         "TSH Measured": 1,
         "TSH": 1.3,
         "T3 Measured": 1,
         "T3": 1.8,
         "TT4 Measured": 1,
         "TT4": 86,
         "T4U Measured": 1,
         "T4U": 0.86,
         "FTI Measured": 1,
         "FTI": 101,
         "Referral Source": 1,
         "Class": "0",
         "_deepnote_index_column": 2715
        },
        {
         "Age": 60,
         "Sex": 0,
         "On Thyroxine": 0,
         "Query on Thyroxine": 0,
         "On Antithyroid Medication": 0,
         "Sick": 0,
         "Pregnant": 0,
         "Thyroid Surgery": 0,
         "I131 Treatment": 0,
         "Query Hypothyroid": 0,
         "Query Hyperthyroid": 1,
         "Lithium": 0,
         "Goiter": 0,
         "Tumor": 0,
         "Hypopituitary": 0,
         "Psych": 0,
         "TSH Measured": 1,
         "TSH": 0.025,
         "T3 Measured": 1,
         "T3": 3.9,
         "TT4 Measured": 1,
         "TT4": 123,
         "T4U Measured": 1,
         "T4U": 0.98,
         "FTI Measured": 1,
         "FTI": 126,
         "Referral Source": 0,
         "Class": "0",
         "_deepnote_index_column": 2716
        },
        {
         "Age": 83,
         "Sex": 1,
         "On Thyroxine": 0,
         "Query on Thyroxine": 0,
         "On Antithyroid Medication": 0,
         "Sick": 0,
         "Pregnant": 0,
         "Thyroid Surgery": 0,
         "I131 Treatment": 0,
         "Query Hypothyroid": 0,
         "Query Hyperthyroid": 0,
         "Lithium": 0,
         "Goiter": 0,
         "Tumor": 0,
         "Hypopituitary": 0,
         "Psych": 0,
         "TSH Measured": 1,
         "TSH": 0.2,
         "T3 Measured": 1,
         "T3": 1.1,
         "TT4 Measured": 1,
         "TT4": 95,
         "T4U Measured": 1,
         "T4U": 0.73,
         "FTI Measured": 1,
         "FTI": 129,
         "Referral Source": 0,
         "Class": "0",
         "_deepnote_index_column": 2717
        },
        {
         "Age": 31,
         "Sex": 1,
         "On Thyroxine": 0,
         "Query on Thyroxine": 0,
         "On Antithyroid Medication": 0,
         "Sick": 0,
         "Pregnant": 0,
         "Thyroid Surgery": 0,
         "I131 Treatment": 0,
         "Query Hypothyroid": 0,
         "Query Hyperthyroid": 0,
         "Lithium": 0,
         "Goiter": 0,
         "Tumor": 0,
         "Hypopituitary": 0,
         "Psych": 0,
         "TSH Measured": 1,
         "TSH": 2.2,
         "T3 Measured": 1,
         "T3": 2.3,
         "TT4 Measured": 1,
         "TT4": 132,
         "T4U Measured": 1,
         "T4U": 1.16,
         "FTI Measured": 1,
         "FTI": 114,
         "Referral Source": 0,
         "Class": "0",
         "_deepnote_index_column": 2718
        },
        {
         "Age": 67,
         "Sex": 0,
         "On Thyroxine": 0,
         "Query on Thyroxine": 0,
         "On Antithyroid Medication": 0,
         "Sick": 0,
         "Pregnant": 0,
         "Thyroid Surgery": 0,
         "I131 Treatment": 0,
         "Query Hypothyroid": 0,
         "Query Hyperthyroid": 0,
         "Lithium": 0,
         "Goiter": 0,
         "Tumor": 0,
         "Hypopituitary": 0,
         "Psych": 0,
         "TSH Measured": 1,
         "TSH": 46,
         "T3 Measured": 1,
         "T3": 1,
         "TT4 Measured": 1,
         "TT4": 48,
         "T4U Measured": 1,
         "T4U": 0.98,
         "FTI Measured": 1,
         "FTI": 49,
         "Referral Source": 0,
         "Class": "1",
         "_deepnote_index_column": 2719
        },
        {
         "Age": 35,
         "Sex": 1,
         "On Thyroxine": 0,
         "Query on Thyroxine": 0,
         "On Antithyroid Medication": 0,
         "Sick": 0,
         "Pregnant": 0,
         "Thyroid Surgery": 0,
         "I131 Treatment": 0,
         "Query Hypothyroid": 0,
         "Query Hyperthyroid": 1,
         "Lithium": 0,
         "Goiter": 0,
         "Tumor": 0,
         "Hypopituitary": 0,
         "Psych": 0,
         "TSH Measured": 0,
         "TSH": "nan",
         "T3 Measured": 1,
         "T3": 2.2,
         "TT4 Measured": 1,
         "TT4": 81,
         "T4U Measured": 1,
         "T4U": 0.96,
         "FTI Measured": 1,
         "FTI": 84,
         "Referral Source": 0,
         "Class": "0",
         "_deepnote_index_column": 2720
        },
        {
         "Age": 70,
         "Sex": 0,
         "On Thyroxine": 0,
         "Query on Thyroxine": 0,
         "On Antithyroid Medication": 0,
         "Sick": 0,
         "Pregnant": 0,
         "Thyroid Surgery": 0,
         "I131 Treatment": 0,
         "Query Hypothyroid": 0,
         "Query Hyperthyroid": 0,
         "Lithium": 0,
         "Goiter": 0,
         "Tumor": 0,
         "Hypopituitary": 0,
         "Psych": 0,
         "TSH Measured": 1,
         "TSH": 2.1,
         "T3 Measured": 1,
         "T3": 2.3,
         "TT4 Measured": 1,
         "TT4": 180,
         "T4U Measured": 1,
         "T4U": 1.3,
         "FTI Measured": 1,
         "FTI": 139,
         "Referral Source": 0,
         "Class": "0",
         "_deepnote_index_column": 2721
        },
        {
         "Age": 19,
         "Sex": 0,
         "On Thyroxine": 0,
         "Query on Thyroxine": 0,
         "On Antithyroid Medication": 0,
         "Sick": 0,
         "Pregnant": 0,
         "Thyroid Surgery": 0,
         "I131 Treatment": 0,
         "Query Hypothyroid": 0,
         "Query Hyperthyroid": 0,
         "Lithium": 0,
         "Goiter": 0,
         "Tumor": 0,
         "Hypopituitary": 0,
         "Psych": 0,
         "TSH Measured": 1,
         "TSH": 4,
         "T3 Measured": 1,
         "T3": 2.9,
         "TT4 Measured": 1,
         "TT4": 122,
         "T4U Measured": 1,
         "T4U": 1.02,
         "FTI Measured": 1,
         "FTI": 119,
         "Referral Source": 1,
         "Class": "0",
         "_deepnote_index_column": 2722
        },
        {
         "Age": 89,
         "Sex": 0,
         "On Thyroxine": 0,
         "Query on Thyroxine": 0,
         "On Antithyroid Medication": 0,
         "Sick": 0,
         "Pregnant": 0,
         "Thyroid Surgery": 0,
         "I131 Treatment": 0,
         "Query Hypothyroid": 0,
         "Query Hyperthyroid": 0,
         "Lithium": 0,
         "Goiter": 0,
         "Tumor": 0,
         "Hypopituitary": 0,
         "Psych": 0,
         "TSH Measured": 1,
         "TSH": 2.5,
         "T3 Measured": 1,
         "T3": 1.6,
         "TT4 Measured": 1,
         "TT4": 108,
         "T4U Measured": 1,
         "T4U": 0.92,
         "FTI Measured": 1,
         "FTI": 118,
         "Referral Source": 0,
         "Class": "0",
         "_deepnote_index_column": 2723
        }
       ]
      },
      "text/plain": "       Age  Sex  On Thyroxine  Query on Thyroxine  On Antithyroid Medication  \\\n0     41.0    0             0                   0                          0   \n1     23.0    0             0                   0                          0   \n2     46.0    1             0                   0                          0   \n3     70.0    0             1                   0                          0   \n4     70.0    0             0                   0                          0   \n...    ...  ...           ...                 ...                        ...   \n2795  70.0    1             0                   0                          0   \n2796  73.0    1             0                   1                          0   \n2797  75.0    1             0                   0                          0   \n2798  60.0    0             0                   0                          0   \n2799  81.0    0             0                   0                          0   \n\n      Sick  Pregnant  Thyroid Surgery  I131 Treatment  Query Hypothyroid  ...  \\\n0        0         0                0               0                  0  ...   \n1        0         0                0               0                  0  ...   \n2        0         0                0               0                  0  ...   \n3        0         0                0               0                  0  ...   \n4        0         0                0               0                  0  ...   \n...    ...       ...              ...             ...                ...  ...   \n2795     0         0                0               0                  0  ...   \n2796     0         0                0               0                  0  ...   \n2797     0         0                0               0                  0  ...   \n2798     0         0                0               0                  0  ...   \n2799     0         0                0               0                  0  ...   \n\n      T3 Measured   T3  TT4 Measured    TT4  T4U Measured   T4U  FTI Measured  \\\n0               1  2.5             1  125.0             1  1.14             1   \n1               1  2.0             1  102.0             0   NaN             0   \n2               0  NaN             1  109.0             1  0.91             1   \n3               1  1.9             1  175.0             0   NaN             0   \n4               1  1.2             1   61.0             1  0.87             1   \n...           ...  ...           ...    ...           ...   ...           ...   \n2795            0  NaN             1  155.0             1  1.05             1   \n2796            1  0.7             1   63.0             1  0.88             1   \n2797            0  NaN             1  147.0             1  0.80             1   \n2798            0  NaN             1  100.0             1  0.83             1   \n2799            1  1.5             1  114.0             1  0.99             1   \n\n        FTI  Referral Source  Class  \n0     109.0                1      0  \n1       NaN                0      0  \n2     120.0                0      0  \n3       NaN                0      0  \n4      70.0                0      0  \n...     ...              ...    ...  \n2795  148.0                0      0  \n2796   72.0                0      0  \n2797  183.0                0      0  \n2798  121.0                0      0  \n2799  115.0                0      0  \n\n[2690 rows x 28 columns]",
      "text/html": "<div>\n<style scoped>\n    .dataframe tbody tr th:only-of-type {\n        vertical-align: middle;\n    }\n\n    .dataframe tbody tr th {\n        vertical-align: top;\n    }\n\n    .dataframe thead th {\n        text-align: right;\n    }\n</style>\n<table border=\"1\" class=\"dataframe\">\n  <thead>\n    <tr style=\"text-align: right;\">\n      <th></th>\n      <th>Age</th>\n      <th>Sex</th>\n      <th>On Thyroxine</th>\n      <th>Query on Thyroxine</th>\n      <th>On Antithyroid Medication</th>\n      <th>Sick</th>\n      <th>Pregnant</th>\n      <th>Thyroid Surgery</th>\n      <th>I131 Treatment</th>\n      <th>Query Hypothyroid</th>\n      <th>...</th>\n      <th>T3 Measured</th>\n      <th>T3</th>\n      <th>TT4 Measured</th>\n      <th>TT4</th>\n      <th>T4U Measured</th>\n      <th>T4U</th>\n      <th>FTI Measured</th>\n      <th>FTI</th>\n      <th>Referral Source</th>\n      <th>Class</th>\n    </tr>\n  </thead>\n  <tbody>\n    <tr>\n      <th>0</th>\n      <td>41.0</td>\n      <td>0</td>\n      <td>0</td>\n      <td>0</td>\n      <td>0</td>\n      <td>0</td>\n      <td>0</td>\n      <td>0</td>\n      <td>0</td>\n      <td>0</td>\n      <td>...</td>\n      <td>1</td>\n      <td>2.5</td>\n      <td>1</td>\n      <td>125.0</td>\n      <td>1</td>\n      <td>1.14</td>\n      <td>1</td>\n      <td>109.0</td>\n      <td>1</td>\n      <td>0</td>\n    </tr>\n    <tr>\n      <th>1</th>\n      <td>23.0</td>\n      <td>0</td>\n      <td>0</td>\n      <td>0</td>\n      <td>0</td>\n      <td>0</td>\n      <td>0</td>\n      <td>0</td>\n      <td>0</td>\n      <td>0</td>\n      <td>...</td>\n      <td>1</td>\n      <td>2.0</td>\n      <td>1</td>\n      <td>102.0</td>\n      <td>0</td>\n      <td>NaN</td>\n      <td>0</td>\n      <td>NaN</td>\n      <td>0</td>\n      <td>0</td>\n    </tr>\n    <tr>\n      <th>2</th>\n      <td>46.0</td>\n      <td>1</td>\n      <td>0</td>\n      <td>0</td>\n      <td>0</td>\n      <td>0</td>\n      <td>0</td>\n      <td>0</td>\n      <td>0</td>\n      <td>0</td>\n      <td>...</td>\n      <td>0</td>\n      <td>NaN</td>\n      <td>1</td>\n      <td>109.0</td>\n      <td>1</td>\n      <td>0.91</td>\n      <td>1</td>\n      <td>120.0</td>\n      <td>0</td>\n      <td>0</td>\n    </tr>\n    <tr>\n      <th>3</th>\n      <td>70.0</td>\n      <td>0</td>\n      <td>1</td>\n      <td>0</td>\n      <td>0</td>\n      <td>0</td>\n      <td>0</td>\n      <td>0</td>\n      <td>0</td>\n      <td>0</td>\n      <td>...</td>\n      <td>1</td>\n      <td>1.9</td>\n      <td>1</td>\n      <td>175.0</td>\n      <td>0</td>\n      <td>NaN</td>\n      <td>0</td>\n      <td>NaN</td>\n      <td>0</td>\n      <td>0</td>\n    </tr>\n    <tr>\n      <th>4</th>\n      <td>70.0</td>\n      <td>0</td>\n      <td>0</td>\n      <td>0</td>\n      <td>0</td>\n      <td>0</td>\n      <td>0</td>\n      <td>0</td>\n      <td>0</td>\n      <td>0</td>\n      <td>...</td>\n      <td>1</td>\n      <td>1.2</td>\n      <td>1</td>\n      <td>61.0</td>\n      <td>1</td>\n      <td>0.87</td>\n      <td>1</td>\n      <td>70.0</td>\n      <td>0</td>\n      <td>0</td>\n    </tr>\n    <tr>\n      <th>...</th>\n      <td>...</td>\n      <td>...</td>\n      <td>...</td>\n      <td>...</td>\n      <td>...</td>\n      <td>...</td>\n      <td>...</td>\n      <td>...</td>\n      <td>...</td>\n      <td>...</td>\n      <td>...</td>\n      <td>...</td>\n      <td>...</td>\n      <td>...</td>\n      <td>...</td>\n      <td>...</td>\n      <td>...</td>\n      <td>...</td>\n      <td>...</td>\n      <td>...</td>\n      <td>...</td>\n    </tr>\n    <tr>\n      <th>2795</th>\n      <td>70.0</td>\n      <td>1</td>\n      <td>0</td>\n      <td>0</td>\n      <td>0</td>\n      <td>0</td>\n      <td>0</td>\n      <td>0</td>\n      <td>0</td>\n      <td>0</td>\n      <td>...</td>\n      <td>0</td>\n      <td>NaN</td>\n      <td>1</td>\n      <td>155.0</td>\n      <td>1</td>\n      <td>1.05</td>\n      <td>1</td>\n      <td>148.0</td>\n      <td>0</td>\n      <td>0</td>\n    </tr>\n    <tr>\n      <th>2796</th>\n      <td>73.0</td>\n      <td>1</td>\n      <td>0</td>\n      <td>1</td>\n      <td>0</td>\n      <td>0</td>\n      <td>0</td>\n      <td>0</td>\n      <td>0</td>\n      <td>0</td>\n      <td>...</td>\n      <td>1</td>\n      <td>0.7</td>\n      <td>1</td>\n      <td>63.0</td>\n      <td>1</td>\n      <td>0.88</td>\n      <td>1</td>\n      <td>72.0</td>\n      <td>0</td>\n      <td>0</td>\n    </tr>\n    <tr>\n      <th>2797</th>\n      <td>75.0</td>\n      <td>1</td>\n      <td>0</td>\n      <td>0</td>\n      <td>0</td>\n      <td>0</td>\n      <td>0</td>\n      <td>0</td>\n      <td>0</td>\n      <td>0</td>\n      <td>...</td>\n      <td>0</td>\n      <td>NaN</td>\n      <td>1</td>\n      <td>147.0</td>\n      <td>1</td>\n      <td>0.80</td>\n      <td>1</td>\n      <td>183.0</td>\n      <td>0</td>\n      <td>0</td>\n    </tr>\n    <tr>\n      <th>2798</th>\n      <td>60.0</td>\n      <td>0</td>\n      <td>0</td>\n      <td>0</td>\n      <td>0</td>\n      <td>0</td>\n      <td>0</td>\n      <td>0</td>\n      <td>0</td>\n      <td>0</td>\n      <td>...</td>\n      <td>0</td>\n      <td>NaN</td>\n      <td>1</td>\n      <td>100.0</td>\n      <td>1</td>\n      <td>0.83</td>\n      <td>1</td>\n      <td>121.0</td>\n      <td>0</td>\n      <td>0</td>\n    </tr>\n    <tr>\n      <th>2799</th>\n      <td>81.0</td>\n      <td>0</td>\n      <td>0</td>\n      <td>0</td>\n      <td>0</td>\n      <td>0</td>\n      <td>0</td>\n      <td>0</td>\n      <td>0</td>\n      <td>0</td>\n      <td>...</td>\n      <td>1</td>\n      <td>1.5</td>\n      <td>1</td>\n      <td>114.0</td>\n      <td>1</td>\n      <td>0.99</td>\n      <td>1</td>\n      <td>115.0</td>\n      <td>0</td>\n      <td>0</td>\n    </tr>\n  </tbody>\n</table>\n<p>2690 rows × 28 columns</p>\n</div>"
     },
     "metadata": {}
    }
   ]
  },
  {
   "cell_type": "code",
   "metadata": {
    "tags": [],
    "deepnote_to_be_reexecuted": false,
    "source_hash": "94640e6c",
    "execution_start": 1657910260867,
    "execution_millis": 31,
    "cell_id": "00049-124694bb-32ff-4b05-9447-0c4fe3eed0ff",
    "deepnote_cell_type": "code",
    "deepnote_cell_height": 117
   },
   "source": "for i in dataset.columns:\n    median = dataset[i].dropna().median()\n    dataset[i].fillna(median, inplace=True)",
   "execution_count": 11,
   "outputs": []
  },
  {
   "cell_type": "markdown",
   "source": "All right, let's now split our data into training and testing in an 80-20 split. For consistency, let's all use a seed of 8675309.",
   "metadata": {
    "colab_type": "text",
    "id": "4yEeqjv19hCX",
    "cell_id": "00054-33b4c1e1-949a-42c8-9e60-4d9e7f9c210d",
    "deepnote_cell_type": "markdown",
    "deepnote_cell_height": 74.796875
   }
  },
  {
   "cell_type": "code",
   "metadata": {
    "colab": {
     "autoexec": {
      "startup": false,
      "wait_interval": 0
     },
     "base_uri": "https://localhost:8080/",
     "height": 36
    },
    "colab_type": "code",
    "executionInfo": {
     "elapsed": 452,
     "status": "ok",
     "timestamp": 1531117461829,
     "user": {
      "displayName": "Lyle Lalunio",
      "photoUrl": "https://lh3.googleusercontent.com/a/default-user=s128",
      "userId": "108954789805627648380"
     },
     "user_tz": 240
    },
    "id": "GQqlCTGntXCX",
    "outputId": "17fb180a-5a12-4890-8de2-2b2d73bfe9df",
    "deepnote_to_be_reexecuted": false,
    "source_hash": "48808116",
    "execution_start": 1657910260904,
    "execution_millis": 1021,
    "cell_id": "00055-335c8abd-6485-47bf-b3a3-47182d9d8e32",
    "deepnote_cell_type": "code",
    "deepnote_cell_height": 171
   },
   "source": "from sklearn.model_selection import train_test_split\nX_cols = list(set(dataset.columns) - set(['Class']))\ny_col = 'Class'\nX_train, X_test, y_train, y_test = train_test_split(dataset[X_cols], dataset[y_col], test_size = 0.2, random_state= 8675309)\nX_train, X_val, y_train, y_val = train_test_split(X_train, y_train, test_size = 0.5, random_state= 8675309)\n",
   "execution_count": 12,
   "outputs": []
  },
  {
   "cell_type": "markdown",
   "source": "For reusability, let's make a logistic regression function that will take our training and testing data as arguments. Inside the function, build a model on your training data, fit it with your training class data, and return a list of your predictions.",
   "metadata": {
    "colab_type": "text",
    "id": "6KGUCXBE-OFy",
    "cell_id": "00057-2c430389-779d-4ee4-b567-a85a60d86647",
    "deepnote_cell_type": "markdown",
    "deepnote_cell_height": 74.796875
   }
  },
  {
   "cell_type": "code",
   "metadata": {
    "tags": [],
    "deepnote_to_be_reexecuted": false,
    "source_hash": "e724fcf0",
    "execution_start": 1657910636327,
    "execution_millis": 2234,
    "cell_id": "00059-7a3eea87-8980-4c3a-85a3-f283a3284743",
    "deepnote_cell_type": "code",
    "deepnote_cell_height": 1425.1875,
    "deepnote_output_heights": [
     21.1875,
     250
    ]
   },
   "source": "import numpy as np\nimport pandas as pd\nfrom sklearn.model_selection import train_test_split\nfrom sklearn.tree import DecisionTreeClassifier\nfrom sklearn.metrics import accuracy_score\nfrom sklearn import tree\nfrom sklearn.ensemble import RandomForestClassifier\nfrom sklearn import metrics\n\nfrom sklearn import svm\nfrom sklearn.svm import SVC\n\nimport matplotlib.pyplot as plt\n#SVM:\n\ntrain_arr=[]\nval_arr = []\nacc_arr = []\ngamma_arr = []\n\ngamma = 0.00000001\n\n'''\nmodel = SVC(gamma=gamma)\n\n# Training/fitting the model with training data\nmodel.fit(X_train, y_train)\n\ny_train_pred_dt= model.predict(X_train)\ny_val_pred_dt = model.predict(X_val)\nprint(accuracy_score(y_train,y_train_pred_dt)*100)\nprint(accuracy_score(y_val,y_val_pred_dt)*100)\n\ny_test_pred_dt = model.predict(X_test)\nprint(accuracy_score(y_test, y_test_pred_dt)*100)\n\n'''\nfor i in range(9):\n\n    model = SVC(gamma=gamma)\n\n    # Training/fitting the model with training data\n    model.fit(X_train, y_train)\n\n    y_train_pred_dt= model.predict(X_train)\n    y_val_pred_dt = model.predict(X_val)\n    train_arr.append(accuracy_score(y_train,y_train_pred_dt)*100)\n    val_arr.append(accuracy_score(y_val,y_val_pred_dt)*100)\n\n    y_test_pred_dt = model.predict(X_test)\n    acc_arr.append(accuracy_score(y_test, y_test_pred_dt)*100)\n\n    gamma_arr.append(gamma)\n    gamma += 0.001\n\nplt.plot(gamma_arr, acc_arr, \"r-\")\n\n",
   "execution_count": 28,
   "outputs": [
    {
     "output_type": "execute_result",
     "execution_count": 28,
     "data": {
      "text/plain": "[<matplotlib.lines.Line2D at 0x7fbbf9a28e20>]"
     },
     "metadata": {}
    },
    {
     "data": {
      "text/plain": "<Figure size 432x288 with 1 Axes>",
      "image/png": "[encoded data removed]"
     },
     "metadata": {
      "needs_background": "light",
      "image/png": {
       "width": 378,
       "height": 248
      }
     },
     "output_type": "display_data"
    }
   ]
  },
  {
   "cell_type": "code",
   "metadata": {
    "tags": [],
    "deepnote_to_be_reexecuted": false,
    "source_hash": "8137dedb",
    "execution_start": 1657910805065,
    "execution_millis": 1031,
    "cell_id": "00060-3f6ae006-0f67-4d22-ba13-746f8f9e18d9",
    "owner_user_id": "c4be1506-04b7-4de0-bca3-1f448f666af7",
    "deepnote_cell_type": "code",
    "deepnote_cell_height": 349.078125
   },
   "source": "model = SVC(gamma=.001)\n\n# Training/fitting the model with training data\nmodel.fit(X_train, y_train)\n\ny_train_pred_dt= model.predict(X_train)\ny_val_pred_dt = model.predict(X_val)\nprint(\"Training Accuracy: \" + str(accuracy_score(y_train,y_train_pred_dt)*100))\nprint(\"Validation Accuracy: \" + str(accuracy_score(y_val,y_val_pred_dt)*100))\n\ny_test_pred_dt = model.predict(X_test)\nprint(\"Testing Accuracy: \" + str(accuracy_score(y_test, y_test_pred_dt)*100))",
   "execution_count": 31,
   "outputs": [
    {
     "name": "stdout",
     "text": "Training Accuracy: 96.28252788104089\nValidation Accuracy: 93.86617100371747\nTesting Accuracy: 93.86617100371747\n",
     "output_type": "stream"
    }
   ]
  },
  {
   "cell_type": "code",
   "metadata": {
    "tags": [],
    "deepnote_to_be_reexecuted": false,
    "source_hash": "b623e53d",
    "execution_start": 1657910269795,
    "execution_millis": 3,
    "cell_id": "00061-5c2468e7-8f89-46f2-95f8-6c16962181c3",
    "deepnote_cell_type": "code",
    "deepnote_cell_height": 81
   },
   "source": "",
   "execution_count": 13,
   "outputs": []
  },
  {
   "cell_type": "code",
   "metadata": {
    "tags": [],
    "deepnote_to_be_reexecuted": false,
    "source_hash": "ed52140f",
    "execution_start": 1657912908906,
    "execution_millis": 19,
    "cell_id": "00063-fab99c89-20a6-4fba-9533-6cc555e32b85",
    "deepnote_cell_type": "code",
    "deepnote_cell_height": 183.6875
   },
   "source": "fpr, tpr, thresholds = metrics.roc_curve(y_test, model.predict(X_test))\n\n# Calculate the area under the ROC curve\nroc_auc = metrics.auc(fpr, tpr)\nprint(roc_auc)",
   "execution_count": 32,
   "outputs": [
    {
     "name": "stdout",
     "text": "0.6022631578947368\n",
     "output_type": "stream"
    }
   ]
  },
  {
   "cell_type": "code",
   "metadata": {
    "tags": [],
    "deepnote_to_be_reexecuted": false,
    "source_hash": "fa2cd45b",
    "execution_start": 1657912912212,
    "execution_millis": 528,
    "cell_id": "00064-427f5825-b2ee-47de-bb16-46476547232c",
    "deepnote_cell_type": "code",
    "deepnote_cell_height": 720,
    "deepnote_output_heights": [
     389
    ]
   },
   "source": "import matplotlib.pyplot as plt\n\nplt.figure(figsize=(6,6))\nlw = 2\nplt.plot(fpr, tpr, color='darkorange',\n         lw=lw, label='ROC curve (area = %0.2f)' % roc_auc)\nplt.plot([0, 1], [0, 1], color='navy', lw=lw, linestyle='--')\nplt.xlim([0.0, 1.0])\nplt.ylim([0.0, 1.0])\nplt.xlabel('False Positive Rate')\nplt.ylabel('True Positive Rate')\nplt.title('Receiver operating characteristic')\nplt.legend(loc=\"lower right\")\nplt.show()",
   "execution_count": 33,
   "outputs": [
    {
     "data": {
      "text/plain": "<Figure size 432x432 with 1 Axes>",
      "image/png": "[encoded data removed]"
     },
     "metadata": {
      "needs_background": "light",
      "image/png": {
       "width": 394,
       "height": 387
      }
     },
     "output_type": "display_data"
    }
   ]
  },
  {
   "cell_type": "markdown",
   "source": "Fantastic, we have just built a logistic regression model! Let's go see how well it performs.",
   "metadata": {
    "colab_type": "text",
    "id": "JR8xu_VVsygN",
    "cell_id": "00065-b722cc21-f2e0-4720-9a28-02738877154c",
    "deepnote_cell_type": "markdown",
    "deepnote_cell_height": 52.390625
   }
  },
  {
   "cell_type": "markdown",
   "source": "### Model evaluation",
   "metadata": {
    "colab_type": "text",
    "id": "gAz096POwSRJ",
    "cell_id": "00066-9cbc02cd-6fc3-48e4-8e98-72067b34346c",
    "deepnote_cell_type": "markdown",
    "deepnote_cell_height": 62
   }
  },
  {
   "cell_type": "markdown",
   "source": "To start, let's establish the baseline performance. This is important because it provides a starting point of comparison for later evaluation methods, like accuracy.\n\nA good baseline model to use is the Zero Rule algorithm. In classification problems, it simply predicts the class value with the greatest number of instances every time.",
   "metadata": {
    "colab_type": "text",
    "id": "570duVNhrTZh",
    "cell_id": "00067-c3396a63-a10e-450f-a1a7-8d148f7731a9",
    "deepnote_cell_type": "markdown",
    "deepnote_cell_height": 133.59375
   }
  },
  {
   "cell_type": "code",
   "metadata": {
    "colab": {
     "autoexec": {
      "startup": false,
      "wait_interval": 0
     }
    },
    "colab_type": "code",
    "id": "fwvqucK_Yg-2",
    "deepnote_to_be_reexecuted": false,
    "source_hash": "6279e59e",
    "execution_start": 1657910270354,
    "execution_millis": 4,
    "cell_id": "00068-002ac45b-686d-4881-b3fe-e35eac6d12fc",
    "deepnote_cell_type": "code",
    "deepnote_cell_height": 297
   },
   "source": "from collections import Counter\n\ndef zero_rule_algorithm_classification(train,val):\n    if(Counter(train).most_common()[0][0] == 0):\n        train_acc = accuracy_score(train, np.zeros(train.shape[0]))*100\n    else:\n        train_acc = accuracy_score(train, np.ones(train.shape[0]))*100\n    if(Counter(val).most_common()[0][0] == 0):\n        val_acc = accuracy_score(val, np.zeros(val.shape[0]))*100\n    else:\n        val_acc = accuracy_score(val, np.ones(val.shape[0]))*100\n    return train_acc, val_acc\n    ",
   "execution_count": 16,
   "outputs": []
  },
  {
   "cell_type": "markdown",
   "source": "Get your baseline performance by calculating the accuracy of your Zero Rule algorithm.",
   "metadata": {
    "colab_type": "text",
    "id": "I_nExUgUYll5",
    "cell_id": "00069-e97784b8-2368-48ae-bc26-1f563cf75f38",
    "deepnote_cell_type": "markdown",
    "deepnote_cell_height": 52.390625
   }
  },
  {
   "cell_type": "code",
   "metadata": {
    "colab": {
     "autoexec": {
      "startup": false,
      "wait_interval": 0
     }
    },
    "colab_type": "code",
    "id": "zs0M8OdtYidB",
    "deepnote_to_be_reexecuted": false,
    "source_hash": "1fd647f6",
    "execution_start": 1657910270355,
    "execution_millis": 53,
    "cell_id": "00070-96c89ef3-c9c6-4806-8104-48f5ec5dbc54",
    "deepnote_cell_type": "code",
    "deepnote_cell_height": 185.390625
   },
   "source": "(train, val) = zero_rule_algorithm_classification(y_train, y_val)\n\nprint(\"Training accuracy: \", train)\nprint(\"Validation accuracy:\", val)",
   "execution_count": 17,
   "outputs": [
    {
     "name": "stdout",
     "text": "Training accuracy:  92.84386617100373\nValidation accuracy: 91.07806691449815\n",
     "output_type": "stream"
    }
   ]
  },
  {
   "cell_type": "code",
   "metadata": {
    "tags": [],
    "deepnote_to_be_reexecuted": false,
    "source_hash": "6672fbd9",
    "execution_start": 1657910270400,
    "execution_millis": 9,
    "cell_id": "00071-4f7367c2-f837-4063-8e92-f988aa739486",
    "deepnote_cell_type": "code",
    "deepnote_cell_height": 185.390625
   },
   "source": "(train, test) = zero_rule_algorithm_classification(y_train, y_test)\n\nprint(\"Training accuracy: \", train)\nprint(\"Testing accuracy:\", test)",
   "execution_count": 18,
   "outputs": [
    {
     "name": "stdout",
     "text": "Training accuracy:  92.84386617100373\nTesting accuracy: 92.93680297397769\n",
     "output_type": "stream"
    }
   ]
  },
  {
   "cell_type": "markdown",
   "source": "So maybe accuracy isn't the best performance measure for this dataset. As you've seen already, even when the models predict \"negative\" for all the records, we could already achieve a ~92% accuracy. However, that also implies we incorrectly predicted 100% of the positive cases, which in the context of this problem, is fatal.\n\nThankfully, it isn't the only way to evaluate your model. Let's take a look at a confusion matrix.\n\n![alt text](https://i.imgur.com/uipmEwt.png)",
   "metadata": {
    "colab_type": "text",
    "id": "WksirqfT5Ecw",
    "cell_id": "00072-4a61a77a-c31d-41a4-9f05-9905bdd46fae",
    "deepnote_cell_type": "markdown",
    "deepnote_cell_height": 542.59375
   }
  },
  {
   "cell_type": "markdown",
   "source": "Create a confusion matrix using the logistic regression function you built earlier.",
   "metadata": {
    "colab_type": "text",
    "id": "-vzqX_SKaBzK",
    "cell_id": "00073-38267547-33cf-46ab-875d-d5932985d699",
    "deepnote_cell_type": "markdown",
    "deepnote_cell_height": 52.390625
   }
  },
  {
   "cell_type": "code",
   "metadata": {
    "colab": {
     "autoexec": {
      "startup": false,
      "wait_interval": 0
     }
    },
    "colab_type": "code",
    "id": "DSS7JdYjaBWh",
    "deepnote_to_be_reexecuted": false,
    "source_hash": "b6ccd984",
    "execution_start": 1657910270401,
    "execution_millis": 256,
    "cell_id": "00074-6a4d5db6-7f62-4ae2-9823-659c0bda2cae",
    "deepnote_cell_type": "code",
    "deepnote_cell_height": 270.1875
   },
   "source": "from sklearn.metrics import confusion_matrix\nlogreg = LogisticRegression()\nlogreg.fit(X_test, y_test)\ny_test_pred = logreg.predict(X_test)\ntest_acc = accuracy_score(y_test, y_test_pred)*100\nprint(test_acc)\ncm = metrics.confusion_matrix(y_test, y_test_pred)\nprint(cm)",
   "execution_count": 19,
   "outputs": [
    {
     "output_type": "error",
     "ename": "NameError",
     "evalue": "name 'LogisticRegression' is not defined",
     "traceback": [
      "\u001b[0;31m---------------------------------------------------------------------------\u001b[0m",
      "\u001b[0;31mNameError\u001b[0m                                 Traceback (most recent call last)",
      "\u001b[0;32m<ipython-input-19-0b616e508063>\u001b[0m in \u001b[0;36m<cell line: 2>\u001b[0;34m()\u001b[0m\n\u001b[1;32m      1\u001b[0m \u001b[0;32mfrom\u001b[0m \u001b[0msklearn\u001b[0m\u001b[0;34m.\u001b[0m\u001b[0mmetrics\u001b[0m \u001b[0;32mimport\u001b[0m \u001b[0mconfusion_matrix\u001b[0m\u001b[0;34m\u001b[0m\u001b[0;34m\u001b[0m\u001b[0m\n\u001b[0;32m----> 2\u001b[0;31m \u001b[0mlogreg\u001b[0m \u001b[0;34m=\u001b[0m \u001b[0mLogisticRegression\u001b[0m\u001b[0;34m(\u001b[0m\u001b[0;34m)\u001b[0m\u001b[0;34m\u001b[0m\u001b[0;34m\u001b[0m\u001b[0m\n\u001b[0m\u001b[1;32m      3\u001b[0m \u001b[0mlogreg\u001b[0m\u001b[0;34m.\u001b[0m\u001b[0mfit\u001b[0m\u001b[0;34m(\u001b[0m\u001b[0mX_test\u001b[0m\u001b[0;34m,\u001b[0m \u001b[0my_test\u001b[0m\u001b[0;34m)\u001b[0m\u001b[0;34m\u001b[0m\u001b[0;34m\u001b[0m\u001b[0m\n\u001b[1;32m      4\u001b[0m \u001b[0my_test_pred\u001b[0m \u001b[0;34m=\u001b[0m \u001b[0mlogreg\u001b[0m\u001b[0;34m.\u001b[0m\u001b[0mpredict\u001b[0m\u001b[0;34m(\u001b[0m\u001b[0mX_test\u001b[0m\u001b[0;34m)\u001b[0m\u001b[0;34m\u001b[0m\u001b[0;34m\u001b[0m\u001b[0m\n\u001b[1;32m      5\u001b[0m \u001b[0mtest_acc\u001b[0m \u001b[0;34m=\u001b[0m \u001b[0maccuracy_score\u001b[0m\u001b[0;34m(\u001b[0m\u001b[0my_test\u001b[0m\u001b[0;34m,\u001b[0m \u001b[0my_test_pred\u001b[0m\u001b[0;34m)\u001b[0m\u001b[0;34m*\u001b[0m\u001b[0;36m100\u001b[0m\u001b[0;34m\u001b[0m\u001b[0;34m\u001b[0m\u001b[0m\n",
      "\u001b[0;31mNameError\u001b[0m: name 'LogisticRegression' is not defined"
     ]
    }
   ]
  },
  {
   "cell_type": "markdown",
   "source": "\nYet another appropriate metric is the Area Under the Receiver Operator Curve. Specifically, the diagnostic performance of a test, or the accuracy of a test to discriminate diseased cases from normal cases is evaluated using Receiver Operating Characteristic (ROC) curve analysis.\n\nWhen you consider the results of a particular test in two populations, one population with a disease, the other population without the disease, you will rarely observe a perfect separation between the two groups. Hence, the overlapping areas in the diagram below (FN, FP).\n\nIn a Receiver Operating Characteristic (ROC) curve the true positive rate (Sensitivity) is plotted in function of the false positive rate (100-Specificity) for different cut-off points. Each point on the ROC curve represents a sensitivity/specificity pair corresponding to a particular decision threshold. A test with perfect discrimination (no overlap in the two distributions) has a ROC curve that passes through the upper left corner (100% sensitivity, 100% specificity). Therefore the closer the ROC curve is to the upper left corner, the higher the overall accuracy of the test.\n\n![alt text](https://www.medcalc.org/manual/_help/images/roc_intro1.png)\n\n\n\n",
   "metadata": {
    "colab_type": "text",
    "id": "z0JPOHmQn8N6",
    "cell_id": "00075-b377f536-2eda-499e-9b66-def3910922b6",
    "deepnote_cell_type": "markdown",
    "deepnote_cell_height": 516.375
   }
  },
  {
   "cell_type": "markdown",
   "source": "Now, to graph the AUROC curve, we will need to predict probabilities of choosing a specific class value rather than the class value itself. Make a new logistic regression model that does so.",
   "metadata": {
    "colab_type": "text",
    "id": "cvTWQTcycBEp",
    "cell_id": "00076-749b2bb6-fba4-4a0c-8190-c00ce4b24f39",
    "deepnote_cell_type": "markdown",
    "deepnote_cell_height": 74.796875
   }
  },
  {
   "cell_type": "markdown",
   "source": "Now calculate the area under the receiver operator curve with your predictions.",
   "metadata": {
    "colab_type": "text",
    "id": "Xm0yv6wmDnQz",
    "cell_id": "00077-c7366abd-41f2-4ba3-93b1-4128892dce47",
    "deepnote_cell_type": "markdown",
    "deepnote_cell_height": 52.390625
   }
  },
  {
   "cell_type": "code",
   "metadata": {
    "tags": [],
    "deepnote_to_be_reexecuted": true,
    "source_hash": "831aa24b",
    "execution_start": 1657908774677,
    "execution_millis": 23,
    "owner_user_id": "194cd911-cac3-400d-87db-1f259c3e5457",
    "cell_id": "00078-28e02a99-02ce-4dd8-85e5-a6f289090b71",
    "deepnote_cell_type": "code",
    "deepnote_cell_height": 183.6875
   },
   "source": "fpr, tpr, thresholds = metrics.roc_curve(y_test, logreg.predict(X_test))\n\n# Calculate the area under the ROC curve\nroc_auc = metrics.auc(fpr, tpr)\nprint(roc_auc)",
   "execution_count": null,
   "outputs": [
    {
     "name": "stdout",
     "text": "0.8239473684210527\n",
     "output_type": "stream"
    }
   ]
  },
  {
   "cell_type": "markdown",
   "source": "Now graph the ROC curve using matplotlib, fully labeled.",
   "metadata": {
    "colab_type": "text",
    "id": "w3hnQOGUczOn",
    "cell_id": "00079-3bc98fcb-9e9d-41da-8e11-b0cdae6e8c51",
    "deepnote_cell_type": "markdown",
    "deepnote_cell_height": 52.390625
   }
  },
  {
   "cell_type": "code",
   "metadata": {
    "colab": {
     "autoexec": {
      "startup": false,
      "wait_interval": 0
     }
    },
    "colab_type": "code",
    "id": "JA-ieOGua55H",
    "deepnote_to_be_reexecuted": true,
    "source_hash": "fa2cd45b",
    "execution_start": 1657908774708,
    "execution_millis": 339,
    "cell_id": "00080-30bc08d3-281f-44e7-81b3-aeefddfc1212",
    "deepnote_cell_type": "code",
    "deepnote_cell_height": 726,
    "deepnote_output_heights": [
     395
    ]
   },
   "source": "import matplotlib.pyplot as plt\n\nplt.figure(figsize=(6,6))\nlw = 2\nplt.plot(fpr, tpr, color='darkorange',\n         lw=lw, label='ROC curve (area = %0.2f)' % roc_auc)\nplt.plot([0, 1], [0, 1], color='navy', lw=lw, linestyle='--')\nplt.xlim([0.0, 1.0])\nplt.ylim([0.0, 1.0])\nplt.xlabel('False Positive Rate')\nplt.ylabel('True Positive Rate')\nplt.title('Receiver operating characteristic')\nplt.legend(loc=\"lower right\")\nplt.show()",
   "execution_count": null,
   "outputs": [
    {
     "data": {
      "text/plain": "<Figure size 432x432 with 1 Axes>",
      "image/png": "[encoded data removed]"
     },
     "metadata": {
      "image/png": {
       "width": 401,
       "height": 393
      }
     },
     "output_type": "display_data"
    }
   ]
  },
  {
   "cell_type": "markdown",
   "source": "In conclusion, it looks like this model performed pretty bad. It's probably best to try out different columns or perhaps use a different model before we submit our model for scoring.",
   "metadata": {
    "colab_type": "text",
    "id": "5D4BtDZV6fxV",
    "cell_id": "00081-1679130b-0354-4bc7-b508-a09f5d4fc65d",
    "deepnote_cell_type": "markdown",
    "deepnote_cell_height": 74.796875
   }
  },
  {
   "cell_type": "markdown",
   "source": "# Submitting your Model",
   "metadata": {
    "colab_type": "text",
    "id": "5JW3myd8LHJy",
    "cell_id": "00082-558c35f4-a7ef-47af-b62c-1f9d2c99687a",
    "deepnote_cell_type": "markdown",
    "deepnote_cell_height": 82
   }
  },
  {
   "cell_type": "markdown",
   "source": "Once you believe to have found the best classifier, run your classifier on the test data and make a pickle file containing of your predictions contained a pandas dataframe.\n\nThis pandas dataframe will contain three columns for your binary classifier (or 5 columns for the multiclass classifier): the first column should be your model's \"best guess\" for each patient (either 0 or 1, negative or positive) and the last two columns should be the probability the patient would be classified as either a 0 or 1.\n\n(see below for reference)",
   "metadata": {
    "colab_type": "text",
    "id": "Wuexs1daLNBY",
    "cell_id": "00083-d6cf511d-f425-455d-9340-e7deb5a48907",
    "deepnote_cell_type": "markdown",
    "deepnote_cell_height": 192.390625
   }
  },
  {
   "cell_type": "code",
   "metadata": {
    "colab": {
     "autoexec": {
      "startup": false,
      "wait_interval": 0
     },
     "base_uri": "https://localhost:8080/",
     "height": 16
    },
    "colab_type": "code",
    "executionInfo": {
     "elapsed": 735,
     "status": "ok",
     "timestamp": 1531300930305,
     "user": {
      "displayName": "Lyle Lalunio",
      "photoUrl": "https://lh3.googleusercontent.com/a/default-user=s128",
      "userId": "108954789805627648380"
     },
     "user_tz": 240
    },
    "id": "GkZOEgg3m3g1",
    "outputId": "6e113681-1554-4d5d-ee1a-14fce422cdfe",
    "deepnote_to_be_reexecuted": true,
    "source_hash": "395354f7",
    "execution_start": 1657908775047,
    "execution_millis": 20,
    "cell_id": "00084-77da948d-6aee-4fb8-afbf-4bdfe2826f97",
    "deepnote_cell_type": "code",
    "deepnote_cell_height": 279
   },
   "source": "# after running this cell, you should see the pickle file pop up in the file explorer to the left\n# use the three dots next to the filename to download the file\n# after downloading the pickle file, email it to medlytics-21@mit.edu\nimport pickle\npredictions = pd.DataFrame({\"guesses\":[0, 1, 0, 1],\"prob_neg\":[.75, .15, .63, .20],\"prob_pos\":[.25, .85, .27, .80]})\nprediction_pickle_path = 'prediction_pickle.pkl'\n\n# Create an variable to pickle and open it in write mode\nprediction_pickle = open(prediction_pickle_path, 'wb')\npickle.dump(predictions, prediction_pickle)\n\nprediction_pickle.close()",
   "execution_count": null,
   "outputs": []
  },
  {
   "cell_type": "code",
   "metadata": {
    "colab": {
     "autoexec": {
      "startup": false,
      "wait_interval": 0
     },
     "base_uri": "https://localhost:8080/",
     "height": 105
    },
    "colab_type": "code",
    "executionInfo": {
     "elapsed": 263,
     "status": "ok",
     "timestamp": 1531301033636,
     "user": {
      "displayName": "Lyle Lalunio",
      "photoUrl": "https://lh3.googleusercontent.com/a/default-user=s128",
      "userId": "108954789805627648380"
     },
     "user_tz": 240
    },
    "id": "Dj6_AB6LnjrW",
    "outputId": "399f0da3-727f-4e2f-9213-385243a95553",
    "deepnote_to_be_reexecuted": true,
    "source_hash": "6bbc19f9",
    "execution_start": 1657908775067,
    "execution_millis": 17,
    "cell_id": "00085-1fefde2b-f3f8-4d0f-94db-5ec38c783a60",
    "deepnote_cell_type": "code",
    "deepnote_cell_height": 280.46875
   },
   "source": "prediction_unpickle = open(prediction_pickle_path, 'rb')\n \n# load the unpickle object into a variable\npredictions = pickle.load(prediction_unpickle)\n \nprint(predictions)",
   "execution_count": null,
   "outputs": [
    {
     "name": "stdout",
     "text": "   guesses  prob_neg  prob_pos\n0        0      0.75      0.25\n1        1      0.15      0.85\n2        0      0.63      0.27\n3        1      0.20      0.80\n",
     "output_type": "stream"
    }
   ]
  },
  {
   "cell_type": "markdown",
   "source": "# Scoring your Model",
   "metadata": {
    "colab_type": "text",
    "id": "GW27RtFNttQA",
    "cell_id": "00086-934692c3-5d9e-4c60-a86d-9d6fe14145a2",
    "deepnote_cell_type": "markdown",
    "deepnote_cell_height": 82
   }
  },
  {
   "cell_type": "markdown",
   "source": "\n**Area Under ROC Curve**: A receiver operating characteristic (ROC) curve plots the true positive rate (y) against the false positive rate (x) at many decision threshold settings (output < threshold = 0, output > threshold = 1). The area under this curve represents the probability that a classifier will rank a randomly chosen positive instance higher than a randomly chosen negative one.\n\n**Confusion Matrix**: You will receive a certain number of points for each correct classification and a certain point penalty for each incorrect classification. The points are weighted, and are designed to equate to 0 in a Zero Rule baseline model. This point scheme is designed to punish you heavily for predicting false positives (FP) and false negatives (FN)--FN cases especially. In doing so, we hope you see the importance of clinical considerations and treat your models from a more human perspective, rather than detached from it.\n\n**Real World Cost**: Similar to the confusion matrix, we want you to keep in mind the other aspects of healthcare analytics--in this case, economic feasibility. In essence, we want you to minimize the amount of time and money spent on data collection by reducing the number of features collected. Each record certainly required a lot of time and money from several individuals and businesses to reliably create, and we hope you gain a better understanding of conducting a useful cost-benefit analysis with this scoring method. The full details of the weighted features can be found in the GitHub.",
   "metadata": {
    "colab_type": "text",
    "id": "iJdiisMerewv",
    "cell_id": "00087-89d9bd63-7c78-433c-987a-1e5a1c4cf756",
    "deepnote_cell_type": "markdown",
    "deepnote_cell_height": 371.578125
   }
  },
  {
   "cell_type": "markdown",
   "source": "# Moving to the Next Level",
   "metadata": {
    "colab_type": "text",
    "id": "w66lpbB6Qv_M",
    "cell_id": "00088-52d1ddcf-c49a-478a-8d81-1f82c0931060",
    "deepnote_cell_type": "markdown",
    "deepnote_cell_height": 82
   }
  },
  {
   "cell_type": "markdown",
   "source": "For those that finish early, remember how I converted the class values into simply \"negative\" and \"positive\"? Now try tackling the multiclass classifier (predicting the different types of positive hypothyroid cases instead of simply negative or positive)! \n\nThe same rules apply!",
   "metadata": {
    "colab_type": "text",
    "id": "X-HZ12lht_so",
    "cell_id": "00089-06dd7b89-40d4-4403-855e-1589aaa1a3ff",
    "deepnote_cell_type": "markdown",
    "deepnote_cell_height": 133.59375
   }
  },
  {
   "cell_type": "markdown",
   "source": "<a style='text-decoration:none;line-height:16px;display:flex;color:#5B5B62;padding:10px;justify-content:end;' href='https://deepnote.com?utm_source=created-in-deepnote-cell&projectId=1d29a227-7622-44e1-ba66-49a2dbb9b67d' target=\"_blank\">\n<img alt='Created in deepnote.com' style='display:inline;max-height:16px;margin:0px;margin-right:7.5px;' src='data:image/svg+xml;base64,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' > </img>\nCreated in <span style='font-weight:600;margin-left:4px;'>Deepnote</span></a>",
   "metadata": {
    "tags": [],
    "created_in_deepnote_cell": true,
    "deepnote_cell_type": "markdown"
   }
  }
 ],
 "nbformat": 4,
 "nbformat_minor": 1,
 "metadata": {
  "colab": {
   "collapsed_sections": [],
   "default_view": {},
   "name": "Challenge_Project_STUDENT.ipynb",
   "provenance": [],
   "version": "0.3.2",
   "views": {}
  },
  "kernelspec": {
   "display_name": "Python 3",
   "language": "python",
   "name": "python3"
  },
  "language_info": {
   "codemirror_mode": {
    "name": "ipython",
    "version": 3
   },
   "file_extension": ".py",
   "mimetype": "text/x-python",
   "name": "python",
   "nbconvert_exporter": "python",
   "pygments_lexer": "ipython3",
   "version": "3.7.3"
  },
  "deepnote_notebook_id": "7c345a31-a612-4d04-beda-b7fd3175ea45",
  "deepnote": {},
  "deepnote_execution_queue": []
 }
}