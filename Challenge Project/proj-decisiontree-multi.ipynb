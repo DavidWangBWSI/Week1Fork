{
 "cells": [
  {
   "cell_type": "markdown",
   "source": "# Week 1 Challenge Project\n### Lyle Lalunio\n---\nHypothyroidism, also called underactive thyroid or low thyroid, is a disorder of the endocrine system in which the thyroid gland does not produce enough thyroid hormone. It can cause a number of symptoms, such as poor ability to tolerate cold, a feeling of tiredness, constipation, depression, and weight gain. Occasionally there may be swelling of the front part of the neck due to goitre. Untreated hypothyroidism during pregnancy can lead to delays in growth and intellectual development in the baby or cretinism.\n\nWorldwide, too little iodine in the diet is the most common cause of hypothyroidism. In countries with enough iodine in the diet, the most common cause of hypothyroidism is the autoimmune condition Hashimoto's thyroiditis. Less common causes include: previous treatment with radioactive iodine, injury to the hypothalamus or the anterior pituitary gland, certain medications, a lack of a functioning thyroid at birth, or previous thyroid surgery. The diagnosis of hypothyroidism, when suspected, can be confirmed with blood tests measuring thyroid-stimulating hormone (TSH) and thyroxine levels.\n\nWorldwide about one billion people are estimated to be iodine deficient; however, it is unknown how often this results in hypothyroidism. In the United States, hypothyroidism occurs in 0.3–0.4% of people.\n\nAnd that is why we iodize salt.\n\n![alt text](https://www.mayoclinic.org/-/media/kcms/gbs/patient-consumer/images/2013/11/15/17/39/ds00181_-ds00344_-ds00353_-ds00491_-ds00492_-ds00567_-ds00660_-my00709_im01872_thyroid_gif.jpg)\n\n",
   "metadata": {
    "colab_type": "text",
    "id": "XQDE8pPCpFRb",
    "cell_id": "eb63d67c-e2c1-4215-8c22-0615e3aab974",
    "deepnote_cell_type": "markdown",
    "deepnote_cell_height": 968.78125
   }
  },
  {
   "cell_type": "markdown",
   "source": "Background: Doctors all around the world need our help to predict whether a patient has hypothyroid disease. We have already overspent our budget to collect such complete data on about 30 attributes for 2800 patients--a good starting number, but a larger sample would certainly be preferred. Moving forward, however, we simply cannot afford to spend so much money on data collection. Therefore, we also need to determine which attributes are the most meaningful to the predictive models, and cut out the rest that don't contribute much. \n\nThe boss wants to see a **balanced** model that can predict with a **high sensitivity** and **high specificity** while using a ***low amount of features***. Collecting complete data such as this is very rare, very time-consuming, and often very expensive. By minimizing the number of features, it will optimize future data collection by deciding what needs to be collected, and what doesn't.",
   "metadata": {
    "colab_type": "text",
    "id": "OFF1-BLiSLZ8",
    "cell_id": "00001-3b843294-0b55-4abb-bf40-1540920a3196",
    "deepnote_cell_type": "markdown",
    "deepnote_cell_height": 223.1875
   }
  },
  {
   "cell_type": "markdown",
   "source": "## Loading the data",
   "metadata": {
    "colab_type": "text",
    "id": "HsZB_SGvp4mP",
    "cell_id": "00002-92c5d815-5c90-4dcd-b970-d038d981c83f",
    "deepnote_cell_type": "markdown",
    "deepnote_cell_height": 70
   }
  },
  {
   "cell_type": "markdown",
   "source": "Let's read the data into a Pandas dataframe and look at the first 20 records.",
   "metadata": {
    "colab_type": "text",
    "id": "DWrUz9OQ0uAU",
    "cell_id": "00003-ca7a985a-a3ab-4110-a924-ebd846ca47d2",
    "deepnote_cell_type": "markdown",
    "deepnote_cell_height": 52.390625
   }
  },
  {
   "cell_type": "code",
   "metadata": {
    "colab": {
     "autoexec": {
      "startup": false,
      "wait_interval": 0
     }
    },
    "colab_type": "code",
    "id": "s9AtXQPkzC8j",
    "deepnote_to_be_reexecuted": false,
    "source_hash": "bb88ca56",
    "execution_start": 1657913794886,
    "execution_millis": 105,
    "cell_id": "00004-aadff55e-fdaa-46e7-8c09-07719e741d36",
    "deepnote_cell_type": "code",
    "deepnote_cell_height": 171
   },
   "source": "import pandas as pd\nurl = \"https://raw.githubusercontent.com/Medlytics2022/Week1/master/Datasets/allhypo.train.data\"\ndataset = pd.read_csv(url)\ndataset.head(5)\n\ndataset = dataset.dropna(axis=0).reset_index(drop=True)",
   "execution_count": 1,
   "outputs": []
  },
  {
   "cell_type": "code",
   "metadata": {
    "tags": [],
    "deepnote_to_be_reexecuted": false,
    "source_hash": "efbbfa43",
    "execution_start": 1657913795049,
    "execution_millis": 0,
    "cell_id": "00005-7cc2c7ab-e3a8-4230-b070-e4ff9a000e3c",
    "deepnote_cell_type": "code",
    "deepnote_cell_height": 81
   },
   "source": "dataset.columns = ['Age', 'Sex', 'On Thyroxine', 'Query on Thyroxine', 'On Antithyroid Medication', 'Sick', 'Pregnant', 'Thyroid Surgery', 'I131 Treatment', 'Query Hypothyroid', 'Query Hyperthyroid', 'Lithium', 'Goiter', 'Tumor', 'Hypopituitary', 'Psych', 'TSH Measured', 'TSH', 'T3 Measured', 'T3', 'TT4 Measured', 'TT4', 'T4U Measured', 'T4U', 'FTI Measured', 'FTI', 'TBG Measured', 'TBG', 'Referral Source', 'Class']",
   "execution_count": 2,
   "outputs": []
  },
  {
   "cell_type": "markdown",
   "source": "Great, looks like the data loaded in properly. Let's continue looking at some summary statistics on our data.",
   "metadata": {
    "colab_type": "text",
    "id": "tYhtoqdR6Y3J",
    "cell_id": "00006-c68dfbef-ba8a-4e7b-82e4-ed680733e7f6",
    "deepnote_cell_type": "markdown",
    "deepnote_cell_height": 52.390625
   }
  },
  {
   "cell_type": "markdown",
   "source": "## Viewing summary statistics\nThe functions describe() and info() are your friends",
   "metadata": {
    "colab_type": "text",
    "id": "sGKbG-eBqBjF",
    "cell_id": "00007-611610f2-96cd-492b-94a9-c36066f1f3c1",
    "deepnote_cell_type": "markdown",
    "deepnote_cell_height": 108.390625
   }
  },
  {
   "cell_type": "code",
   "metadata": {
    "colab": {
     "autoexec": {
      "startup": false,
      "wait_interval": 0
     }
    },
    "colab_type": "code",
    "id": "rnp3nN9b6ZNw",
    "deepnote_to_be_reexecuted": false,
    "source_hash": "674a2a6",
    "execution_start": 1657913795086,
    "execution_millis": 339,
    "cell_id": "00008-42a91037-3066-466f-8be6-27aaf611e899",
    "deepnote_cell_type": "code",
    "deepnote_cell_height": 354
   },
   "source": "dataset.describe()",
   "execution_count": 3,
   "outputs": [
    {
     "output_type": "execute_result",
     "execution_count": 3,
     "data": {
      "application/vnd.deepnote.dataframe.v3+json": {
       "column_count": 30,
       "row_count": 4,
       "columns": [
        {
         "name": "Age",
         "dtype": "object",
         "stats": {
          "unique_count": 4,
          "nan_count": 0,
          "categories": [
           {
            "name": "2800",
            "count": 1
           },
           {
            "name": "94",
            "count": 1
           },
           {
            "name": "2 others",
            "count": 2
           }
          ]
         }
        },
        {
         "name": "Sex",
         "dtype": "object",
         "stats": {
          "unique_count": 4,
          "nan_count": 0,
          "categories": [
           {
            "name": "2800",
            "count": 1
           },
           {
            "name": "3",
            "count": 1
           },
           {
            "name": "2 others",
            "count": 2
           }
          ]
         }
        },
        {
         "name": "On Thyroxine",
         "dtype": "object",
         "stats": {
          "unique_count": 4,
          "nan_count": 0,
          "categories": [
           {
            "name": "2800",
            "count": 1
           },
           {
            "name": "2",
            "count": 1
           },
           {
            "name": "2 others",
            "count": 2
           }
          ]
         }
        },
        {
         "name": "Query on Thyroxine",
         "dtype": "object",
         "stats": {
          "unique_count": 4,
          "nan_count": 0,
          "categories": [
           {
            "name": "2800",
            "count": 1
           },
           {
            "name": "2",
            "count": 1
           },
           {
            "name": "2 others",
            "count": 2
           }
          ]
         }
        },
        {
         "name": "On Antithyroid Medication",
         "dtype": "object",
         "stats": {
          "unique_count": 4,
          "nan_count": 0,
          "categories": [
           {
            "name": "2800",
            "count": 1
           },
           {
            "name": "2",
            "count": 1
           },
           {
            "name": "2 others",
            "count": 2
           }
          ]
         }
        },
        {
         "name": "Sick",
         "dtype": "object",
         "stats": {
          "unique_count": 4,
          "nan_count": 0,
          "categories": [
           {
            "name": "2800",
            "count": 1
           },
           {
            "name": "2",
            "count": 1
           },
           {
            "name": "2 others",
            "count": 2
           }
          ]
         }
        },
        {
         "name": "Pregnant",
         "dtype": "object",
         "stats": {
          "unique_count": 4,
          "nan_count": 0,
          "categories": [
           {
            "name": "2800",
            "count": 1
           },
           {
            "name": "2",
            "count": 1
           },
           {
            "name": "2 others",
            "count": 2
           }
          ]
         }
        },
        {
         "name": "Thyroid Surgery",
         "dtype": "object",
         "stats": {
          "unique_count": 4,
          "nan_count": 0,
          "categories": [
           {
            "name": "2800",
            "count": 1
           },
           {
            "name": "2",
            "count": 1
           },
           {
            "name": "2 others",
            "count": 2
           }
          ]
         }
        },
        {
         "name": "I131 Treatment",
         "dtype": "object",
         "stats": {
          "unique_count": 4,
          "nan_count": 0,
          "categories": [
           {
            "name": "2800",
            "count": 1
           },
           {
            "name": "2",
            "count": 1
           },
           {
            "name": "2 others",
            "count": 2
           }
          ]
         }
        },
        {
         "name": "Query Hypothyroid",
         "dtype": "object",
         "stats": {
          "unique_count": 4,
          "nan_count": 0,
          "categories": [
           {
            "name": "2800",
            "count": 1
           },
           {
            "name": "2",
            "count": 1
           },
           {
            "name": "2 others",
            "count": 2
           }
          ]
         }
        },
        {
         "name": "Query Hyperthyroid",
         "dtype": "object",
         "stats": {
          "unique_count": 4,
          "nan_count": 0,
          "categories": [
           {
            "name": "2800",
            "count": 1
           },
           {
            "name": "2",
            "count": 1
           },
           {
            "name": "2 others",
            "count": 2
           }
          ]
         }
        },
        {
         "name": "Lithium",
         "dtype": "object",
         "stats": {
          "unique_count": 4,
          "nan_count": 0,
          "categories": [
           {
            "name": "2800",
            "count": 1
           },
           {
            "name": "2",
            "count": 1
           },
           {
            "name": "2 others",
            "count": 2
           }
          ]
         }
        },
        {
         "name": "Goiter",
         "dtype": "object",
         "stats": {
          "unique_count": 4,
          "nan_count": 0,
          "categories": [
           {
            "name": "2800",
            "count": 1
           },
           {
            "name": "2",
            "count": 1
           },
           {
            "name": "2 others",
            "count": 2
           }
          ]
         }
        },
        {
         "name": "Tumor",
         "dtype": "object",
         "stats": {
          "unique_count": 4,
          "nan_count": 0,
          "categories": [
           {
            "name": "2800",
            "count": 1
           },
           {
            "name": "2",
            "count": 1
           },
           {
            "name": "2 others",
            "count": 2
           }
          ]
         }
        },
        {
         "name": "Hypopituitary",
         "dtype": "object",
         "stats": {
          "unique_count": 4,
          "nan_count": 0,
          "categories": [
           {
            "name": "2800",
            "count": 1
           },
           {
            "name": "2",
            "count": 1
           },
           {
            "name": "2 others",
            "count": 2
           }
          ]
         }
        },
        {
         "name": "Psych",
         "dtype": "object",
         "stats": {
          "unique_count": 4,
          "nan_count": 0,
          "categories": [
           {
            "name": "2800",
            "count": 1
           },
           {
            "name": "2",
            "count": 1
           },
           {
            "name": "2 others",
            "count": 2
           }
          ]
         }
        },
        {
         "name": "TSH Measured",
         "dtype": "object",
         "stats": {
          "unique_count": 4,
          "nan_count": 0,
          "categories": [
           {
            "name": "2800",
            "count": 1
           },
           {
            "name": "2",
            "count": 1
           },
           {
            "name": "2 others",
            "count": 2
           }
          ]
         }
        },
        {
         "name": "TSH",
         "dtype": "object",
         "stats": {
          "unique_count": 4,
          "nan_count": 0,
          "categories": [
           {
            "name": "2800",
            "count": 1
           },
           {
            "name": "264",
            "count": 1
           },
           {
            "name": "2 others",
            "count": 2
           }
          ]
         }
        },
        {
         "name": "T3 Measured",
         "dtype": "object",
         "stats": {
          "unique_count": 4,
          "nan_count": 0,
          "categories": [
           {
            "name": "2800",
            "count": 1
           },
           {
            "name": "2",
            "count": 1
           },
           {
            "name": "2 others",
            "count": 2
           }
          ]
         }
        },
        {
         "name": "T3",
         "dtype": "object",
         "stats": {
          "unique_count": 4,
          "nan_count": 0,
          "categories": [
           {
            "name": "2800",
            "count": 1
           },
           {
            "name": "65",
            "count": 1
           },
           {
            "name": "2 others",
            "count": 2
           }
          ]
         }
        },
        {
         "name": "TT4 Measured",
         "dtype": "object",
         "stats": {
          "unique_count": 4,
          "nan_count": 0,
          "categories": [
           {
            "name": "2800",
            "count": 1
           },
           {
            "name": "2",
            "count": 1
           },
           {
            "name": "2 others",
            "count": 2
           }
          ]
         }
        },
        {
         "name": "TT4",
         "dtype": "object",
         "stats": {
          "unique_count": 4,
          "nan_count": 0,
          "categories": [
           {
            "name": "2800",
            "count": 1
           },
           {
            "name": "218",
            "count": 1
           },
           {
            "name": "2 others",
            "count": 2
           }
          ]
         }
        },
        {
         "name": "T4U Measured",
         "dtype": "object",
         "stats": {
          "unique_count": 4,
          "nan_count": 0,
          "categories": [
           {
            "name": "2800",
            "count": 1
           },
           {
            "name": "2",
            "count": 1
           },
           {
            "name": "2 others",
            "count": 2
           }
          ]
         }
        },
        {
         "name": "T4U",
         "dtype": "object",
         "stats": {
          "unique_count": 4,
          "nan_count": 0,
          "categories": [
           {
            "name": "2800",
            "count": 1
           },
           {
            "name": "139",
            "count": 1
           },
           {
            "name": "2 others",
            "count": 2
           }
          ]
         }
        },
        {
         "name": "FTI Measured",
         "dtype": "object",
         "stats": {
          "unique_count": 4,
          "nan_count": 0,
          "categories": [
           {
            "name": "2800",
            "count": 1
           },
           {
            "name": "2",
            "count": 1
           },
           {
            "name": "2 others",
            "count": 2
           }
          ]
         }
        },
        {
         "name": "FTI",
         "dtype": "object",
         "stats": {
          "unique_count": 4,
          "nan_count": 0,
          "categories": [
           {
            "name": "2800",
            "count": 1
           },
           {
            "name": "210",
            "count": 1
           },
           {
            "name": "2 others",
            "count": 2
           }
          ]
         }
        },
        {
         "name": "TBG Measured",
         "dtype": "object",
         "stats": {
          "unique_count": 3,
          "nan_count": 0,
          "categories": [
           {
            "name": "2800",
            "count": 2
           },
           {
            "name": "1",
            "count": 1
           },
           {
            "name": "f",
            "count": 1
           }
          ]
         }
        },
        {
         "name": "TBG",
         "dtype": "object",
         "stats": {
          "unique_count": 3,
          "nan_count": 0,
          "categories": [
           {
            "name": "2800",
            "count": 2
           },
           {
            "name": "1",
            "count": 1
           },
           {
            "name": "?",
            "count": 1
           }
          ]
         }
        },
        {
         "name": "Referral Source",
         "dtype": "object",
         "stats": {
          "unique_count": 4,
          "nan_count": 0,
          "categories": [
           {
            "name": "2800",
            "count": 1
           },
           {
            "name": "5",
            "count": 1
           },
           {
            "name": "2 others",
            "count": 2
           }
          ]
         }
        },
        {
         "name": "Class",
         "dtype": "object",
         "stats": {
          "unique_count": 3,
          "nan_count": 0,
          "categories": [
           {
            "name": "2800",
            "count": 2
           },
           {
            "name": "negative.|1713",
            "count": 1
           },
           {
            "name": "1",
            "count": 1
           }
          ]
         }
        },
        {
         "name": "_deepnote_index_column",
         "dtype": "object"
        }
       ],
       "rows": [
        {
         "Age": "2800",
         "Sex": "2800",
         "On Thyroxine": "2800",
         "Query on Thyroxine": "2800",
         "On Antithyroid Medication": "2800",
         "Sick": "2800",
         "Pregnant": "2800",
         "Thyroid Surgery": "2800",
         "I131 Treatment": "2800",
         "Query Hypothyroid": "2800",
         "Query Hyperthyroid": "2800",
         "Lithium": "2800",
         "Goiter": "2800",
         "Tumor": "2800",
         "Hypopituitary": "2800",
         "Psych": "2800",
         "TSH Measured": "2800",
         "TSH": "2800",
         "T3 Measured": "2800",
         "T3": "2800",
         "TT4 Measured": "2800",
         "TT4": "2800",
         "T4U Measured": "2800",
         "T4U": "2800",
         "FTI Measured": "2800",
         "FTI": "2800",
         "TBG Measured": "2800",
         "TBG": "2800",
         "Referral Source": "2800",
         "Class": "2800",
         "_deepnote_index_column": "count"
        },
        {
         "Age": "94",
         "Sex": "3",
         "On Thyroxine": "2",
         "Query on Thyroxine": "2",
         "On Antithyroid Medication": "2",
         "Sick": "2",
         "Pregnant": "2",
         "Thyroid Surgery": "2",
         "I131 Treatment": "2",
         "Query Hypothyroid": "2",
         "Query Hyperthyroid": "2",
         "Lithium": "2",
         "Goiter": "2",
         "Tumor": "2",
         "Hypopituitary": "2",
         "Psych": "2",
         "TSH Measured": "2",
         "TSH": "264",
         "T3 Measured": "2",
         "T3": "65",
         "TT4 Measured": "2",
         "TT4": "218",
         "T4U Measured": "2",
         "T4U": "139",
         "FTI Measured": "2",
         "FTI": "210",
         "TBG Measured": "1",
         "TBG": "1",
         "Referral Source": "5",
         "Class": "2800",
         "_deepnote_index_column": "unique"
        },
        {
         "Age": "59",
         "Sex": "F",
         "On Thyroxine": "f",
         "Query on Thyroxine": "f",
         "On Antithyroid Medication": "f",
         "Sick": "f",
         "Pregnant": "f",
         "Thyroid Surgery": "f",
         "I131 Treatment": "f",
         "Query Hypothyroid": "f",
         "Query Hyperthyroid": "f",
         "Lithium": "f",
         "Goiter": "f",
         "Tumor": "f",
         "Hypopituitary": "f",
         "Psych": "f",
         "TSH Measured": "t",
         "TSH": "?",
         "T3 Measured": "t",
         "T3": "?",
         "TT4 Measured": "t",
         "TT4": "?",
         "T4U Measured": "t",
         "T4U": "?",
         "FTI Measured": "t",
         "FTI": "?",
         "TBG Measured": "f",
         "TBG": "?",
         "Referral Source": "other",
         "Class": "negative.|1713",
         "_deepnote_index_column": "top"
        },
        {
         "Age": "75",
         "Sex": "1830",
         "On Thyroxine": "2470",
         "Query on Thyroxine": "2760",
         "On Antithyroid Medication": "2766",
         "Sick": "2690",
         "Pregnant": "2759",
         "Thyroid Surgery": "2761",
         "I131 Treatment": "2752",
         "Query Hypothyroid": "2637",
         "Query Hyperthyroid": "2627",
         "Lithium": "2786",
         "Goiter": "2775",
         "Tumor": "2729",
         "Hypopituitary": "2799",
         "Psych": "2665",
         "TSH Measured": "2516",
         "TSH": "284",
         "T3 Measured": "2215",
         "T3": "585",
         "TT4 Measured": "2616",
         "TT4": "184",
         "T4U Measured": "2503",
         "T4U": "297",
         "FTI Measured": "2505",
         "FTI": "295",
         "TBG Measured": "2800",
         "TBG": "2800",
         "Referral Source": "1632",
         "Class": "1",
         "_deepnote_index_column": "freq"
        }
       ]
      },
      "text/plain": "         Age   Sex On Thyroxine Query on Thyroxine On Antithyroid Medication  \\\ncount   2800  2800         2800               2800                      2800   \nunique    94     3            2                  2                         2   \ntop       59     F            f                  f                         f   \nfreq      75  1830         2470               2760                      2766   \n\n        Sick Pregnant Thyroid Surgery I131 Treatment Query Hypothyroid  ...  \\\ncount   2800     2800            2800           2800              2800  ...   \nunique     2        2               2              2                 2  ...   \ntop        f        f               f              f                 f  ...   \nfreq    2690     2759            2761           2752              2637  ...   \n\n       TT4 Measured   TT4 T4U Measured   T4U FTI Measured   FTI TBG Measured  \\\ncount          2800  2800         2800  2800         2800  2800         2800   \nunique            2   218            2   139            2   210            1   \ntop               t     ?            t     ?            t     ?            f   \nfreq           2616   184         2503   297         2505   295         2800   \n\n         TBG Referral Source           Class  \ncount   2800            2800            2800  \nunique     1               5            2800  \ntop        ?           other  negative.|1713  \nfreq    2800            1632               1  \n\n[4 rows x 30 columns]",
      "text/html": "<div>\n<style scoped>\n    .dataframe tbody tr th:only-of-type {\n        vertical-align: middle;\n    }\n\n    .dataframe tbody tr th {\n        vertical-align: top;\n    }\n\n    .dataframe thead th {\n        text-align: right;\n    }\n</style>\n<table border=\"1\" class=\"dataframe\">\n  <thead>\n    <tr style=\"text-align: right;\">\n      <th></th>\n      <th>Age</th>\n      <th>Sex</th>\n      <th>On Thyroxine</th>\n      <th>Query on Thyroxine</th>\n      <th>On Antithyroid Medication</th>\n      <th>Sick</th>\n      <th>Pregnant</th>\n      <th>Thyroid Surgery</th>\n      <th>I131 Treatment</th>\n      <th>Query Hypothyroid</th>\n      <th>...</th>\n      <th>TT4 Measured</th>\n      <th>TT4</th>\n      <th>T4U Measured</th>\n      <th>T4U</th>\n      <th>FTI Measured</th>\n      <th>FTI</th>\n      <th>TBG Measured</th>\n      <th>TBG</th>\n      <th>Referral Source</th>\n      <th>Class</th>\n    </tr>\n  </thead>\n  <tbody>\n    <tr>\n      <th>count</th>\n      <td>2800</td>\n      <td>2800</td>\n      <td>2800</td>\n      <td>2800</td>\n      <td>2800</td>\n      <td>2800</td>\n      <td>2800</td>\n      <td>2800</td>\n      <td>2800</td>\n      <td>2800</td>\n      <td>...</td>\n      <td>2800</td>\n      <td>2800</td>\n      <td>2800</td>\n      <td>2800</td>\n      <td>2800</td>\n      <td>2800</td>\n      <td>2800</td>\n      <td>2800</td>\n      <td>2800</td>\n      <td>2800</td>\n    </tr>\n    <tr>\n      <th>unique</th>\n      <td>94</td>\n      <td>3</td>\n      <td>2</td>\n      <td>2</td>\n      <td>2</td>\n      <td>2</td>\n      <td>2</td>\n      <td>2</td>\n      <td>2</td>\n      <td>2</td>\n      <td>...</td>\n      <td>2</td>\n      <td>218</td>\n      <td>2</td>\n      <td>139</td>\n      <td>2</td>\n      <td>210</td>\n      <td>1</td>\n      <td>1</td>\n      <td>5</td>\n      <td>2800</td>\n    </tr>\n    <tr>\n      <th>top</th>\n      <td>59</td>\n      <td>F</td>\n      <td>f</td>\n      <td>f</td>\n      <td>f</td>\n      <td>f</td>\n      <td>f</td>\n      <td>f</td>\n      <td>f</td>\n      <td>f</td>\n      <td>...</td>\n      <td>t</td>\n      <td>?</td>\n      <td>t</td>\n      <td>?</td>\n      <td>t</td>\n      <td>?</td>\n      <td>f</td>\n      <td>?</td>\n      <td>other</td>\n      <td>negative.|1713</td>\n    </tr>\n    <tr>\n      <th>freq</th>\n      <td>75</td>\n      <td>1830</td>\n      <td>2470</td>\n      <td>2760</td>\n      <td>2766</td>\n      <td>2690</td>\n      <td>2759</td>\n      <td>2761</td>\n      <td>2752</td>\n      <td>2637</td>\n      <td>...</td>\n      <td>2616</td>\n      <td>184</td>\n      <td>2503</td>\n      <td>297</td>\n      <td>2505</td>\n      <td>295</td>\n      <td>2800</td>\n      <td>2800</td>\n      <td>1632</td>\n      <td>1</td>\n    </tr>\n  </tbody>\n</table>\n<p>4 rows × 30 columns</p>\n</div>"
     },
     "metadata": {}
    }
   ]
  },
  {
   "cell_type": "code",
   "metadata": {
    "colab": {
     "autoexec": {
      "startup": false,
      "wait_interval": 0
     }
    },
    "colab_type": "code",
    "id": "9QndSspU7lW4",
    "deepnote_to_be_reexecuted": false,
    "source_hash": "90f3a161",
    "execution_start": 1657913795423,
    "execution_millis": 48,
    "cell_id": "00009-e2300dac-9007-45f2-b1ae-deca00c2118d",
    "deepnote_cell_type": "code",
    "deepnote_cell_height": 701
   },
   "source": "dataset.info()",
   "execution_count": 4,
   "outputs": [
    {
     "name": "stdout",
     "text": "<class 'pandas.core.frame.DataFrame'>\nRangeIndex: 2800 entries, 0 to 2799\nData columns (total 30 columns):\n #   Column                     Non-Null Count  Dtype \n---  ------                     --------------  ----- \n 0   Age                        2800 non-null   object\n 1   Sex                        2800 non-null   object\n 2   On Thyroxine               2800 non-null   object\n 3   Query on Thyroxine         2800 non-null   object\n 4   On Antithyroid Medication  2800 non-null   object\n 5   Sick                       2800 non-null   object\n 6   Pregnant                   2800 non-null   object\n 7   Thyroid Surgery            2800 non-null   object\n 8   I131 Treatment             2800 non-null   object\n 9   Query Hypothyroid          2800 non-null   object\n 10  Query Hyperthyroid         2800 non-null   object\n 11  Lithium                    2800 non-null   object\n 12  Goiter                     2800 non-null   object\n 13  Tumor                      2800 non-null   object\n 14  Hypopituitary              2800 non-null   object\n 15  Psych                      2800 non-null   object\n 16  TSH Measured               2800 non-null   object\n 17  TSH                        2800 non-null   object\n 18  T3 Measured                2800 non-null   object\n 19  T3                         2800 non-null   object\n 20  TT4 Measured               2800 non-null   object\n 21  TT4                        2800 non-null   object\n 22  T4U Measured               2800 non-null   object\n 23  T4U                        2800 non-null   object\n 24  FTI Measured               2800 non-null   object\n 25  FTI                        2800 non-null   object\n 26  TBG Measured               2800 non-null   object\n 27  TBG                        2800 non-null   object\n 28  Referral Source            2800 non-null   object\n 29  Class                      2800 non-null   object\ndtypes: object(30)\nmemory usage: 656.4+ KB\n",
     "output_type": "stream"
    }
   ]
  },
  {
   "cell_type": "markdown",
   "source": "Note the data types are all objects--even columns that are obviously numeric like Age. This is because there are \"?\" values for some of the cells, making pandas interpret these columns as non-null objects (instead of int, for example).",
   "metadata": {
    "colab_type": "text",
    "id": "olpFokrp8AIH",
    "cell_id": "00010-e849837c-2387-4f66-affa-d9349fefc8f0",
    "deepnote_cell_type": "markdown",
    "deepnote_cell_height": 74.796875
   }
  },
  {
   "cell_type": "markdown",
   "source": "## Data cleaning",
   "metadata": {
    "colab_type": "text",
    "id": "0emOppVyqQS9",
    "cell_id": "00011-efe95b77-1aa4-4365-b9da-53ae2ae0cb2d",
    "deepnote_cell_type": "markdown",
    "deepnote_cell_height": 70
   }
  },
  {
   "cell_type": "markdown",
   "source": "To start, let's make all the numerical columns contain the correct type of values and change the data type of those columns to numeric. Let's also replace all those question marks with the median of the respective column.\n\nHint: To make it easier, first try converting all the \"?\" to NaN.",
   "metadata": {
    "colab_type": "text",
    "id": "ZRQpnByEWrcx",
    "cell_id": "00012-2b8b1971-2b12-4890-a530-80b1b092de4c",
    "deepnote_cell_type": "markdown",
    "deepnote_cell_height": 111.1875
   }
  },
  {
   "cell_type": "code",
   "metadata": {
    "colab": {
     "autoexec": {
      "startup": false,
      "wait_interval": 0
     }
    },
    "colab_type": "code",
    "id": "BlTsaK5n5Bg1",
    "deepnote_to_be_reexecuted": false,
    "source_hash": "e6f03276",
    "execution_start": 1657913795471,
    "execution_millis": 944,
    "deepnote_table_state": {
     "pageSize": 10,
     "pageIndex": 1,
     "filters": [],
     "sortBy": []
    },
    "deepnote_table_loading": false,
    "cell_id": "00013-b93bc665-eb5c-46b7-b36b-c96b2ed0c448",
    "deepnote_cell_type": "code",
    "deepnote_cell_height": 485
   },
   "source": "import numpy as np\n\nfor i in dataset.columns:\n    dataset[i].replace(to_replace= \"?\", value=np.nan, inplace=True)\n\ndataset.head(15)",
   "execution_count": 5,
   "outputs": [
    {
     "output_type": "execute_result",
     "execution_count": 5,
     "data": {
      "application/vnd.deepnote.dataframe.v3+json": {
       "column_count": 30,
       "row_count": 15,
       "columns": [
        {
         "name": "Age",
         "dtype": "object",
         "stats": {
          "unique_count": 13,
          "nan_count": 0,
          "categories": [
           {
            "name": "70",
            "count": 2
           },
           {
            "name": "59",
            "count": 2
           },
           {
            "name": "11 others",
            "count": 11
           }
          ]
         }
        },
        {
         "name": "Sex",
         "dtype": "object",
         "stats": {
          "unique_count": 2,
          "nan_count": 0,
          "categories": [
           {
            "name": "F",
            "count": 12
           },
           {
            "name": "M",
            "count": 3
           }
          ]
         }
        },
        {
         "name": "On Thyroxine",
         "dtype": "object",
         "stats": {
          "unique_count": 2,
          "nan_count": 0,
          "categories": [
           {
            "name": "f",
            "count": 12
           },
           {
            "name": "t",
            "count": 3
           }
          ]
         }
        },
        {
         "name": "Query on Thyroxine",
         "dtype": "object",
         "stats": {
          "unique_count": 1,
          "nan_count": 0,
          "categories": [
           {
            "name": "f",
            "count": 15
           }
          ]
         }
        },
        {
         "name": "On Antithyroid Medication",
         "dtype": "object",
         "stats": {
          "unique_count": 1,
          "nan_count": 0,
          "categories": [
           {
            "name": "f",
            "count": 15
           }
          ]
         }
        },
        {
         "name": "Sick",
         "dtype": "object",
         "stats": {
          "unique_count": 2,
          "nan_count": 0,
          "categories": [
           {
            "name": "f",
            "count": 14
           },
           {
            "name": "t",
            "count": 1
           }
          ]
         }
        },
        {
         "name": "Pregnant",
         "dtype": "object",
         "stats": {
          "unique_count": 1,
          "nan_count": 0,
          "categories": [
           {
            "name": "f",
            "count": 15
           }
          ]
         }
        },
        {
         "name": "Thyroid Surgery",
         "dtype": "object",
         "stats": {
          "unique_count": 1,
          "nan_count": 0,
          "categories": [
           {
            "name": "f",
            "count": 15
           }
          ]
         }
        },
        {
         "name": "I131 Treatment",
         "dtype": "object",
         "stats": {
          "unique_count": 1,
          "nan_count": 0,
          "categories": [
           {
            "name": "f",
            "count": 15
           }
          ]
         }
        },
        {
         "name": "Query Hypothyroid",
         "dtype": "object",
         "stats": {
          "unique_count": 1,
          "nan_count": 0,
          "categories": [
           {
            "name": "f",
            "count": 15
           }
          ]
         }
        },
        {
         "name": "Query Hyperthyroid",
         "dtype": "object",
         "stats": {
          "unique_count": 2,
          "nan_count": 0,
          "categories": [
           {
            "name": "f",
            "count": 14
           },
           {
            "name": "t",
            "count": 1
           }
          ]
         }
        },
        {
         "name": "Lithium",
         "dtype": "object",
         "stats": {
          "unique_count": 1,
          "nan_count": 0,
          "categories": [
           {
            "name": "f",
            "count": 15
           }
          ]
         }
        },
        {
         "name": "Goiter",
         "dtype": "object",
         "stats": {
          "unique_count": 1,
          "nan_count": 0,
          "categories": [
           {
            "name": "f",
            "count": 15
           }
          ]
         }
        },
        {
         "name": "Tumor",
         "dtype": "object",
         "stats": {
          "unique_count": 2,
          "nan_count": 0,
          "categories": [
           {
            "name": "f",
            "count": 13
           },
           {
            "name": "t",
            "count": 2
           }
          ]
         }
        },
        {
         "name": "Hypopituitary",
         "dtype": "object",
         "stats": {
          "unique_count": 1,
          "nan_count": 0,
          "categories": [
           {
            "name": "f",
            "count": 15
           }
          ]
         }
        },
        {
         "name": "Psych",
         "dtype": "object",
         "stats": {
          "unique_count": 1,
          "nan_count": 0,
          "categories": [
           {
            "name": "f",
            "count": 15
           }
          ]
         }
        },
        {
         "name": "TSH Measured",
         "dtype": "object",
         "stats": {
          "unique_count": 2,
          "nan_count": 0,
          "categories": [
           {
            "name": "t",
            "count": 14
           },
           {
            "name": "f",
            "count": 1
           }
          ]
         }
        },
        {
         "name": "TSH",
         "dtype": "object",
         "stats": {
          "unique_count": 12,
          "nan_count": 1,
          "categories": [
           {
            "name": "0.03",
            "count": 3
           },
           {
            "name": "11 others",
            "count": 11
           },
           {
            "name": "Missing",
            "count": 1
           }
          ]
         }
        },
        {
         "name": "T3 Measured",
         "dtype": "object",
         "stats": {
          "unique_count": 2,
          "nan_count": 0,
          "categories": [
           {
            "name": "t",
            "count": 11
           },
           {
            "name": "f",
            "count": 4
           }
          ]
         }
        },
        {
         "name": "T3",
         "dtype": "object",
         "stats": {
          "unique_count": 10,
          "nan_count": 4,
          "categories": [
           {
            "name": "2.2",
            "count": 2
           },
           {
            "name": "9 others",
            "count": 9
           },
           {
            "name": "Missing",
            "count": 4
           }
          ]
         }
        },
        {
         "name": "TT4 Measured",
         "dtype": "object",
         "stats": {
          "unique_count": 1,
          "nan_count": 0,
          "categories": [
           {
            "name": "t",
            "count": 15
           }
          ]
         }
        },
        {
         "name": "TT4",
         "dtype": "object",
         "stats": {
          "unique_count": 14,
          "nan_count": 0,
          "categories": [
           {
            "name": "109",
            "count": 2
           },
           {
            "name": "125",
            "count": 1
           },
           {
            "name": "12 others",
            "count": 12
           }
          ]
         }
        },
        {
         "name": "T4U Measured",
         "dtype": "object",
         "stats": {
          "unique_count": 2,
          "nan_count": 0,
          "categories": [
           {
            "name": "t",
            "count": 13
           },
           {
            "name": "f",
            "count": 2
           }
          ]
         }
        },
        {
         "name": "T4U",
         "dtype": "object",
         "stats": {
          "unique_count": 11,
          "nan_count": 2,
          "categories": [
           {
            "name": "0.91",
            "count": 3
           },
           {
            "name": "10 others",
            "count": 10
           },
           {
            "name": "Missing",
            "count": 2
           }
          ]
         }
        },
        {
         "name": "FTI Measured",
         "dtype": "object",
         "stats": {
          "unique_count": 2,
          "nan_count": 0,
          "categories": [
           {
            "name": "t",
            "count": 13
           },
           {
            "name": "f",
            "count": 2
           }
          ]
         }
        },
        {
         "name": "FTI",
         "dtype": "object",
         "stats": {
          "unique_count": 13,
          "nan_count": 2,
          "categories": [
           {
            "name": "109",
            "count": 1
           },
           {
            "name": "12 others",
            "count": 12
           },
           {
            "name": "Missing",
            "count": 2
           }
          ]
         }
        },
        {
         "name": "TBG Measured",
         "dtype": "object",
         "stats": {
          "unique_count": 1,
          "nan_count": 0,
          "categories": [
           {
            "name": "f",
            "count": 15
           }
          ]
         }
        },
        {
         "name": "TBG",
         "dtype": "float64",
         "stats": {
          "unique_count": 0,
          "nan_count": 15,
          "min": null,
          "max": null,
          "histogram": [
           {
            "bin_start": 0,
            "bin_end": 0.1,
            "count": 0
           },
           {
            "bin_start": 0.1,
            "bin_end": 0.2,
            "count": 0
           },
           {
            "bin_start": 0.2,
            "bin_end": 0.30000000000000004,
            "count": 0
           },
           {
            "bin_start": 0.30000000000000004,
            "bin_end": 0.4,
            "count": 0
           },
           {
            "bin_start": 0.4,
            "bin_end": 0.5,
            "count": 0
           },
           {
            "bin_start": 0.5,
            "bin_end": 0.6000000000000001,
            "count": 0
           },
           {
            "bin_start": 0.6000000000000001,
            "bin_end": 0.7000000000000001,
            "count": 0
           },
           {
            "bin_start": 0.7000000000000001,
            "bin_end": 0.8,
            "count": 0
           },
           {
            "bin_start": 0.8,
            "bin_end": 0.9,
            "count": 0
           },
           {
            "bin_start": 0.9,
            "bin_end": 1,
            "count": 0
           }
          ]
         }
        },
        {
         "name": "Referral Source",
         "dtype": "object",
         "stats": {
          "unique_count": 3,
          "nan_count": 0,
          "categories": [
           {
            "name": "other",
            "count": 7
           },
           {
            "name": "SVI",
            "count": 6
           },
           {
            "name": "SVHC",
            "count": 2
           }
          ]
         }
        },
        {
         "name": "Class",
         "dtype": "object",
         "stats": {
          "unique_count": 15,
          "nan_count": 0,
          "categories": [
           {
            "name": "negative.|3733",
            "count": 1
           },
           {
            "name": "negative.|1442",
            "count": 1
           },
           {
            "name": "13 others",
            "count": 13
           }
          ]
         }
        },
        {
         "name": "_deepnote_index_column",
         "dtype": "int64"
        }
       ],
       "rows": [
        {
         "Age": "84",
         "Sex": "F",
         "On Thyroxine": "f",
         "Query on Thyroxine": "f",
         "On Antithyroid Medication": "f",
         "Sick": "f",
         "Pregnant": "f",
         "Thyroid Surgery": "f",
         "I131 Treatment": "f",
         "Query Hypothyroid": "f",
         "Query Hyperthyroid": "f",
         "Lithium": "f",
         "Goiter": "f",
         "Tumor": "t",
         "Hypopituitary": "f",
         "Psych": "f",
         "TSH Measured": "t",
         "TSH": "1.1",
         "T3 Measured": "t",
         "T3": "2.2",
         "TT4 Measured": "t",
         "TT4": "115",
         "T4U Measured": "t",
         "T4U": "0.95",
         "FTI Measured": "t",
         "FTI": "121",
         "TBG Measured": "f",
         "TBG": "nan",
         "Referral Source": "SVI",
         "Class": "negative.|1485",
         "_deepnote_index_column": 10
        },
        {
         "Age": "67",
         "Sex": "F",
         "On Thyroxine": "t",
         "Query on Thyroxine": "f",
         "On Antithyroid Medication": "f",
         "Sick": "f",
         "Pregnant": "f",
         "Thyroid Surgery": "f",
         "I131 Treatment": "f",
         "Query Hypothyroid": "f",
         "Query Hyperthyroid": "f",
         "Lithium": "f",
         "Goiter": "f",
         "Tumor": "f",
         "Hypopituitary": "f",
         "Psych": "f",
         "TSH Measured": "t",
         "TSH": "0.03",
         "T3 Measured": "f",
         "T3": "nan",
         "TT4 Measured": "t",
         "TT4": "152",
         "T4U Measured": "t",
         "T4U": "0.99",
         "FTI Measured": "t",
         "FTI": "153",
         "TBG Measured": "f",
         "TBG": "nan",
         "Referral Source": "other",
         "Class": "negative.|3448",
         "_deepnote_index_column": 11
        },
        {
         "Age": "71",
         "Sex": "F",
         "On Thyroxine": "f",
         "Query on Thyroxine": "f",
         "On Antithyroid Medication": "f",
         "Sick": "t",
         "Pregnant": "f",
         "Thyroid Surgery": "f",
         "I131 Treatment": "f",
         "Query Hypothyroid": "f",
         "Query Hyperthyroid": "t",
         "Lithium": "f",
         "Goiter": "f",
         "Tumor": "f",
         "Hypopituitary": "f",
         "Psych": "f",
         "TSH Measured": "t",
         "TSH": "0.03",
         "T3 Measured": "t",
         "T3": "3.8",
         "TT4 Measured": "t",
         "TT4": "171",
         "T4U Measured": "t",
         "T4U": "1.13",
         "FTI Measured": "t",
         "FTI": "151",
         "TBG Measured": "f",
         "TBG": "nan",
         "Referral Source": "other",
         "Class": "negative.|1027",
         "_deepnote_index_column": 12
        },
        {
         "Age": "59",
         "Sex": "F",
         "On Thyroxine": "f",
         "Query on Thyroxine": "f",
         "On Antithyroid Medication": "f",
         "Sick": "f",
         "Pregnant": "f",
         "Thyroid Surgery": "f",
         "I131 Treatment": "f",
         "Query Hypothyroid": "f",
         "Query Hyperthyroid": "f",
         "Lithium": "f",
         "Goiter": "f",
         "Tumor": "f",
         "Hypopituitary": "f",
         "Psych": "f",
         "TSH Measured": "t",
         "TSH": "2.8",
         "T3 Measured": "t",
         "T3": "1.7",
         "TT4 Measured": "t",
         "TT4": "97",
         "T4U Measured": "t",
         "T4U": "0.91",
         "FTI Measured": "t",
         "FTI": "107",
         "TBG Measured": "f",
         "TBG": "nan",
         "Referral Source": "SVI",
         "Class": "negative.|3331",
         "_deepnote_index_column": 13
        },
        {
         "Age": "28",
         "Sex": "M",
         "On Thyroxine": "f",
         "Query on Thyroxine": "f",
         "On Antithyroid Medication": "f",
         "Sick": "f",
         "Pregnant": "f",
         "Thyroid Surgery": "f",
         "I131 Treatment": "f",
         "Query Hypothyroid": "f",
         "Query Hyperthyroid": "f",
         "Lithium": "f",
         "Goiter": "f",
         "Tumor": "f",
         "Hypopituitary": "f",
         "Psych": "f",
         "TSH Measured": "t",
         "TSH": "3.3",
         "T3 Measured": "t",
         "T3": "1.8",
         "TT4 Measured": "t",
         "TT4": "109",
         "T4U Measured": "t",
         "T4U": "0.91",
         "FTI Measured": "t",
         "FTI": "119",
         "TBG Measured": "f",
         "TBG": "nan",
         "Referral Source": "SVHC",
         "Class": "negative.|2043",
         "_deepnote_index_column": 14
        }
       ]
      },
      "text/plain": "   Age Sex On Thyroxine Query on Thyroxine On Antithyroid Medication Sick  \\\n0   41   F            f                  f                         f    f   \n1   23   F            f                  f                         f    f   \n2   46   M            f                  f                         f    f   \n3   70   F            t                  f                         f    f   \n4   70   F            f                  f                         f    f   \n5   18   F            t                  f                         f    f   \n6   59   F            f                  f                         f    f   \n7   80   F            f                  f                         f    f   \n8   66   F            f                  f                         f    f   \n9   68   M            f                  f                         f    f   \n10  84   F            f                  f                         f    f   \n11  67   F            t                  f                         f    f   \n12  71   F            f                  f                         f    t   \n13  59   F            f                  f                         f    f   \n14  28   M            f                  f                         f    f   \n\n   Pregnant Thyroid Surgery I131 Treatment Query Hypothyroid  ...  \\\n0         f               f              f                 f  ...   \n1         f               f              f                 f  ...   \n2         f               f              f                 f  ...   \n3         f               f              f                 f  ...   \n4         f               f              f                 f  ...   \n5         f               f              f                 f  ...   \n6         f               f              f                 f  ...   \n7         f               f              f                 f  ...   \n8         f               f              f                 f  ...   \n9         f               f              f                 f  ...   \n10        f               f              f                 f  ...   \n11        f               f              f                 f  ...   \n12        f               f              f                 f  ...   \n13        f               f              f                 f  ...   \n14        f               f              f                 f  ...   \n\n   TT4 Measured  TT4 T4U Measured   T4U FTI Measured  FTI TBG Measured TBG  \\\n0             t  125            t  1.14            t  109            f NaN   \n1             t  102            f   NaN            f  NaN            f NaN   \n2             t  109            t  0.91            t  120            f NaN   \n3             t  175            f   NaN            f  NaN            f NaN   \n4             t   61            t  0.87            t   70            f NaN   \n5             t  183            t   1.3            t  141            f NaN   \n6             t   72            t  0.92            t   78            f NaN   \n7             t   80            t   0.7            t  115            f NaN   \n8             t  123            t  0.93            t  132            f NaN   \n9             t   83            t  0.89            t   93            f NaN   \n10            t  115            t  0.95            t  121            f NaN   \n11            t  152            t  0.99            t  153            f NaN   \n12            t  171            t  1.13            t  151            f NaN   \n13            t   97            t  0.91            t  107            f NaN   \n14            t  109            t  0.91            t  119            f NaN   \n\n   Referral Source           Class  \n0             SVHC  negative.|3733  \n1            other  negative.|1442  \n2            other  negative.|2965  \n3            other   negative.|806  \n4              SVI  negative.|2807  \n5            other  negative.|3434  \n6            other  negative.|1595  \n7              SVI  negative.|1367  \n8              SVI  negative.|1787  \n9              SVI  negative.|2534  \n10             SVI  negative.|1485  \n11           other  negative.|3448  \n12           other  negative.|1027  \n13             SVI  negative.|3331  \n14            SVHC  negative.|2043  \n\n[15 rows x 30 columns]",
      "text/html": "<div>\n<style scoped>\n    .dataframe tbody tr th:only-of-type {\n        vertical-align: middle;\n    }\n\n    .dataframe tbody tr th {\n        vertical-align: top;\n    }\n\n    .dataframe thead th {\n        text-align: right;\n    }\n</style>\n<table border=\"1\" class=\"dataframe\">\n  <thead>\n    <tr style=\"text-align: right;\">\n      <th></th>\n      <th>Age</th>\n      <th>Sex</th>\n      <th>On Thyroxine</th>\n      <th>Query on Thyroxine</th>\n      <th>On Antithyroid Medication</th>\n      <th>Sick</th>\n      <th>Pregnant</th>\n      <th>Thyroid Surgery</th>\n      <th>I131 Treatment</th>\n      <th>Query Hypothyroid</th>\n      <th>...</th>\n      <th>TT4 Measured</th>\n      <th>TT4</th>\n      <th>T4U Measured</th>\n      <th>T4U</th>\n      <th>FTI Measured</th>\n      <th>FTI</th>\n      <th>TBG Measured</th>\n      <th>TBG</th>\n      <th>Referral Source</th>\n      <th>Class</th>\n    </tr>\n  </thead>\n  <tbody>\n    <tr>\n      <th>0</th>\n      <td>41</td>\n      <td>F</td>\n      <td>f</td>\n      <td>f</td>\n      <td>f</td>\n      <td>f</td>\n      <td>f</td>\n      <td>f</td>\n      <td>f</td>\n      <td>f</td>\n      <td>...</td>\n      <td>t</td>\n      <td>125</td>\n      <td>t</td>\n      <td>1.14</td>\n      <td>t</td>\n      <td>109</td>\n      <td>f</td>\n      <td>NaN</td>\n      <td>SVHC</td>\n      <td>negative.|3733</td>\n    </tr>\n    <tr>\n      <th>1</th>\n      <td>23</td>\n      <td>F</td>\n      <td>f</td>\n      <td>f</td>\n      <td>f</td>\n      <td>f</td>\n      <td>f</td>\n      <td>f</td>\n      <td>f</td>\n      <td>f</td>\n      <td>...</td>\n      <td>t</td>\n      <td>102</td>\n      <td>f</td>\n      <td>NaN</td>\n      <td>f</td>\n      <td>NaN</td>\n      <td>f</td>\n      <td>NaN</td>\n      <td>other</td>\n      <td>negative.|1442</td>\n    </tr>\n    <tr>\n      <th>2</th>\n      <td>46</td>\n      <td>M</td>\n      <td>f</td>\n      <td>f</td>\n      <td>f</td>\n      <td>f</td>\n      <td>f</td>\n      <td>f</td>\n      <td>f</td>\n      <td>f</td>\n      <td>...</td>\n      <td>t</td>\n      <td>109</td>\n      <td>t</td>\n      <td>0.91</td>\n      <td>t</td>\n      <td>120</td>\n      <td>f</td>\n      <td>NaN</td>\n      <td>other</td>\n      <td>negative.|2965</td>\n    </tr>\n    <tr>\n      <th>3</th>\n      <td>70</td>\n      <td>F</td>\n      <td>t</td>\n      <td>f</td>\n      <td>f</td>\n      <td>f</td>\n      <td>f</td>\n      <td>f</td>\n      <td>f</td>\n      <td>f</td>\n      <td>...</td>\n      <td>t</td>\n      <td>175</td>\n      <td>f</td>\n      <td>NaN</td>\n      <td>f</td>\n      <td>NaN</td>\n      <td>f</td>\n      <td>NaN</td>\n      <td>other</td>\n      <td>negative.|806</td>\n    </tr>\n    <tr>\n      <th>4</th>\n      <td>70</td>\n      <td>F</td>\n      <td>f</td>\n      <td>f</td>\n      <td>f</td>\n      <td>f</td>\n      <td>f</td>\n      <td>f</td>\n      <td>f</td>\n      <td>f</td>\n      <td>...</td>\n      <td>t</td>\n      <td>61</td>\n      <td>t</td>\n      <td>0.87</td>\n      <td>t</td>\n      <td>70</td>\n      <td>f</td>\n      <td>NaN</td>\n      <td>SVI</td>\n      <td>negative.|2807</td>\n    </tr>\n    <tr>\n      <th>5</th>\n      <td>18</td>\n      <td>F</td>\n      <td>t</td>\n      <td>f</td>\n      <td>f</td>\n      <td>f</td>\n      <td>f</td>\n      <td>f</td>\n      <td>f</td>\n      <td>f</td>\n      <td>...</td>\n      <td>t</td>\n      <td>183</td>\n      <td>t</td>\n      <td>1.3</td>\n      <td>t</td>\n      <td>141</td>\n      <td>f</td>\n      <td>NaN</td>\n      <td>other</td>\n      <td>negative.|3434</td>\n    </tr>\n    <tr>\n      <th>6</th>\n      <td>59</td>\n      <td>F</td>\n      <td>f</td>\n      <td>f</td>\n      <td>f</td>\n      <td>f</td>\n      <td>f</td>\n      <td>f</td>\n      <td>f</td>\n      <td>f</td>\n      <td>...</td>\n      <td>t</td>\n      <td>72</td>\n      <td>t</td>\n      <td>0.92</td>\n      <td>t</td>\n      <td>78</td>\n      <td>f</td>\n      <td>NaN</td>\n      <td>other</td>\n      <td>negative.|1595</td>\n    </tr>\n    <tr>\n      <th>7</th>\n      <td>80</td>\n      <td>F</td>\n      <td>f</td>\n      <td>f</td>\n      <td>f</td>\n      <td>f</td>\n      <td>f</td>\n      <td>f</td>\n      <td>f</td>\n      <td>f</td>\n      <td>...</td>\n      <td>t</td>\n      <td>80</td>\n      <td>t</td>\n      <td>0.7</td>\n      <td>t</td>\n      <td>115</td>\n      <td>f</td>\n      <td>NaN</td>\n      <td>SVI</td>\n      <td>negative.|1367</td>\n    </tr>\n    <tr>\n      <th>8</th>\n      <td>66</td>\n      <td>F</td>\n      <td>f</td>\n      <td>f</td>\n      <td>f</td>\n      <td>f</td>\n      <td>f</td>\n      <td>f</td>\n      <td>f</td>\n      <td>f</td>\n      <td>...</td>\n      <td>t</td>\n      <td>123</td>\n      <td>t</td>\n      <td>0.93</td>\n      <td>t</td>\n      <td>132</td>\n      <td>f</td>\n      <td>NaN</td>\n      <td>SVI</td>\n      <td>negative.|1787</td>\n    </tr>\n    <tr>\n      <th>9</th>\n      <td>68</td>\n      <td>M</td>\n      <td>f</td>\n      <td>f</td>\n      <td>f</td>\n      <td>f</td>\n      <td>f</td>\n      <td>f</td>\n      <td>f</td>\n      <td>f</td>\n      <td>...</td>\n      <td>t</td>\n      <td>83</td>\n      <td>t</td>\n      <td>0.89</td>\n      <td>t</td>\n      <td>93</td>\n      <td>f</td>\n      <td>NaN</td>\n      <td>SVI</td>\n      <td>negative.|2534</td>\n    </tr>\n    <tr>\n      <th>10</th>\n      <td>84</td>\n      <td>F</td>\n      <td>f</td>\n      <td>f</td>\n      <td>f</td>\n      <td>f</td>\n      <td>f</td>\n      <td>f</td>\n      <td>f</td>\n      <td>f</td>\n      <td>...</td>\n      <td>t</td>\n      <td>115</td>\n      <td>t</td>\n      <td>0.95</td>\n      <td>t</td>\n      <td>121</td>\n      <td>f</td>\n      <td>NaN</td>\n      <td>SVI</td>\n      <td>negative.|1485</td>\n    </tr>\n    <tr>\n      <th>11</th>\n      <td>67</td>\n      <td>F</td>\n      <td>t</td>\n      <td>f</td>\n      <td>f</td>\n      <td>f</td>\n      <td>f</td>\n      <td>f</td>\n      <td>f</td>\n      <td>f</td>\n      <td>...</td>\n      <td>t</td>\n      <td>152</td>\n      <td>t</td>\n      <td>0.99</td>\n      <td>t</td>\n      <td>153</td>\n      <td>f</td>\n      <td>NaN</td>\n      <td>other</td>\n      <td>negative.|3448</td>\n    </tr>\n    <tr>\n      <th>12</th>\n      <td>71</td>\n      <td>F</td>\n      <td>f</td>\n      <td>f</td>\n      <td>f</td>\n      <td>t</td>\n      <td>f</td>\n      <td>f</td>\n      <td>f</td>\n      <td>f</td>\n      <td>...</td>\n      <td>t</td>\n      <td>171</td>\n      <td>t</td>\n      <td>1.13</td>\n      <td>t</td>\n      <td>151</td>\n      <td>f</td>\n      <td>NaN</td>\n      <td>other</td>\n      <td>negative.|1027</td>\n    </tr>\n    <tr>\n      <th>13</th>\n      <td>59</td>\n      <td>F</td>\n      <td>f</td>\n      <td>f</td>\n      <td>f</td>\n      <td>f</td>\n      <td>f</td>\n      <td>f</td>\n      <td>f</td>\n      <td>f</td>\n      <td>...</td>\n      <td>t</td>\n      <td>97</td>\n      <td>t</td>\n      <td>0.91</td>\n      <td>t</td>\n      <td>107</td>\n      <td>f</td>\n      <td>NaN</td>\n      <td>SVI</td>\n      <td>negative.|3331</td>\n    </tr>\n    <tr>\n      <th>14</th>\n      <td>28</td>\n      <td>M</td>\n      <td>f</td>\n      <td>f</td>\n      <td>f</td>\n      <td>f</td>\n      <td>f</td>\n      <td>f</td>\n      <td>f</td>\n      <td>f</td>\n      <td>...</td>\n      <td>t</td>\n      <td>109</td>\n      <td>t</td>\n      <td>0.91</td>\n      <td>t</td>\n      <td>119</td>\n      <td>f</td>\n      <td>NaN</td>\n      <td>SVHC</td>\n      <td>negative.|2043</td>\n    </tr>\n  </tbody>\n</table>\n<p>15 rows × 30 columns</p>\n</div>"
     },
     "metadata": {}
    }
   ]
  },
  {
   "cell_type": "code",
   "metadata": {
    "tags": [],
    "deepnote_to_be_reexecuted": false,
    "source_hash": "10724ecb",
    "execution_start": 1657913795663,
    "execution_millis": 771,
    "cell_id": "00014-74afcf1a-f580-4bfa-bf29-da70a6a6b2a0",
    "deepnote_cell_type": "code",
    "deepnote_cell_height": 600
   },
   "source": "dataset",
   "execution_count": 6,
   "outputs": [
    {
     "output_type": "execute_result",
     "execution_count": 6,
     "data": {
      "application/vnd.deepnote.dataframe.v3+json": {
       "column_count": 30,
       "row_count": 2800,
       "columns": [
        {
         "name": "Age",
         "dtype": "object",
         "stats": {
          "unique_count": 93,
          "nan_count": 1,
          "categories": [
           {
            "name": "59",
            "count": 75
           },
           {
            "name": "92 others",
            "count": 2724
           },
           {
            "name": "Missing",
            "count": 1
           }
          ]
         }
        },
        {
         "name": "Sex",
         "dtype": "object",
         "stats": {
          "unique_count": 2,
          "nan_count": 110,
          "categories": [
           {
            "name": "F",
            "count": 1830
           },
           {
            "name": "M",
            "count": 860
           },
           {
            "name": "Missing",
            "count": 110
           }
          ]
         }
        },
        {
         "name": "On Thyroxine",
         "dtype": "object",
         "stats": {
          "unique_count": 2,
          "nan_count": 0,
          "categories": [
           {
            "name": "f",
            "count": 2470
           },
           {
            "name": "t",
            "count": 330
           }
          ]
         }
        },
        {
         "name": "Query on Thyroxine",
         "dtype": "object",
         "stats": {
          "unique_count": 2,
          "nan_count": 0,
          "categories": [
           {
            "name": "f",
            "count": 2760
           },
           {
            "name": "t",
            "count": 40
           }
          ]
         }
        },
        {
         "name": "On Antithyroid Medication",
         "dtype": "object",
         "stats": {
          "unique_count": 2,
          "nan_count": 0,
          "categories": [
           {
            "name": "f",
            "count": 2766
           },
           {
            "name": "t",
            "count": 34
           }
          ]
         }
        },
        {
         "name": "Sick",
         "dtype": "object",
         "stats": {
          "unique_count": 2,
          "nan_count": 0,
          "categories": [
           {
            "name": "f",
            "count": 2690
           },
           {
            "name": "t",
            "count": 110
           }
          ]
         }
        },
        {
         "name": "Pregnant",
         "dtype": "object",
         "stats": {
          "unique_count": 2,
          "nan_count": 0,
          "categories": [
           {
            "name": "f",
            "count": 2759
           },
           {
            "name": "t",
            "count": 41
           }
          ]
         }
        },
        {
         "name": "Thyroid Surgery",
         "dtype": "object",
         "stats": {
          "unique_count": 2,
          "nan_count": 0,
          "categories": [
           {
            "name": "f",
            "count": 2761
           },
           {
            "name": "t",
            "count": 39
           }
          ]
         }
        },
        {
         "name": "I131 Treatment",
         "dtype": "object",
         "stats": {
          "unique_count": 2,
          "nan_count": 0,
          "categories": [
           {
            "name": "f",
            "count": 2752
           },
           {
            "name": "t",
            "count": 48
           }
          ]
         }
        },
        {
         "name": "Query Hypothyroid",
         "dtype": "object",
         "stats": {
          "unique_count": 2,
          "nan_count": 0,
          "categories": [
           {
            "name": "f",
            "count": 2637
           },
           {
            "name": "t",
            "count": 163
           }
          ]
         }
        },
        {
         "name": "Query Hyperthyroid",
         "dtype": "object",
         "stats": {
          "unique_count": 2,
          "nan_count": 0,
          "categories": [
           {
            "name": "f",
            "count": 2627
           },
           {
            "name": "t",
            "count": 173
           }
          ]
         }
        },
        {
         "name": "Lithium",
         "dtype": "object",
         "stats": {
          "unique_count": 2,
          "nan_count": 0,
          "categories": [
           {
            "name": "f",
            "count": 2786
           },
           {
            "name": "t",
            "count": 14
           }
          ]
         }
        },
        {
         "name": "Goiter",
         "dtype": "object",
         "stats": {
          "unique_count": 2,
          "nan_count": 0,
          "categories": [
           {
            "name": "f",
            "count": 2775
           },
           {
            "name": "t",
            "count": 25
           }
          ]
         }
        },
        {
         "name": "Tumor",
         "dtype": "object",
         "stats": {
          "unique_count": 2,
          "nan_count": 0,
          "categories": [
           {
            "name": "f",
            "count": 2729
           },
           {
            "name": "t",
            "count": 71
           }
          ]
         }
        },
        {
         "name": "Hypopituitary",
         "dtype": "object",
         "stats": {
          "unique_count": 2,
          "nan_count": 0,
          "categories": [
           {
            "name": "f",
            "count": 2799
           },
           {
            "name": "t",
            "count": 1
           }
          ]
         }
        },
        {
         "name": "Psych",
         "dtype": "object",
         "stats": {
          "unique_count": 2,
          "nan_count": 0,
          "categories": [
           {
            "name": "f",
            "count": 2665
           },
           {
            "name": "t",
            "count": 135
           }
          ]
         }
        },
        {
         "name": "TSH Measured",
         "dtype": "object",
         "stats": {
          "unique_count": 2,
          "nan_count": 0,
          "categories": [
           {
            "name": "t",
            "count": 2516
           },
           {
            "name": "f",
            "count": 284
           }
          ]
         }
        },
        {
         "name": "TSH",
         "dtype": "object",
         "stats": {
          "unique_count": 263,
          "nan_count": 284,
          "categories": [
           {
            "name": "0.2",
            "count": 88
           },
           {
            "name": "262 others",
            "count": 2428
           },
           {
            "name": "Missing",
            "count": 284
           }
          ]
         }
        },
        {
         "name": "T3 Measured",
         "dtype": "object",
         "stats": {
          "unique_count": 2,
          "nan_count": 0,
          "categories": [
           {
            "name": "t",
            "count": 2215
           },
           {
            "name": "f",
            "count": 585
           }
          ]
         }
        },
        {
         "name": "T3",
         "dtype": "object",
         "stats": {
          "unique_count": 64,
          "nan_count": 585,
          "categories": [
           {
            "name": "2",
            "count": 169
           },
           {
            "name": "63 others",
            "count": 2046
           },
           {
            "name": "Missing",
            "count": 585
           }
          ]
         }
        },
        {
         "name": "TT4 Measured",
         "dtype": "object",
         "stats": {
          "unique_count": 2,
          "nan_count": 0,
          "categories": [
           {
            "name": "t",
            "count": 2616
           },
           {
            "name": "f",
            "count": 184
           }
          ]
         }
        },
        {
         "name": "TT4",
         "dtype": "object",
         "stats": {
          "unique_count": 217,
          "nan_count": 184,
          "categories": [
           {
            "name": "101",
            "count": 62
           },
           {
            "name": "216 others",
            "count": 2554
           },
           {
            "name": "Missing",
            "count": 184
           }
          ]
         }
        },
        {
         "name": "T4U Measured",
         "dtype": "object",
         "stats": {
          "unique_count": 2,
          "nan_count": 0,
          "categories": [
           {
            "name": "t",
            "count": 2503
           },
           {
            "name": "f",
            "count": 297
           }
          ]
         }
        },
        {
         "name": "T4U",
         "dtype": "object",
         "stats": {
          "unique_count": 138,
          "nan_count": 297,
          "categories": [
           {
            "name": "0.99",
            "count": 81
           },
           {
            "name": "137 others",
            "count": 2422
           },
           {
            "name": "Missing",
            "count": 297
           }
          ]
         }
        },
        {
         "name": "FTI Measured",
         "dtype": "object",
         "stats": {
          "unique_count": 2,
          "nan_count": 0,
          "categories": [
           {
            "name": "t",
            "count": 2505
           },
           {
            "name": "f",
            "count": 295
           }
          ]
         }
        },
        {
         "name": "FTI",
         "dtype": "object",
         "stats": {
          "unique_count": 209,
          "nan_count": 295,
          "categories": [
           {
            "name": "107",
            "count": 52
           },
           {
            "name": "208 others",
            "count": 2453
           },
           {
            "name": "Missing",
            "count": 295
           }
          ]
         }
        },
        {
         "name": "TBG Measured",
         "dtype": "object",
         "stats": {
          "unique_count": 1,
          "nan_count": 0,
          "categories": [
           {
            "name": "f",
            "count": 2800
           }
          ]
         }
        },
        {
         "name": "TBG",
         "dtype": "float64",
         "stats": {
          "unique_count": 0,
          "nan_count": 2800,
          "min": null,
          "max": null,
          "histogram": [
           {
            "bin_start": 0,
            "bin_end": 0.1,
            "count": 0
           },
           {
            "bin_start": 0.1,
            "bin_end": 0.2,
            "count": 0
           },
           {
            "bin_start": 0.2,
            "bin_end": 0.30000000000000004,
            "count": 0
           },
           {
            "bin_start": 0.30000000000000004,
            "bin_end": 0.4,
            "count": 0
           },
           {
            "bin_start": 0.4,
            "bin_end": 0.5,
            "count": 0
           },
           {
            "bin_start": 0.5,
            "bin_end": 0.6000000000000001,
            "count": 0
           },
           {
            "bin_start": 0.6000000000000001,
            "bin_end": 0.7000000000000001,
            "count": 0
           },
           {
            "bin_start": 0.7000000000000001,
            "bin_end": 0.8,
            "count": 0
           },
           {
            "bin_start": 0.8,
            "bin_end": 0.9,
            "count": 0
           },
           {
            "bin_start": 0.9,
            "bin_end": 1,
            "count": 0
           }
          ]
         }
        },
        {
         "name": "Referral Source",
         "dtype": "object",
         "stats": {
          "unique_count": 5,
          "nan_count": 0,
          "categories": [
           {
            "name": "other",
            "count": 1632
           },
           {
            "name": "SVI",
            "count": 771
           },
           {
            "name": "3 others",
            "count": 397
           }
          ]
         }
        },
        {
         "name": "Class",
         "dtype": "object",
         "stats": {
          "unique_count": 2800,
          "nan_count": 0,
          "categories": [
           {
            "name": "negative.|3733",
            "count": 1
           },
           {
            "name": "negative.|1442",
            "count": 1
           },
           {
            "name": "2798 others",
            "count": 2798
           }
          ]
         }
        },
        {
         "name": "_deepnote_index_column",
         "dtype": "int64"
        }
       ],
       "rows": [
        {
         "Age": "41",
         "Sex": "F",
         "On Thyroxine": "f",
         "Query on Thyroxine": "f",
         "On Antithyroid Medication": "f",
         "Sick": "f",
         "Pregnant": "f",
         "Thyroid Surgery": "f",
         "I131 Treatment": "f",
         "Query Hypothyroid": "f",
         "Query Hyperthyroid": "f",
         "Lithium": "f",
         "Goiter": "f",
         "Tumor": "f",
         "Hypopituitary": "f",
         "Psych": "f",
         "TSH Measured": "t",
         "TSH": "1.3",
         "T3 Measured": "t",
         "T3": "2.5",
         "TT4 Measured": "t",
         "TT4": "125",
         "T4U Measured": "t",
         "T4U": "1.14",
         "FTI Measured": "t",
         "FTI": "109",
         "TBG Measured": "f",
         "TBG": "nan",
         "Referral Source": "SVHC",
         "Class": "negative.|3733",
         "_deepnote_index_column": 0
        },
        {
         "Age": "23",
         "Sex": "F",
         "On Thyroxine": "f",
         "Query on Thyroxine": "f",
         "On Antithyroid Medication": "f",
         "Sick": "f",
         "Pregnant": "f",
         "Thyroid Surgery": "f",
         "I131 Treatment": "f",
         "Query Hypothyroid": "f",
         "Query Hyperthyroid": "f",
         "Lithium": "f",
         "Goiter": "f",
         "Tumor": "f",
         "Hypopituitary": "f",
         "Psych": "f",
         "TSH Measured": "t",
         "TSH": "4.1",
         "T3 Measured": "t",
         "T3": "2",
         "TT4 Measured": "t",
         "TT4": "102",
         "T4U Measured": "f",
         "T4U": "nan",
         "FTI Measured": "f",
         "FTI": "nan",
         "TBG Measured": "f",
         "TBG": "nan",
         "Referral Source": "other",
         "Class": "negative.|1442",
         "_deepnote_index_column": 1
        },
        {
         "Age": "46",
         "Sex": "M",
         "On Thyroxine": "f",
         "Query on Thyroxine": "f",
         "On Antithyroid Medication": "f",
         "Sick": "f",
         "Pregnant": "f",
         "Thyroid Surgery": "f",
         "I131 Treatment": "f",
         "Query Hypothyroid": "f",
         "Query Hyperthyroid": "f",
         "Lithium": "f",
         "Goiter": "f",
         "Tumor": "f",
         "Hypopituitary": "f",
         "Psych": "f",
         "TSH Measured": "t",
         "TSH": "0.98",
         "T3 Measured": "f",
         "T3": "nan",
         "TT4 Measured": "t",
         "TT4": "109",
         "T4U Measured": "t",
         "T4U": "0.91",
         "FTI Measured": "t",
         "FTI": "120",
         "TBG Measured": "f",
         "TBG": "nan",
         "Referral Source": "other",
         "Class": "negative.|2965",
         "_deepnote_index_column": 2
        },
        {
         "Age": "70",
         "Sex": "F",
         "On Thyroxine": "t",
         "Query on Thyroxine": "f",
         "On Antithyroid Medication": "f",
         "Sick": "f",
         "Pregnant": "f",
         "Thyroid Surgery": "f",
         "I131 Treatment": "f",
         "Query Hypothyroid": "f",
         "Query Hyperthyroid": "f",
         "Lithium": "f",
         "Goiter": "f",
         "Tumor": "f",
         "Hypopituitary": "f",
         "Psych": "f",
         "TSH Measured": "t",
         "TSH": "0.16",
         "T3 Measured": "t",
         "T3": "1.9",
         "TT4 Measured": "t",
         "TT4": "175",
         "T4U Measured": "f",
         "T4U": "nan",
         "FTI Measured": "f",
         "FTI": "nan",
         "TBG Measured": "f",
         "TBG": "nan",
         "Referral Source": "other",
         "Class": "negative.|806",
         "_deepnote_index_column": 3
        },
        {
         "Age": "70",
         "Sex": "F",
         "On Thyroxine": "f",
         "Query on Thyroxine": "f",
         "On Antithyroid Medication": "f",
         "Sick": "f",
         "Pregnant": "f",
         "Thyroid Surgery": "f",
         "I131 Treatment": "f",
         "Query Hypothyroid": "f",
         "Query Hyperthyroid": "f",
         "Lithium": "f",
         "Goiter": "f",
         "Tumor": "f",
         "Hypopituitary": "f",
         "Psych": "f",
         "TSH Measured": "t",
         "TSH": "0.72",
         "T3 Measured": "t",
         "T3": "1.2",
         "TT4 Measured": "t",
         "TT4": "61",
         "T4U Measured": "t",
         "T4U": "0.87",
         "FTI Measured": "t",
         "FTI": "70",
         "TBG Measured": "f",
         "TBG": "nan",
         "Referral Source": "SVI",
         "Class": "negative.|2807",
         "_deepnote_index_column": 4
        },
        {
         "Age": "18",
         "Sex": "F",
         "On Thyroxine": "t",
         "Query on Thyroxine": "f",
         "On Antithyroid Medication": "f",
         "Sick": "f",
         "Pregnant": "f",
         "Thyroid Surgery": "f",
         "I131 Treatment": "f",
         "Query Hypothyroid": "f",
         "Query Hyperthyroid": "f",
         "Lithium": "f",
         "Goiter": "f",
         "Tumor": "f",
         "Hypopituitary": "f",
         "Psych": "f",
         "TSH Measured": "t",
         "TSH": "0.03",
         "T3 Measured": "f",
         "T3": "nan",
         "TT4 Measured": "t",
         "TT4": "183",
         "T4U Measured": "t",
         "T4U": "1.3",
         "FTI Measured": "t",
         "FTI": "141",
         "TBG Measured": "f",
         "TBG": "nan",
         "Referral Source": "other",
         "Class": "negative.|3434",
         "_deepnote_index_column": 5
        },
        {
         "Age": "59",
         "Sex": "F",
         "On Thyroxine": "f",
         "Query on Thyroxine": "f",
         "On Antithyroid Medication": "f",
         "Sick": "f",
         "Pregnant": "f",
         "Thyroid Surgery": "f",
         "I131 Treatment": "f",
         "Query Hypothyroid": "f",
         "Query Hyperthyroid": "f",
         "Lithium": "f",
         "Goiter": "f",
         "Tumor": "f",
         "Hypopituitary": "f",
         "Psych": "f",
         "TSH Measured": "f",
         "TSH": "nan",
         "T3 Measured": "f",
         "T3": "nan",
         "TT4 Measured": "t",
         "TT4": "72",
         "T4U Measured": "t",
         "T4U": "0.92",
         "FTI Measured": "t",
         "FTI": "78",
         "TBG Measured": "f",
         "TBG": "nan",
         "Referral Source": "other",
         "Class": "negative.|1595",
         "_deepnote_index_column": 6
        },
        {
         "Age": "80",
         "Sex": "F",
         "On Thyroxine": "f",
         "Query on Thyroxine": "f",
         "On Antithyroid Medication": "f",
         "Sick": "f",
         "Pregnant": "f",
         "Thyroid Surgery": "f",
         "I131 Treatment": "f",
         "Query Hypothyroid": "f",
         "Query Hyperthyroid": "f",
         "Lithium": "f",
         "Goiter": "f",
         "Tumor": "f",
         "Hypopituitary": "f",
         "Psych": "f",
         "TSH Measured": "t",
         "TSH": "2.2",
         "T3 Measured": "t",
         "T3": "0.6",
         "TT4 Measured": "t",
         "TT4": "80",
         "T4U Measured": "t",
         "T4U": "0.7",
         "FTI Measured": "t",
         "FTI": "115",
         "TBG Measured": "f",
         "TBG": "nan",
         "Referral Source": "SVI",
         "Class": "negative.|1367",
         "_deepnote_index_column": 7
        },
        {
         "Age": "66",
         "Sex": "F",
         "On Thyroxine": "f",
         "Query on Thyroxine": "f",
         "On Antithyroid Medication": "f",
         "Sick": "f",
         "Pregnant": "f",
         "Thyroid Surgery": "f",
         "I131 Treatment": "f",
         "Query Hypothyroid": "f",
         "Query Hyperthyroid": "f",
         "Lithium": "f",
         "Goiter": "f",
         "Tumor": "t",
         "Hypopituitary": "f",
         "Psych": "f",
         "TSH Measured": "t",
         "TSH": "0.6",
         "T3 Measured": "t",
         "T3": "2.2",
         "TT4 Measured": "t",
         "TT4": "123",
         "T4U Measured": "t",
         "T4U": "0.93",
         "FTI Measured": "t",
         "FTI": "132",
         "TBG Measured": "f",
         "TBG": "nan",
         "Referral Source": "SVI",
         "Class": "negative.|1787",
         "_deepnote_index_column": 8
        },
        {
         "Age": "68",
         "Sex": "M",
         "On Thyroxine": "f",
         "Query on Thyroxine": "f",
         "On Antithyroid Medication": "f",
         "Sick": "f",
         "Pregnant": "f",
         "Thyroid Surgery": "f",
         "I131 Treatment": "f",
         "Query Hypothyroid": "f",
         "Query Hyperthyroid": "f",
         "Lithium": "f",
         "Goiter": "f",
         "Tumor": "f",
         "Hypopituitary": "f",
         "Psych": "f",
         "TSH Measured": "t",
         "TSH": "2.4",
         "T3 Measured": "t",
         "T3": "1.6",
         "TT4 Measured": "t",
         "TT4": "83",
         "T4U Measured": "t",
         "T4U": "0.89",
         "FTI Measured": "t",
         "FTI": "93",
         "TBG Measured": "f",
         "TBG": "nan",
         "Referral Source": "SVI",
         "Class": "negative.|2534",
         "_deepnote_index_column": 9
        }
       ]
      },
      "text/plain": "     Age Sex On Thyroxine Query on Thyroxine On Antithyroid Medication Sick  \\\n0     41   F            f                  f                         f    f   \n1     23   F            f                  f                         f    f   \n2     46   M            f                  f                         f    f   \n3     70   F            t                  f                         f    f   \n4     70   F            f                  f                         f    f   \n...   ..  ..          ...                ...                       ...  ...   \n2795  70   M            f                  f                         f    f   \n2796  73   M            f                  t                         f    f   \n2797  75   M            f                  f                         f    f   \n2798  60   F            f                  f                         f    f   \n2799  81   F            f                  f                         f    f   \n\n     Pregnant Thyroid Surgery I131 Treatment Query Hypothyroid  ...  \\\n0           f               f              f                 f  ...   \n1           f               f              f                 f  ...   \n2           f               f              f                 f  ...   \n3           f               f              f                 f  ...   \n4           f               f              f                 f  ...   \n...       ...             ...            ...               ...  ...   \n2795        f               f              f                 f  ...   \n2796        f               f              f                 f  ...   \n2797        f               f              f                 f  ...   \n2798        f               f              f                 f  ...   \n2799        f               f              f                 f  ...   \n\n     TT4 Measured  TT4 T4U Measured   T4U FTI Measured  FTI TBG Measured TBG  \\\n0               t  125            t  1.14            t  109            f NaN   \n1               t  102            f   NaN            f  NaN            f NaN   \n2               t  109            t  0.91            t  120            f NaN   \n3               t  175            f   NaN            f  NaN            f NaN   \n4               t   61            t  0.87            t   70            f NaN   \n...           ...  ...          ...   ...          ...  ...          ...  ..   \n2795            t  155            t  1.05            t  148            f NaN   \n2796            t   63            t  0.88            t   72            f NaN   \n2797            t  147            t   0.8            t  183            f NaN   \n2798            t  100            t  0.83            t  121            f NaN   \n2799            t  114            t  0.99            t  115            f NaN   \n\n     Referral Source           Class  \n0               SVHC  negative.|3733  \n1              other  negative.|1442  \n2              other  negative.|2965  \n3              other   negative.|806  \n4                SVI  negative.|2807  \n...              ...             ...  \n2795             SVI  negative.|3689  \n2796           other  negative.|3652  \n2797           other  negative.|1287  \n2798           other  negative.|3496  \n2799             SVI   negative.|724  \n\n[2800 rows x 30 columns]",
      "text/html": "<div>\n<style scoped>\n    .dataframe tbody tr th:only-of-type {\n        vertical-align: middle;\n    }\n\n    .dataframe tbody tr th {\n        vertical-align: top;\n    }\n\n    .dataframe thead th {\n        text-align: right;\n    }\n</style>\n<table border=\"1\" class=\"dataframe\">\n  <thead>\n    <tr style=\"text-align: right;\">\n      <th></th>\n      <th>Age</th>\n      <th>Sex</th>\n      <th>On Thyroxine</th>\n      <th>Query on Thyroxine</th>\n      <th>On Antithyroid Medication</th>\n      <th>Sick</th>\n      <th>Pregnant</th>\n      <th>Thyroid Surgery</th>\n      <th>I131 Treatment</th>\n      <th>Query Hypothyroid</th>\n      <th>...</th>\n      <th>TT4 Measured</th>\n      <th>TT4</th>\n      <th>T4U Measured</th>\n      <th>T4U</th>\n      <th>FTI Measured</th>\n      <th>FTI</th>\n      <th>TBG Measured</th>\n      <th>TBG</th>\n      <th>Referral Source</th>\n      <th>Class</th>\n    </tr>\n  </thead>\n  <tbody>\n    <tr>\n      <th>0</th>\n      <td>41</td>\n      <td>F</td>\n      <td>f</td>\n      <td>f</td>\n      <td>f</td>\n      <td>f</td>\n      <td>f</td>\n      <td>f</td>\n      <td>f</td>\n      <td>f</td>\n      <td>...</td>\n      <td>t</td>\n      <td>125</td>\n      <td>t</td>\n      <td>1.14</td>\n      <td>t</td>\n      <td>109</td>\n      <td>f</td>\n      <td>NaN</td>\n      <td>SVHC</td>\n      <td>negative.|3733</td>\n    </tr>\n    <tr>\n      <th>1</th>\n      <td>23</td>\n      <td>F</td>\n      <td>f</td>\n      <td>f</td>\n      <td>f</td>\n      <td>f</td>\n      <td>f</td>\n      <td>f</td>\n      <td>f</td>\n      <td>f</td>\n      <td>...</td>\n      <td>t</td>\n      <td>102</td>\n      <td>f</td>\n      <td>NaN</td>\n      <td>f</td>\n      <td>NaN</td>\n      <td>f</td>\n      <td>NaN</td>\n      <td>other</td>\n      <td>negative.|1442</td>\n    </tr>\n    <tr>\n      <th>2</th>\n      <td>46</td>\n      <td>M</td>\n      <td>f</td>\n      <td>f</td>\n      <td>f</td>\n      <td>f</td>\n      <td>f</td>\n      <td>f</td>\n      <td>f</td>\n      <td>f</td>\n      <td>...</td>\n      <td>t</td>\n      <td>109</td>\n      <td>t</td>\n      <td>0.91</td>\n      <td>t</td>\n      <td>120</td>\n      <td>f</td>\n      <td>NaN</td>\n      <td>other</td>\n      <td>negative.|2965</td>\n    </tr>\n    <tr>\n      <th>3</th>\n      <td>70</td>\n      <td>F</td>\n      <td>t</td>\n      <td>f</td>\n      <td>f</td>\n      <td>f</td>\n      <td>f</td>\n      <td>f</td>\n      <td>f</td>\n      <td>f</td>\n      <td>...</td>\n      <td>t</td>\n      <td>175</td>\n      <td>f</td>\n      <td>NaN</td>\n      <td>f</td>\n      <td>NaN</td>\n      <td>f</td>\n      <td>NaN</td>\n      <td>other</td>\n      <td>negative.|806</td>\n    </tr>\n    <tr>\n      <th>4</th>\n      <td>70</td>\n      <td>F</td>\n      <td>f</td>\n      <td>f</td>\n      <td>f</td>\n      <td>f</td>\n      <td>f</td>\n      <td>f</td>\n      <td>f</td>\n      <td>f</td>\n      <td>...</td>\n      <td>t</td>\n      <td>61</td>\n      <td>t</td>\n      <td>0.87</td>\n      <td>t</td>\n      <td>70</td>\n      <td>f</td>\n      <td>NaN</td>\n      <td>SVI</td>\n      <td>negative.|2807</td>\n    </tr>\n    <tr>\n      <th>...</th>\n      <td>...</td>\n      <td>...</td>\n      <td>...</td>\n      <td>...</td>\n      <td>...</td>\n      <td>...</td>\n      <td>...</td>\n      <td>...</td>\n      <td>...</td>\n      <td>...</td>\n      <td>...</td>\n      <td>...</td>\n      <td>...</td>\n      <td>...</td>\n      <td>...</td>\n      <td>...</td>\n      <td>...</td>\n      <td>...</td>\n      <td>...</td>\n      <td>...</td>\n      <td>...</td>\n    </tr>\n    <tr>\n      <th>2795</th>\n      <td>70</td>\n      <td>M</td>\n      <td>f</td>\n      <td>f</td>\n      <td>f</td>\n      <td>f</td>\n      <td>f</td>\n      <td>f</td>\n      <td>f</td>\n      <td>f</td>\n      <td>...</td>\n      <td>t</td>\n      <td>155</td>\n      <td>t</td>\n      <td>1.05</td>\n      <td>t</td>\n      <td>148</td>\n      <td>f</td>\n      <td>NaN</td>\n      <td>SVI</td>\n      <td>negative.|3689</td>\n    </tr>\n    <tr>\n      <th>2796</th>\n      <td>73</td>\n      <td>M</td>\n      <td>f</td>\n      <td>t</td>\n      <td>f</td>\n      <td>f</td>\n      <td>f</td>\n      <td>f</td>\n      <td>f</td>\n      <td>f</td>\n      <td>...</td>\n      <td>t</td>\n      <td>63</td>\n      <td>t</td>\n      <td>0.88</td>\n      <td>t</td>\n      <td>72</td>\n      <td>f</td>\n      <td>NaN</td>\n      <td>other</td>\n      <td>negative.|3652</td>\n    </tr>\n    <tr>\n      <th>2797</th>\n      <td>75</td>\n      <td>M</td>\n      <td>f</td>\n      <td>f</td>\n      <td>f</td>\n      <td>f</td>\n      <td>f</td>\n      <td>f</td>\n      <td>f</td>\n      <td>f</td>\n      <td>...</td>\n      <td>t</td>\n      <td>147</td>\n      <td>t</td>\n      <td>0.8</td>\n      <td>t</td>\n      <td>183</td>\n      <td>f</td>\n      <td>NaN</td>\n      <td>other</td>\n      <td>negative.|1287</td>\n    </tr>\n    <tr>\n      <th>2798</th>\n      <td>60</td>\n      <td>F</td>\n      <td>f</td>\n      <td>f</td>\n      <td>f</td>\n      <td>f</td>\n      <td>f</td>\n      <td>f</td>\n      <td>f</td>\n      <td>f</td>\n      <td>...</td>\n      <td>t</td>\n      <td>100</td>\n      <td>t</td>\n      <td>0.83</td>\n      <td>t</td>\n      <td>121</td>\n      <td>f</td>\n      <td>NaN</td>\n      <td>other</td>\n      <td>negative.|3496</td>\n    </tr>\n    <tr>\n      <th>2799</th>\n      <td>81</td>\n      <td>F</td>\n      <td>f</td>\n      <td>f</td>\n      <td>f</td>\n      <td>f</td>\n      <td>f</td>\n      <td>f</td>\n      <td>f</td>\n      <td>f</td>\n      <td>...</td>\n      <td>t</td>\n      <td>114</td>\n      <td>t</td>\n      <td>0.99</td>\n      <td>t</td>\n      <td>115</td>\n      <td>f</td>\n      <td>NaN</td>\n      <td>SVI</td>\n      <td>negative.|724</td>\n    </tr>\n  </tbody>\n</table>\n<p>2800 rows × 30 columns</p>\n</div>"
     },
     "metadata": {}
    }
   ]
  },
  {
   "cell_type": "markdown",
   "source": "Hmm, still looks like the TBG column is unfilled, implying it was empty to begin with. Let's get rid of this column, then (and make sure to get rid of it in your list of numeric columns, too!)",
   "metadata": {
    "colab_type": "text",
    "id": "HZo7iKHUD3DG",
    "cell_id": "00015-5b85ddf4-0eed-419b-b11b-bc0e307cf3a8",
    "deepnote_cell_type": "markdown",
    "deepnote_cell_height": 74.796875
   }
  },
  {
   "cell_type": "code",
   "metadata": {
    "colab": {
     "autoexec": {
      "startup": false,
      "wait_interval": 0
     }
    },
    "colab_type": "code",
    "id": "yAe5FIFkD25f",
    "deepnote_to_be_reexecuted": false,
    "source_hash": "966bfd2d",
    "execution_start": 1657913795984,
    "execution_millis": 6,
    "cell_id": "00016-e4fa0976-7efb-4ea5-9c4c-214bd83315e1",
    "deepnote_cell_type": "code",
    "deepnote_cell_height": 99
   },
   "source": "to_drop = ['TBG','TBG Measured']\ndataset = dataset.drop(to_drop, axis=1)",
   "execution_count": 7,
   "outputs": []
  },
  {
   "cell_type": "code",
   "metadata": {
    "tags": [],
    "deepnote_to_be_reexecuted": false,
    "source_hash": "94766caa",
    "execution_start": 1657913795995,
    "execution_millis": 6,
    "cell_id": "00017-8b441a44-1b54-4155-932b-6e301736ac95",
    "deepnote_cell_type": "code",
    "deepnote_cell_height": 171
   },
   "source": "numeric_columns = list([\"Age\",\"TSH\",\"T3\",\"TT4\",\"T4U\",\"FTI\"])\ncategorical_columns = list(set(dataset.columns)-set(numeric_columns)-set(['Class']))\nmeasured_columns = []\nfor i in categorical_columns:\n    if 'Measured' in i:\n        measured_columns.append(i)",
   "execution_count": 8,
   "outputs": []
  },
  {
   "cell_type": "code",
   "metadata": {
    "tags": [],
    "deepnote_to_be_reexecuted": false,
    "source_hash": "f47b433f",
    "execution_start": 1657913796007,
    "execution_millis": 428,
    "cell_id": "00018-059bee03-59cb-48d3-9887-1d2aa81ed8fa",
    "deepnote_cell_type": "code",
    "deepnote_cell_height": 118.1875,
    "deepnote_output_heights": [
     21.1875
    ]
   },
   "source": "measured_columns",
   "execution_count": 9,
   "outputs": [
    {
     "output_type": "execute_result",
     "execution_count": 9,
     "data": {
      "text/plain": "['TT4 Measured', 'TSH Measured', 'FTI Measured', 'T3 Measured', 'T4U Measured']"
     },
     "metadata": {}
    }
   ]
  },
  {
   "cell_type": "markdown",
   "source": "All right, let's take a look now at the info of *just the numeric columns* in the dataset:",
   "metadata": {
    "colab_type": "text",
    "id": "DTjWD_ddCHsA",
    "cell_id": "00019-51c71729-1dfd-4431-84d9-07f09357a3b9",
    "deepnote_cell_type": "markdown",
    "deepnote_cell_height": 52.390625
   }
  },
  {
   "cell_type": "code",
   "metadata": {
    "colab": {
     "autoexec": {
      "startup": false,
      "wait_interval": 0
     }
    },
    "colab_type": "code",
    "id": "00OaxCAbzRvA",
    "deepnote_to_be_reexecuted": false,
    "source_hash": "f717e30c",
    "execution_start": 1657913796023,
    "execution_millis": 413,
    "cell_id": "00020-0aaa9742-0927-4a08-b5c6-379978191805",
    "deepnote_cell_type": "code",
    "deepnote_cell_height": 348.03125
   },
   "source": "dataset[numeric_columns].info()",
   "execution_count": 10,
   "outputs": [
    {
     "name": "stdout",
     "text": "<class 'pandas.core.frame.DataFrame'>\nRangeIndex: 2800 entries, 0 to 2799\nData columns (total 6 columns):\n #   Column  Non-Null Count  Dtype \n---  ------  --------------  ----- \n 0   Age     2799 non-null   object\n 1   TSH     2516 non-null   object\n 2   T3      2215 non-null   object\n 3   TT4     2616 non-null   object\n 4   T4U     2503 non-null   object\n 5   FTI     2505 non-null   object\ndtypes: object(6)\nmemory usage: 131.4+ KB\n",
     "output_type": "stream"
    }
   ]
  },
  {
   "cell_type": "markdown",
   "source": "Perfect, now let's fix that class feature. According to the note the data collectors included with this data, the \".|####\" refers to a patient number, and is not necessarily relevant for our purposes here.",
   "metadata": {
    "colab_type": "text",
    "id": "XOzcRX-5YRvz",
    "cell_id": "00021-b596d376-69d1-4415-9be0-bab40565b315",
    "deepnote_cell_type": "markdown",
    "deepnote_cell_height": 74.796875
   }
  },
  {
   "cell_type": "code",
   "metadata": {
    "colab": {
     "autoexec": {
      "startup": false,
      "wait_interval": 0
     }
    },
    "colab_type": "code",
    "id": "QFmeyRcGYR7s",
    "deepnote_to_be_reexecuted": false,
    "source_hash": "8e01320c",
    "execution_start": 1657913796090,
    "execution_millis": 1006,
    "cell_id": "00022-02087a08-58a9-4081-bf2d-595581932c84",
    "deepnote_cell_type": "code",
    "deepnote_cell_height": 117
   },
   "source": "for i in range(dataset.shape[0]):\n    text = dataset.loc[i, \"Class\"].split(\".\")[0]\n    dataset.loc[i, \"Class\"] = text",
   "execution_count": 11,
   "outputs": []
  },
  {
   "cell_type": "markdown",
   "source": "Let's run the describe() function on just the \"class\" column.",
   "metadata": {
    "colab_type": "text",
    "id": "KYOwWnpqhQvd",
    "cell_id": "00023-94aa54ca-2bcf-4f2d-b3ea-03a142eb6bef",
    "deepnote_cell_type": "markdown",
    "deepnote_cell_height": 52.390625
   }
  },
  {
   "cell_type": "markdown",
   "source": "It looks like there are actually 4 unique classification variables! Thank goodness we didn't assume it was binary.\n\nDisplay all the unique values in the class column.",
   "metadata": {
    "colab_type": "text",
    "id": "m6S7Y6VXhYct",
    "cell_id": "00024-04d7cddd-84f0-4b89-a431-f57014a1cbc0",
    "deepnote_cell_type": "markdown",
    "deepnote_cell_height": 88.796875
   }
  },
  {
   "cell_type": "code",
   "metadata": {
    "colab": {
     "autoexec": {
      "startup": false,
      "wait_interval": 0
     }
    },
    "colab_type": "code",
    "id": "oH0fTzzvE-oF",
    "deepnote_to_be_reexecuted": false,
    "source_hash": "1c3cf5da",
    "execution_start": 1657913797123,
    "execution_millis": 37,
    "cell_id": "00025-c02f94fb-0612-46b4-997b-8f860bf51025",
    "deepnote_cell_type": "code",
    "deepnote_cell_height": 137.390625,
    "deepnote_output_heights": [
     40.390625
    ]
   },
   "source": "dataset['Class'].unique()",
   "execution_count": 12,
   "outputs": [
    {
     "output_type": "execute_result",
     "execution_count": 12,
     "data": {
      "text/plain": "array(['negative', 'compensated hypothyroid', 'primary hypothyroid',\n       'secondary hypothyroid'], dtype=object)"
     },
     "metadata": {}
    }
   ]
  },
  {
   "cell_type": "code",
   "metadata": {
    "tags": [],
    "deepnote_to_be_reexecuted": false,
    "source_hash": "5c76089c",
    "execution_start": 1657913797159,
    "execution_millis": 1416,
    "cell_id": "00026-483c03e4-1791-4c86-9b02-56179df6ffc3",
    "deepnote_cell_type": "code",
    "deepnote_cell_height": 243,
    "deepnote_output_heights": [
     21.1875
    ]
   },
   "source": "for i in range(dataset.shape[0]):\n    st = dataset.loc[i, 'Class']\n    if(st == 'negative'):\n        dataset.loc[i, 'Class'] = 0\n    elif(st == 'compensated hypothyroid'):\n        dataset.loc[i, 'Class'] = 1\n    elif(st == 'primary hypothyroid'):\n        dataset.loc[i, 'Class'] = 2\n    elif(st == 'secondary hypothyroid'):\n        dataset.loc[i, 'Class'] = 3",
   "execution_count": 13,
   "outputs": []
  },
  {
   "cell_type": "markdown",
   "source": "But let's make it binary for the sake of this example anyway. If you finish early later on, try the multiclass classifier with all 4 values!",
   "metadata": {
    "colab_type": "text",
    "id": "aBrmRJHakpWm",
    "cell_id": "00027-8c89102a-fa9d-434b-8a98-5897e2aff054",
    "deepnote_cell_type": "markdown",
    "deepnote_cell_height": 52.390625
   }
  },
  {
   "cell_type": "code",
   "metadata": {
    "colab": {
     "autoexec": {
      "startup": false,
      "wait_interval": 0
     }
    },
    "colab_type": "code",
    "id": "HwqVoUFTkoa0",
    "deepnote_to_be_reexecuted": false,
    "source_hash": "36c64098",
    "execution_start": 1657913798584,
    "execution_millis": 628,
    "cell_id": "00028-b5183089-0ab5-4105-bbee-c7fd5d15254a",
    "deepnote_cell_type": "code",
    "deepnote_cell_height": 244.1875,
    "deepnote_output_heights": [
     21.1875
    ]
   },
   "source": "'''\nfor i in range(dataset.shape[0]):\n    if(dataset.loc[i, 'Class'] == 'negative'):\n        dataset.loc[i, 'Class'] = 0\n    else:\n        dataset.loc[i, 'Class'] = 1\ndataset['Class']\n'''",
   "execution_count": 14,
   "outputs": [
    {
     "output_type": "execute_result",
     "execution_count": 14,
     "data": {
      "text/plain": "\"\\nfor i in range(dataset.shape[0]):\\n    if(dataset.loc[i, 'Class'] == 'negative'):\\n        dataset.loc[i, 'Class'] = 0\\n    else:\\n        dataset.loc[i, 'Class'] = 1\\ndataset['Class']\\n\""
     },
     "metadata": {}
    }
   ]
  },
  {
   "cell_type": "markdown",
   "source": "Before we move on, let's not forget to run the describe() function on just  your categorical columns, too.\nCompare it to the describe() that your numeric columns produce.",
   "metadata": {
    "colab_type": "text",
    "id": "jbgWOvekhluw",
    "cell_id": "00029-c8bd84c4-be03-486c-b7ea-d47dd8623736",
    "deepnote_cell_type": "markdown",
    "deepnote_cell_height": 74.796875
   }
  },
  {
   "cell_type": "code",
   "metadata": {
    "colab": {
     "autoexec": {
      "startup": false,
      "wait_interval": 0
     }
    },
    "colab_type": "code",
    "id": "WHAZCbNAc5KT",
    "deepnote_to_be_reexecuted": false,
    "source_hash": "144e9eb",
    "execution_start": 1657913798690,
    "execution_millis": 562,
    "cell_id": "00030-1f4bef51-792c-4c64-958d-5f191e0db7bb",
    "deepnote_cell_type": "code",
    "deepnote_cell_height": 719
   },
   "source": "for i in categorical_columns:\n    print(dataset[i].describe())",
   "execution_count": 15,
   "outputs": [
    {
     "name": "stdout",
     "text": "count     2800\nunique       2\ntop          f\nfreq      2627\nName: Query Hyperthyroid, dtype: object\ncount     2800\nunique       2\ntop          f\nfreq      2752\nName: I131 Treatment, dtype: object\ncount     2800\nunique       2\ntop          f\nfreq      2761\nName: Thyroid Surgery, dtype: object\ncount     2800\nunique       2\ntop          t\nfreq      2616\nName: TT4 Measured, dtype: object\ncount     2800\nunique       2\ntop          f\nfreq      2729\nName: Tumor, dtype: object\ncount     2800\nunique       2\ntop          f\nfreq      2665\nName: Psych, dtype: object\ncount     2800\nunique       2\ntop          t\nfreq      2516\nName: TSH Measured, dtype: object\ncount     2800\nunique       2\ntop          t\nfreq      2505\nName: FTI Measured, dtype: object\ncount     2800\nunique       2\ntop          f\nfreq      2786\nName: Lithium, dtype: object\ncount     2800\nunique       2\ntop          f\nfreq      2799\nName: Hypopituitary, dtype: object\ncount     2690\nunique       2\ntop          F\nfreq      1830\nName: Sex, dtype: object\ncount     2800\nunique       2\ntop          f\nfreq      2766\nName: On Antithyroid Medication, dtype: object\ncount     2800\nunique       2\ntop          t\nfreq      2215\nName: T3 Measured, dtype: object\ncount     2800\nunique       2\ntop          f\nfreq      2759\nName: Pregnant, dtype: object\ncount     2800\nunique       2\ntop          f\nfreq      2760\nName: Query on Thyroxine, dtype: object\ncount      2800\nunique        5\ntop       other\nfreq       1632\nName: Referral Source, dtype: object\ncount     2800\nunique       2\ntop          f\nfreq      2690\nName: Sick, dtype: object\ncount     2800\nunique       2\ntop          f\nfreq      2470\nName: On Thyroxine, dtype: object\ncount     2800\nunique       2\ntop          t\nfreq      2503\nName: T4U Measured, dtype: object\ncount     2800\nunique       2\ntop          f\nfreq      2637\nName: Query Hypothyroid, dtype: object\ncount     2800\nunique       2\ntop          f\nfreq      2775\nName: Goiter, dtype: object\n",
     "output_type": "stream"
    }
   ]
  },
  {
   "cell_type": "markdown",
   "source": "Great! Let's see if there's any other records we have to address. count() is a nice way to check if we have any other missing values.",
   "metadata": {
    "colab_type": "text",
    "id": "Jo9aRzltCOK8",
    "cell_id": "00031-1bc4a558-0369-4c28-ab37-ba6564086bbe",
    "deepnote_cell_type": "markdown",
    "deepnote_cell_height": 52.390625
   }
  },
  {
   "cell_type": "code",
   "metadata": {
    "colab": {
     "autoexec": {
      "startup": false,
      "wait_interval": 0
     }
    },
    "colab_type": "code",
    "id": "Q1yGe8nrzozW",
    "deepnote_to_be_reexecuted": false,
    "source_hash": "5b370030",
    "execution_start": 1657913798779,
    "execution_millis": 1,
    "cell_id": "00032-1973b78f-2285-4010-9a63-77483599f035",
    "deepnote_cell_type": "code",
    "deepnote_cell_height": 655.65625,
    "deepnote_output_heights": [
     558.65625
    ]
   },
   "source": "dataset.count()",
   "execution_count": 16,
   "outputs": [
    {
     "output_type": "execute_result",
     "execution_count": 16,
     "data": {
      "text/plain": "Age                          2799\nSex                          2690\nOn Thyroxine                 2800\nQuery on Thyroxine           2800\nOn Antithyroid Medication    2800\nSick                         2800\nPregnant                     2800\nThyroid Surgery              2800\nI131 Treatment               2800\nQuery Hypothyroid            2800\nQuery Hyperthyroid           2800\nLithium                      2800\nGoiter                       2800\nTumor                        2800\nHypopituitary                2800\nPsych                        2800\nTSH Measured                 2800\nTSH                          2516\nT3 Measured                  2800\nT3                           2215\nTT4 Measured                 2800\nTT4                          2616\nT4U Measured                 2800\nT4U                          2503\nFTI Measured                 2800\nFTI                          2505\nReferral Source              2800\nClass                        2800\ndtype: int64"
     },
     "metadata": {}
    }
   ]
  },
  {
   "cell_type": "markdown",
   "source": "We could replace the missing values in proportion to the current number of males and females over the total, but that is making an assumption we don't have to make. For now, let's simply cut the records of all these sexless people out of our data.",
   "metadata": {
    "colab_type": "text",
    "id": "-Y9DDq8qCeL8",
    "cell_id": "00033-9ca53c69-953b-4d9b-a35a-c5099dc9bf35",
    "deepnote_cell_type": "markdown",
    "deepnote_cell_height": 74.796875
   }
  },
  {
   "cell_type": "code",
   "metadata": {
    "colab": {
     "autoexec": {
      "startup": false,
      "wait_interval": 0
     }
    },
    "colab_type": "code",
    "id": "1E6qS7F5zyt3",
    "deepnote_to_be_reexecuted": false,
    "source_hash": "197ba952",
    "execution_start": 1657913798823,
    "execution_millis": 0,
    "cell_id": "00034-6cfff5e5-0d0d-4d85-b157-57afefcc6540",
    "deepnote_cell_type": "code",
    "deepnote_cell_height": 673.65625,
    "deepnote_output_heights": [
     558.65625
    ]
   },
   "source": "dataset = dataset[(dataset[\"Sex\"]==\"M\") | (dataset[\"Sex\"]==\"F\")] \ndataset.count()",
   "execution_count": 17,
   "outputs": [
    {
     "output_type": "execute_result",
     "execution_count": 17,
     "data": {
      "text/plain": "Age                          2689\nSex                          2690\nOn Thyroxine                 2690\nQuery on Thyroxine           2690\nOn Antithyroid Medication    2690\nSick                         2690\nPregnant                     2690\nThyroid Surgery              2690\nI131 Treatment               2690\nQuery Hypothyroid            2690\nQuery Hyperthyroid           2690\nLithium                      2690\nGoiter                       2690\nTumor                        2690\nHypopituitary                2690\nPsych                        2690\nTSH Measured                 2690\nTSH                          2419\nT3 Measured                  2690\nT3                           2120\nTT4 Measured                 2690\nTT4                          2518\nT4U Measured                 2690\nT4U                          2410\nFTI Measured                 2690\nFTI                          2412\nReferral Source              2690\nClass                        2690\ndtype: int64"
     },
     "metadata": {}
    }
   ]
  },
  {
   "cell_type": "code",
   "metadata": {
    "tags": [],
    "deepnote_to_be_reexecuted": false,
    "source_hash": "5d21894",
    "execution_start": 1657913798845,
    "execution_millis": 413,
    "cell_id": "00035-0568ec87-0122-460f-bbb8-c2f1fe66b914",
    "deepnote_cell_type": "code",
    "deepnote_cell_height": 600
   },
   "source": "dataset[categorical_columns]",
   "execution_count": 18,
   "outputs": [
    {
     "output_type": "execute_result",
     "execution_count": 18,
     "data": {
      "application/vnd.deepnote.dataframe.v3+json": {
       "column_count": 21,
       "row_count": 2690,
       "columns": [
        {
         "name": "Query Hyperthyroid",
         "dtype": "object",
         "stats": {
          "unique_count": 2,
          "nan_count": 0,
          "categories": [
           {
            "name": "f",
            "count": 2522
           },
           {
            "name": "t",
            "count": 168
           }
          ]
         }
        },
        {
         "name": "I131 Treatment",
         "dtype": "object",
         "stats": {
          "unique_count": 2,
          "nan_count": 0,
          "categories": [
           {
            "name": "f",
            "count": 2645
           },
           {
            "name": "t",
            "count": 45
           }
          ]
         }
        },
        {
         "name": "Thyroid Surgery",
         "dtype": "object",
         "stats": {
          "unique_count": 2,
          "nan_count": 0,
          "categories": [
           {
            "name": "f",
            "count": 2651
           },
           {
            "name": "t",
            "count": 39
           }
          ]
         }
        },
        {
         "name": "TT4 Measured",
         "dtype": "object",
         "stats": {
          "unique_count": 2,
          "nan_count": 0,
          "categories": [
           {
            "name": "t",
            "count": 2518
           },
           {
            "name": "f",
            "count": 172
           }
          ]
         }
        },
        {
         "name": "Tumor",
         "dtype": "object",
         "stats": {
          "unique_count": 2,
          "nan_count": 0,
          "categories": [
           {
            "name": "f",
            "count": 2620
           },
           {
            "name": "t",
            "count": 70
           }
          ]
         }
        },
        {
         "name": "Psych",
         "dtype": "object",
         "stats": {
          "unique_count": 2,
          "nan_count": 0,
          "categories": [
           {
            "name": "f",
            "count": 2556
           },
           {
            "name": "t",
            "count": 134
           }
          ]
         }
        },
        {
         "name": "TSH Measured",
         "dtype": "object",
         "stats": {
          "unique_count": 2,
          "nan_count": 0,
          "categories": [
           {
            "name": "t",
            "count": 2419
           },
           {
            "name": "f",
            "count": 271
           }
          ]
         }
        },
        {
         "name": "FTI Measured",
         "dtype": "object",
         "stats": {
          "unique_count": 2,
          "nan_count": 0,
          "categories": [
           {
            "name": "t",
            "count": 2412
           },
           {
            "name": "f",
            "count": 278
           }
          ]
         }
        },
        {
         "name": "Lithium",
         "dtype": "object",
         "stats": {
          "unique_count": 2,
          "nan_count": 0,
          "categories": [
           {
            "name": "f",
            "count": 2676
           },
           {
            "name": "t",
            "count": 14
           }
          ]
         }
        },
        {
         "name": "Hypopituitary",
         "dtype": "object",
         "stats": {
          "unique_count": 2,
          "nan_count": 0,
          "categories": [
           {
            "name": "f",
            "count": 2689
           },
           {
            "name": "t",
            "count": 1
           }
          ]
         }
        },
        {
         "name": "Sex",
         "dtype": "object",
         "stats": {
          "unique_count": 2,
          "nan_count": 0,
          "categories": [
           {
            "name": "F",
            "count": 1830
           },
           {
            "name": "M",
            "count": 860
           }
          ]
         }
        },
        {
         "name": "On Antithyroid Medication",
         "dtype": "object",
         "stats": {
          "unique_count": 2,
          "nan_count": 0,
          "categories": [
           {
            "name": "f",
            "count": 2656
           },
           {
            "name": "t",
            "count": 34
           }
          ]
         }
        },
        {
         "name": "T3 Measured",
         "dtype": "object",
         "stats": {
          "unique_count": 2,
          "nan_count": 0,
          "categories": [
           {
            "name": "t",
            "count": 2120
           },
           {
            "name": "f",
            "count": 570
           }
          ]
         }
        },
        {
         "name": "Pregnant",
         "dtype": "object",
         "stats": {
          "unique_count": 2,
          "nan_count": 0,
          "categories": [
           {
            "name": "f",
            "count": 2650
           },
           {
            "name": "t",
            "count": 40
           }
          ]
         }
        },
        {
         "name": "Query on Thyroxine",
         "dtype": "object",
         "stats": {
          "unique_count": 2,
          "nan_count": 0,
          "categories": [
           {
            "name": "f",
            "count": 2650
           },
           {
            "name": "t",
            "count": 40
           }
          ]
         }
        },
        {
         "name": "Referral Source",
         "dtype": "object",
         "stats": {
          "unique_count": 5,
          "nan_count": 0,
          "categories": [
           {
            "name": "other",
            "count": 1564
           },
           {
            "name": "SVI",
            "count": 747
           },
           {
            "name": "3 others",
            "count": 379
           }
          ]
         }
        },
        {
         "name": "Sick",
         "dtype": "object",
         "stats": {
          "unique_count": 2,
          "nan_count": 0,
          "categories": [
           {
            "name": "f",
            "count": 2582
           },
           {
            "name": "t",
            "count": 108
           }
          ]
         }
        },
        {
         "name": "On Thyroxine",
         "dtype": "object",
         "stats": {
          "unique_count": 2,
          "nan_count": 0,
          "categories": [
           {
            "name": "f",
            "count": 2368
           },
           {
            "name": "t",
            "count": 322
           }
          ]
         }
        },
        {
         "name": "T4U Measured",
         "dtype": "object",
         "stats": {
          "unique_count": 2,
          "nan_count": 0,
          "categories": [
           {
            "name": "t",
            "count": 2410
           },
           {
            "name": "f",
            "count": 280
           }
          ]
         }
        },
        {
         "name": "Query Hypothyroid",
         "dtype": "object",
         "stats": {
          "unique_count": 2,
          "nan_count": 0,
          "categories": [
           {
            "name": "f",
            "count": 2530
           },
           {
            "name": "t",
            "count": 160
           }
          ]
         }
        },
        {
         "name": "Goiter",
         "dtype": "object",
         "stats": {
          "unique_count": 2,
          "nan_count": 0,
          "categories": [
           {
            "name": "f",
            "count": 2665
           },
           {
            "name": "t",
            "count": 25
           }
          ]
         }
        },
        {
         "name": "_deepnote_index_column",
         "dtype": "int64"
        }
       ],
       "rows": [
        {
         "Query Hyperthyroid": "f",
         "I131 Treatment": "f",
         "Thyroid Surgery": "f",
         "TT4 Measured": "t",
         "Tumor": "f",
         "Psych": "f",
         "TSH Measured": "t",
         "FTI Measured": "t",
         "Lithium": "f",
         "Hypopituitary": "f",
         "Sex": "F",
         "On Antithyroid Medication": "f",
         "T3 Measured": "t",
         "Pregnant": "f",
         "Query on Thyroxine": "f",
         "Referral Source": "SVHC",
         "Sick": "f",
         "On Thyroxine": "f",
         "T4U Measured": "t",
         "Query Hypothyroid": "f",
         "Goiter": "f",
         "_deepnote_index_column": 0
        },
        {
         "Query Hyperthyroid": "f",
         "I131 Treatment": "f",
         "Thyroid Surgery": "f",
         "TT4 Measured": "t",
         "Tumor": "f",
         "Psych": "f",
         "TSH Measured": "t",
         "FTI Measured": "f",
         "Lithium": "f",
         "Hypopituitary": "f",
         "Sex": "F",
         "On Antithyroid Medication": "f",
         "T3 Measured": "t",
         "Pregnant": "f",
         "Query on Thyroxine": "f",
         "Referral Source": "other",
         "Sick": "f",
         "On Thyroxine": "f",
         "T4U Measured": "f",
         "Query Hypothyroid": "f",
         "Goiter": "f",
         "_deepnote_index_column": 1
        },
        {
         "Query Hyperthyroid": "f",
         "I131 Treatment": "f",
         "Thyroid Surgery": "f",
         "TT4 Measured": "t",
         "Tumor": "f",
         "Psych": "f",
         "TSH Measured": "t",
         "FTI Measured": "t",
         "Lithium": "f",
         "Hypopituitary": "f",
         "Sex": "M",
         "On Antithyroid Medication": "f",
         "T3 Measured": "f",
         "Pregnant": "f",
         "Query on Thyroxine": "f",
         "Referral Source": "other",
         "Sick": "f",
         "On Thyroxine": "f",
         "T4U Measured": "t",
         "Query Hypothyroid": "f",
         "Goiter": "f",
         "_deepnote_index_column": 2
        },
        {
         "Query Hyperthyroid": "f",
         "I131 Treatment": "f",
         "Thyroid Surgery": "f",
         "TT4 Measured": "t",
         "Tumor": "f",
         "Psych": "f",
         "TSH Measured": "t",
         "FTI Measured": "f",
         "Lithium": "f",
         "Hypopituitary": "f",
         "Sex": "F",
         "On Antithyroid Medication": "f",
         "T3 Measured": "t",
         "Pregnant": "f",
         "Query on Thyroxine": "f",
         "Referral Source": "other",
         "Sick": "f",
         "On Thyroxine": "t",
         "T4U Measured": "f",
         "Query Hypothyroid": "f",
         "Goiter": "f",
         "_deepnote_index_column": 3
        },
        {
         "Query Hyperthyroid": "f",
         "I131 Treatment": "f",
         "Thyroid Surgery": "f",
         "TT4 Measured": "t",
         "Tumor": "f",
         "Psych": "f",
         "TSH Measured": "t",
         "FTI Measured": "t",
         "Lithium": "f",
         "Hypopituitary": "f",
         "Sex": "F",
         "On Antithyroid Medication": "f",
         "T3 Measured": "t",
         "Pregnant": "f",
         "Query on Thyroxine": "f",
         "Referral Source": "SVI",
         "Sick": "f",
         "On Thyroxine": "f",
         "T4U Measured": "t",
         "Query Hypothyroid": "f",
         "Goiter": "f",
         "_deepnote_index_column": 4
        },
        {
         "Query Hyperthyroid": "f",
         "I131 Treatment": "f",
         "Thyroid Surgery": "f",
         "TT4 Measured": "t",
         "Tumor": "f",
         "Psych": "f",
         "TSH Measured": "t",
         "FTI Measured": "t",
         "Lithium": "f",
         "Hypopituitary": "f",
         "Sex": "F",
         "On Antithyroid Medication": "f",
         "T3 Measured": "f",
         "Pregnant": "f",
         "Query on Thyroxine": "f",
         "Referral Source": "other",
         "Sick": "f",
         "On Thyroxine": "t",
         "T4U Measured": "t",
         "Query Hypothyroid": "f",
         "Goiter": "f",
         "_deepnote_index_column": 5
        },
        {
         "Query Hyperthyroid": "f",
         "I131 Treatment": "f",
         "Thyroid Surgery": "f",
         "TT4 Measured": "t",
         "Tumor": "f",
         "Psych": "f",
         "TSH Measured": "f",
         "FTI Measured": "t",
         "Lithium": "f",
         "Hypopituitary": "f",
         "Sex": "F",
         "On Antithyroid Medication": "f",
         "T3 Measured": "f",
         "Pregnant": "f",
         "Query on Thyroxine": "f",
         "Referral Source": "other",
         "Sick": "f",
         "On Thyroxine": "f",
         "T4U Measured": "t",
         "Query Hypothyroid": "f",
         "Goiter": "f",
         "_deepnote_index_column": 6
        },
        {
         "Query Hyperthyroid": "f",
         "I131 Treatment": "f",
         "Thyroid Surgery": "f",
         "TT4 Measured": "t",
         "Tumor": "f",
         "Psych": "f",
         "TSH Measured": "t",
         "FTI Measured": "t",
         "Lithium": "f",
         "Hypopituitary": "f",
         "Sex": "F",
         "On Antithyroid Medication": "f",
         "T3 Measured": "t",
         "Pregnant": "f",
         "Query on Thyroxine": "f",
         "Referral Source": "SVI",
         "Sick": "f",
         "On Thyroxine": "f",
         "T4U Measured": "t",
         "Query Hypothyroid": "f",
         "Goiter": "f",
         "_deepnote_index_column": 7
        },
        {
         "Query Hyperthyroid": "f",
         "I131 Treatment": "f",
         "Thyroid Surgery": "f",
         "TT4 Measured": "t",
         "Tumor": "t",
         "Psych": "f",
         "TSH Measured": "t",
         "FTI Measured": "t",
         "Lithium": "f",
         "Hypopituitary": "f",
         "Sex": "F",
         "On Antithyroid Medication": "f",
         "T3 Measured": "t",
         "Pregnant": "f",
         "Query on Thyroxine": "f",
         "Referral Source": "SVI",
         "Sick": "f",
         "On Thyroxine": "f",
         "T4U Measured": "t",
         "Query Hypothyroid": "f",
         "Goiter": "f",
         "_deepnote_index_column": 8
        },
        {
         "Query Hyperthyroid": "f",
         "I131 Treatment": "f",
         "Thyroid Surgery": "f",
         "TT4 Measured": "t",
         "Tumor": "f",
         "Psych": "f",
         "TSH Measured": "t",
         "FTI Measured": "t",
         "Lithium": "f",
         "Hypopituitary": "f",
         "Sex": "M",
         "On Antithyroid Medication": "f",
         "T3 Measured": "t",
         "Pregnant": "f",
         "Query on Thyroxine": "f",
         "Referral Source": "SVI",
         "Sick": "f",
         "On Thyroxine": "f",
         "T4U Measured": "t",
         "Query Hypothyroid": "f",
         "Goiter": "f",
         "_deepnote_index_column": 9
        }
       ]
      },
      "text/plain": "     Query Hyperthyroid I131 Treatment Thyroid Surgery TT4 Measured Tumor  \\\n0                     f              f               f            t     f   \n1                     f              f               f            t     f   \n2                     f              f               f            t     f   \n3                     f              f               f            t     f   \n4                     f              f               f            t     f   \n...                 ...            ...             ...          ...   ...   \n2795                  f              f               f            t     f   \n2796                  f              f               f            t     f   \n2797                  t              f               f            t     f   \n2798                  f              f               f            t     f   \n2799                  f              f               f            t     f   \n\n     Psych TSH Measured FTI Measured Lithium Hypopituitary  ...  \\\n0        f            t            t       f             f  ...   \n1        f            t            f       f             f  ...   \n2        f            t            t       f             f  ...   \n3        f            t            f       f             f  ...   \n4        f            t            t       f             f  ...   \n...    ...          ...          ...     ...           ...  ...   \n2795     f            t            t       f             f  ...   \n2796     f            f            t       f             f  ...   \n2797     f            f            t       f             f  ...   \n2798     f            t            t       f             f  ...   \n2799     f            t            t       f             f  ...   \n\n     On Antithyroid Medication T3 Measured Pregnant Query on Thyroxine  \\\n0                            f           t        f                  f   \n1                            f           t        f                  f   \n2                            f           f        f                  f   \n3                            f           t        f                  f   \n4                            f           t        f                  f   \n...                        ...         ...      ...                ...   \n2795                         f           f        f                  f   \n2796                         f           t        f                  t   \n2797                         f           f        f                  f   \n2798                         f           f        f                  f   \n2799                         f           t        f                  f   \n\n     Referral Source Sick On Thyroxine T4U Measured Query Hypothyroid Goiter  \n0               SVHC    f            f            t                 f      f  \n1              other    f            f            f                 f      f  \n2              other    f            f            t                 f      f  \n3              other    f            t            f                 f      f  \n4                SVI    f            f            t                 f      f  \n...              ...  ...          ...          ...               ...    ...  \n2795             SVI    f            f            t                 f      f  \n2796           other    f            f            t                 f      f  \n2797           other    f            f            t                 f      f  \n2798           other    f            f            t                 f      f  \n2799             SVI    f            f            t                 f      f  \n\n[2690 rows x 21 columns]",
      "text/html": "<div>\n<style scoped>\n    .dataframe tbody tr th:only-of-type {\n        vertical-align: middle;\n    }\n\n    .dataframe tbody tr th {\n        vertical-align: top;\n    }\n\n    .dataframe thead th {\n        text-align: right;\n    }\n</style>\n<table border=\"1\" class=\"dataframe\">\n  <thead>\n    <tr style=\"text-align: right;\">\n      <th></th>\n      <th>Query Hyperthyroid</th>\n      <th>I131 Treatment</th>\n      <th>Thyroid Surgery</th>\n      <th>TT4 Measured</th>\n      <th>Tumor</th>\n      <th>Psych</th>\n      <th>TSH Measured</th>\n      <th>FTI Measured</th>\n      <th>Lithium</th>\n      <th>Hypopituitary</th>\n      <th>...</th>\n      <th>On Antithyroid Medication</th>\n      <th>T3 Measured</th>\n      <th>Pregnant</th>\n      <th>Query on Thyroxine</th>\n      <th>Referral Source</th>\n      <th>Sick</th>\n      <th>On Thyroxine</th>\n      <th>T4U Measured</th>\n      <th>Query Hypothyroid</th>\n      <th>Goiter</th>\n    </tr>\n  </thead>\n  <tbody>\n    <tr>\n      <th>0</th>\n      <td>f</td>\n      <td>f</td>\n      <td>f</td>\n      <td>t</td>\n      <td>f</td>\n      <td>f</td>\n      <td>t</td>\n      <td>t</td>\n      <td>f</td>\n      <td>f</td>\n      <td>...</td>\n      <td>f</td>\n      <td>t</td>\n      <td>f</td>\n      <td>f</td>\n      <td>SVHC</td>\n      <td>f</td>\n      <td>f</td>\n      <td>t</td>\n      <td>f</td>\n      <td>f</td>\n    </tr>\n    <tr>\n      <th>1</th>\n      <td>f</td>\n      <td>f</td>\n      <td>f</td>\n      <td>t</td>\n      <td>f</td>\n      <td>f</td>\n      <td>t</td>\n      <td>f</td>\n      <td>f</td>\n      <td>f</td>\n      <td>...</td>\n      <td>f</td>\n      <td>t</td>\n      <td>f</td>\n      <td>f</td>\n      <td>other</td>\n      <td>f</td>\n      <td>f</td>\n      <td>f</td>\n      <td>f</td>\n      <td>f</td>\n    </tr>\n    <tr>\n      <th>2</th>\n      <td>f</td>\n      <td>f</td>\n      <td>f</td>\n      <td>t</td>\n      <td>f</td>\n      <td>f</td>\n      <td>t</td>\n      <td>t</td>\n      <td>f</td>\n      <td>f</td>\n      <td>...</td>\n      <td>f</td>\n      <td>f</td>\n      <td>f</td>\n      <td>f</td>\n      <td>other</td>\n      <td>f</td>\n      <td>f</td>\n      <td>t</td>\n      <td>f</td>\n      <td>f</td>\n    </tr>\n    <tr>\n      <th>3</th>\n      <td>f</td>\n      <td>f</td>\n      <td>f</td>\n      <td>t</td>\n      <td>f</td>\n      <td>f</td>\n      <td>t</td>\n      <td>f</td>\n      <td>f</td>\n      <td>f</td>\n      <td>...</td>\n      <td>f</td>\n      <td>t</td>\n      <td>f</td>\n      <td>f</td>\n      <td>other</td>\n      <td>f</td>\n      <td>t</td>\n      <td>f</td>\n      <td>f</td>\n      <td>f</td>\n    </tr>\n    <tr>\n      <th>4</th>\n      <td>f</td>\n      <td>f</td>\n      <td>f</td>\n      <td>t</td>\n      <td>f</td>\n      <td>f</td>\n      <td>t</td>\n      <td>t</td>\n      <td>f</td>\n      <td>f</td>\n      <td>...</td>\n      <td>f</td>\n      <td>t</td>\n      <td>f</td>\n      <td>f</td>\n      <td>SVI</td>\n      <td>f</td>\n      <td>f</td>\n      <td>t</td>\n      <td>f</td>\n      <td>f</td>\n    </tr>\n    <tr>\n      <th>...</th>\n      <td>...</td>\n      <td>...</td>\n      <td>...</td>\n      <td>...</td>\n      <td>...</td>\n      <td>...</td>\n      <td>...</td>\n      <td>...</td>\n      <td>...</td>\n      <td>...</td>\n      <td>...</td>\n      <td>...</td>\n      <td>...</td>\n      <td>...</td>\n      <td>...</td>\n      <td>...</td>\n      <td>...</td>\n      <td>...</td>\n      <td>...</td>\n      <td>...</td>\n      <td>...</td>\n    </tr>\n    <tr>\n      <th>2795</th>\n      <td>f</td>\n      <td>f</td>\n      <td>f</td>\n      <td>t</td>\n      <td>f</td>\n      <td>f</td>\n      <td>t</td>\n      <td>t</td>\n      <td>f</td>\n      <td>f</td>\n      <td>...</td>\n      <td>f</td>\n      <td>f</td>\n      <td>f</td>\n      <td>f</td>\n      <td>SVI</td>\n      <td>f</td>\n      <td>f</td>\n      <td>t</td>\n      <td>f</td>\n      <td>f</td>\n    </tr>\n    <tr>\n      <th>2796</th>\n      <td>f</td>\n      <td>f</td>\n      <td>f</td>\n      <td>t</td>\n      <td>f</td>\n      <td>f</td>\n      <td>f</td>\n      <td>t</td>\n      <td>f</td>\n      <td>f</td>\n      <td>...</td>\n      <td>f</td>\n      <td>t</td>\n      <td>f</td>\n      <td>t</td>\n      <td>other</td>\n      <td>f</td>\n      <td>f</td>\n      <td>t</td>\n      <td>f</td>\n      <td>f</td>\n    </tr>\n    <tr>\n      <th>2797</th>\n      <td>t</td>\n      <td>f</td>\n      <td>f</td>\n      <td>t</td>\n      <td>f</td>\n      <td>f</td>\n      <td>f</td>\n      <td>t</td>\n      <td>f</td>\n      <td>f</td>\n      <td>...</td>\n      <td>f</td>\n      <td>f</td>\n      <td>f</td>\n      <td>f</td>\n      <td>other</td>\n      <td>f</td>\n      <td>f</td>\n      <td>t</td>\n      <td>f</td>\n      <td>f</td>\n    </tr>\n    <tr>\n      <th>2798</th>\n      <td>f</td>\n      <td>f</td>\n      <td>f</td>\n      <td>t</td>\n      <td>f</td>\n      <td>f</td>\n      <td>t</td>\n      <td>t</td>\n      <td>f</td>\n      <td>f</td>\n      <td>...</td>\n      <td>f</td>\n      <td>f</td>\n      <td>f</td>\n      <td>f</td>\n      <td>other</td>\n      <td>f</td>\n      <td>f</td>\n      <td>t</td>\n      <td>f</td>\n      <td>f</td>\n    </tr>\n    <tr>\n      <th>2799</th>\n      <td>f</td>\n      <td>f</td>\n      <td>f</td>\n      <td>t</td>\n      <td>f</td>\n      <td>f</td>\n      <td>t</td>\n      <td>t</td>\n      <td>f</td>\n      <td>f</td>\n      <td>...</td>\n      <td>f</td>\n      <td>t</td>\n      <td>f</td>\n      <td>f</td>\n      <td>SVI</td>\n      <td>f</td>\n      <td>f</td>\n      <td>t</td>\n      <td>f</td>\n      <td>f</td>\n    </tr>\n  </tbody>\n</table>\n<p>2690 rows × 21 columns</p>\n</div>"
     },
     "metadata": {}
    }
   ]
  },
  {
   "cell_type": "code",
   "metadata": {
    "tags": [],
    "deepnote_to_be_reexecuted": false,
    "source_hash": "903e6354",
    "execution_start": 1657913799178,
    "execution_millis": 91,
    "cell_id": "00036-95c1ea1a-76ab-4d25-85db-34e8bbed2c98",
    "deepnote_cell_type": "code",
    "deepnote_cell_height": 791
   },
   "source": "for i in numeric_columns:\n    dataset[i] = pd.to_numeric(dataset[i])\n\ndataset.info()\n\n",
   "execution_count": 19,
   "outputs": [
    {
     "name": "stdout",
     "text": "<class 'pandas.core.frame.DataFrame'>\nInt64Index: 2690 entries, 0 to 2799\nData columns (total 28 columns):\n #   Column                     Non-Null Count  Dtype  \n---  ------                     --------------  -----  \n 0   Age                        2689 non-null   float64\n 1   Sex                        2690 non-null   object \n 2   On Thyroxine               2690 non-null   object \n 3   Query on Thyroxine         2690 non-null   object \n 4   On Antithyroid Medication  2690 non-null   object \n 5   Sick                       2690 non-null   object \n 6   Pregnant                   2690 non-null   object \n 7   Thyroid Surgery            2690 non-null   object \n 8   I131 Treatment             2690 non-null   object \n 9   Query Hypothyroid          2690 non-null   object \n 10  Query Hyperthyroid         2690 non-null   object \n 11  Lithium                    2690 non-null   object \n 12  Goiter                     2690 non-null   object \n 13  Tumor                      2690 non-null   object \n 14  Hypopituitary              2690 non-null   object \n 15  Psych                      2690 non-null   object \n 16  TSH Measured               2690 non-null   object \n 17  TSH                        2419 non-null   float64\n 18  T3 Measured                2690 non-null   object \n 19  T3                         2120 non-null   float64\n 20  TT4 Measured               2690 non-null   object \n 21  TT4                        2518 non-null   float64\n 22  T4U Measured               2690 non-null   object \n 23  T4U                        2410 non-null   float64\n 24  FTI Measured               2690 non-null   object \n 25  FTI                        2412 non-null   float64\n 26  Referral Source            2690 non-null   object \n 27  Class                      2690 non-null   object \ndtypes: float64(6), object(22)\nmemory usage: 609.5+ KB\n",
     "output_type": "stream"
    }
   ]
  },
  {
   "cell_type": "markdown",
   "source": "Nice! Now we have a pretty clean dataset to work with. Let's now do some further data analysis and visualization to better understand what we're working with.",
   "metadata": {
    "colab_type": "text",
    "id": "eTcS25EHF4vL",
    "cell_id": "00037-cef91cfd-7043-4ebb-a350-8f369e5e880e",
    "deepnote_cell_type": "markdown",
    "deepnote_cell_height": 74.796875
   }
  },
  {
   "cell_type": "markdown",
   "source": "## Data analysis and visualization",
   "metadata": {
    "colab_type": "text",
    "id": "SsiaTCjQql3S",
    "cell_id": "00038-1e73d42a-c6d2-4dec-bd7f-8e452e85c5af",
    "deepnote_cell_type": "markdown",
    "deepnote_cell_height": 70
   }
  },
  {
   "cell_type": "markdown",
   "source": "Check the correlation of the dataset",
   "metadata": {
    "colab_type": "text",
    "id": "huFOG2Mw3OqJ",
    "cell_id": "00039-cadd017b-8e9e-4828-964d-05f60b38392d",
    "deepnote_cell_type": "markdown",
    "deepnote_cell_height": 52.390625
   }
  },
  {
   "cell_type": "code",
   "metadata": {
    "colab": {
     "autoexec": {
      "startup": false,
      "wait_interval": 0
     }
    },
    "colab_type": "code",
    "id": "fXrXSMW_GSeT",
    "deepnote_to_be_reexecuted": false,
    "source_hash": "22b734ad",
    "execution_start": 1657913799224,
    "execution_millis": 5790,
    "cell_id": "00040-7bcbc615-4b0e-4428-a042-ecfb7ee0ced9",
    "deepnote_cell_type": "code",
    "deepnote_cell_height": 460.1875,
    "deepnote_output_heights": [
     21.1875,
     257
    ]
   },
   "source": "import seaborn as sns\n\nsns.set(rc={'figure.figsize':(18, 18)})\nsns.heatmap(dataset[numeric_columns].corr(), annot = True)",
   "execution_count": 20,
   "outputs": [
    {
     "output_type": "execute_result",
     "execution_count": 20,
     "data": {
      "text/plain": "<AxesSubplot:>"
     },
     "metadata": {}
    },
    {
     "data": {
      "text/plain": "<Figure size 432x288 with 2 Axes>",
      "image/png": "[encoded data removed]"
     },
     "metadata": {
      "needs_background": "light",
      "image/png": {
       "width": 365,
       "height": 255
      }
     },
     "output_type": "display_data"
    }
   ]
  },
  {
   "cell_type": "markdown",
   "source": "Convert the class feature to numeric so we can also see the correlations it has with the numeric features, and check the correlation again.",
   "metadata": {
    "colab_type": "text",
    "id": "scfm6AEv3YIJ",
    "cell_id": "00041-4e53d3ff-82d1-4f04-b8d7-84e018dbdfad",
    "deepnote_cell_type": "markdown",
    "deepnote_cell_height": 74.796875
   }
  },
  {
   "cell_type": "code",
   "metadata": {
    "colab": {
     "autoexec": {
      "startup": false,
      "wait_interval": 0
     }
    },
    "colab_type": "code",
    "id": "2bGleemH3o3b",
    "deepnote_to_be_reexecuted": false,
    "source_hash": "5ddc584",
    "execution_start": 1657913804451,
    "execution_millis": 1136,
    "cell_id": "00042-f2166b39-dada-4713-8636-303023af3851",
    "deepnote_cell_type": "code",
    "deepnote_cell_height": 478.1875,
    "deepnote_output_heights": [
     21.1875,
     257
    ]
   },
   "source": "import pandas as pd\ndataset['Class'] = pd.to_numeric(dataset['Class'])\n\nnumeric_columns.append('Class')\nsns.heatmap(dataset[numeric_columns].corr(), annot = True)",
   "execution_count": 21,
   "outputs": [
    {
     "output_type": "execute_result",
     "execution_count": 21,
     "data": {
      "text/plain": "<AxesSubplot:>"
     },
     "metadata": {}
    },
    {
     "data": {
      "text/plain": "<Figure size 432x288 with 2 Axes>",
      "image/png": "[encoded data removed]"
     },
     "metadata": {
      "needs_background": "light",
      "image/png": {
       "width": 365,
       "height": 255
      }
     },
     "output_type": "display_data"
    }
   ]
  },
  {
   "cell_type": "markdown",
   "source": "Let's do some further visual analysis using a new module called seaborn. Explore its incredible versatility and diversity with data visualization here: https://seaborn.pydata.org/",
   "metadata": {
    "colab_type": "text",
    "id": "tp4yO5kUGd3L",
    "cell_id": "00043-858f7961-3942-406f-8fa4-5efd838ff854",
    "deepnote_cell_type": "markdown",
    "deepnote_cell_height": 74.796875
   }
  },
  {
   "cell_type": "markdown",
   "source": "import seaborn as sns\n#sns.pairplot(dataset)\ndataset",
   "metadata": {
    "colab": {
     "autoexec": {
      "startup": false,
      "wait_interval": 0
     }
    },
    "colab_type": "code",
    "id": "JzkaBa64aXzb",
    "deepnote_to_be_reexecuted": false,
    "source_hash": "29d41f12",
    "execution_start": 1657832979605,
    "execution_millis": 1472,
    "cell_id": "00044-6f6eaf6b-82e8-4462-9bff-f0beb076c20e",
    "deepnote_cell_type": "markdown",
    "deepnote_cell_height": 52.390625
   }
  },
  {
   "cell_type": "markdown",
   "source": "OK! I think we're ready to create and select some supervised learning models. To get the ball rolling, select Age and Sex as our explanatory features (and class as the target feature, obviously).",
   "metadata": {
    "colab_type": "text",
    "id": "mvW7_0aWFSEm",
    "owner_user_id": "ebd09714-693c-4027-a801-7e8a920b6a58",
    "cell_id": "00045-917d7269-a619-4a54-8fe3-e093d04eae9a",
    "deepnote_cell_type": "markdown",
    "deepnote_cell_height": 74.796875
   }
  },
  {
   "cell_type": "markdown",
   "source": "## Model training and selection",
   "metadata": {
    "colab_type": "text",
    "id": "JXMQ9UaKqyha",
    "cell_id": "00046-5885e54d-fa36-41bf-abe9-c0a1773133eb",
    "deepnote_cell_type": "markdown",
    "deepnote_cell_height": 70
   }
  },
  {
   "cell_type": "markdown",
   "source": "Let's dummy the categorical variables (but not the class value!) and view the column names to select some for our model.",
   "metadata": {
    "colab_type": "text",
    "id": "Mon3ih88tW8y",
    "cell_id": "00047-70ef9f62-2b85-4815-b5c4-504c4146f874",
    "deepnote_cell_type": "markdown",
    "deepnote_cell_height": 52.390625
   }
  },
  {
   "cell_type": "code",
   "metadata": {
    "colab": {
     "autoexec": {
      "startup": false,
      "wait_interval": 0
     }
    },
    "colab_type": "code",
    "id": "1NqvPYi6itkH",
    "deepnote_to_be_reexecuted": false,
    "source_hash": "404f7310",
    "execution_start": 1657913805599,
    "execution_millis": 203,
    "deepnote_table_state": {
     "pageSize": 10,
     "pageIndex": 261,
     "filters": [],
     "sortBy": []
    },
    "deepnote_table_loading": false,
    "deepnote_table_invalid": false,
    "cell_id": "00048-e58ad1be-f221-4fc9-9d77-da4c12c930a5",
    "deepnote_cell_type": "code",
    "deepnote_cell_height": 654
   },
   "source": "for i in (categorical_columns):\n    df = pd.get_dummies(dataset[i])\n    dataset[i] = df.iloc[:,1]\ndataset",
   "execution_count": 22,
   "outputs": [
    {
     "output_type": "execute_result",
     "execution_count": 22,
     "data": {
      "application/vnd.deepnote.dataframe.v3+json": {
       "column_count": 28,
       "row_count": 2690,
       "columns": [
        {
         "name": "Age",
         "dtype": "float64",
         "stats": {
          "unique_count": 93,
          "nan_count": 1,
          "min": "1.0",
          "max": "455.0",
          "histogram": [
           {
            "bin_start": 1,
            "bin_end": 46.4,
            "count": 1049
           },
           {
            "bin_start": 46.4,
            "bin_end": 91.8,
            "count": 1635
           },
           {
            "bin_start": 91.8,
            "bin_end": 137.2,
            "count": 4
           },
           {
            "bin_start": 137.2,
            "bin_end": 182.6,
            "count": 0
           },
           {
            "bin_start": 182.6,
            "bin_end": 228,
            "count": 0
           },
           {
            "bin_start": 228,
            "bin_end": 273.4,
            "count": 0
           },
           {
            "bin_start": 273.4,
            "bin_end": 318.8,
            "count": 0
           },
           {
            "bin_start": 318.8,
            "bin_end": 364.2,
            "count": 0
           },
           {
            "bin_start": 364.2,
            "bin_end": 409.59999999999997,
            "count": 0
           },
           {
            "bin_start": 409.59999999999997,
            "bin_end": 455,
            "count": 1
           }
          ]
         }
        },
        {
         "name": "Sex",
         "dtype": "uint8",
         "stats": {
          "unique_count": 2,
          "nan_count": 0,
          "min": "0",
          "max": "1",
          "histogram": [
           {
            "bin_start": 0,
            "bin_end": 0.1,
            "count": 1830
           },
           {
            "bin_start": 0.1,
            "bin_end": 0.2,
            "count": 0
           },
           {
            "bin_start": 0.2,
            "bin_end": 0.30000000000000004,
            "count": 0
           },
           {
            "bin_start": 0.30000000000000004,
            "bin_end": 0.4,
            "count": 0
           },
           {
            "bin_start": 0.4,
            "bin_end": 0.5,
            "count": 0
           },
           {
            "bin_start": 0.5,
            "bin_end": 0.6000000000000001,
            "count": 0
           },
           {
            "bin_start": 0.6000000000000001,
            "bin_end": 0.7000000000000001,
            "count": 0
           },
           {
            "bin_start": 0.7000000000000001,
            "bin_end": 0.8,
            "count": 0
           },
           {
            "bin_start": 0.8,
            "bin_end": 0.9,
            "count": 0
           },
           {
            "bin_start": 0.9,
            "bin_end": 1,
            "count": 860
           }
          ]
         }
        },
        {
         "name": "On Thyroxine",
         "dtype": "uint8",
         "stats": {
          "unique_count": 2,
          "nan_count": 0,
          "min": "0",
          "max": "1",
          "histogram": [
           {
            "bin_start": 0,
            "bin_end": 0.1,
            "count": 2368
           },
           {
            "bin_start": 0.1,
            "bin_end": 0.2,
            "count": 0
           },
           {
            "bin_start": 0.2,
            "bin_end": 0.30000000000000004,
            "count": 0
           },
           {
            "bin_start": 0.30000000000000004,
            "bin_end": 0.4,
            "count": 0
           },
           {
            "bin_start": 0.4,
            "bin_end": 0.5,
            "count": 0
           },
           {
            "bin_start": 0.5,
            "bin_end": 0.6000000000000001,
            "count": 0
           },
           {
            "bin_start": 0.6000000000000001,
            "bin_end": 0.7000000000000001,
            "count": 0
           },
           {
            "bin_start": 0.7000000000000001,
            "bin_end": 0.8,
            "count": 0
           },
           {
            "bin_start": 0.8,
            "bin_end": 0.9,
            "count": 0
           },
           {
            "bin_start": 0.9,
            "bin_end": 1,
            "count": 322
           }
          ]
         }
        },
        {
         "name": "Query on Thyroxine",
         "dtype": "uint8",
         "stats": {
          "unique_count": 2,
          "nan_count": 0,
          "min": "0",
          "max": "1",
          "histogram": [
           {
            "bin_start": 0,
            "bin_end": 0.1,
            "count": 2650
           },
           {
            "bin_start": 0.1,
            "bin_end": 0.2,
            "count": 0
           },
           {
            "bin_start": 0.2,
            "bin_end": 0.30000000000000004,
            "count": 0
           },
           {
            "bin_start": 0.30000000000000004,
            "bin_end": 0.4,
            "count": 0
           },
           {
            "bin_start": 0.4,
            "bin_end": 0.5,
            "count": 0
           },
           {
            "bin_start": 0.5,
            "bin_end": 0.6000000000000001,
            "count": 0
           },
           {
            "bin_start": 0.6000000000000001,
            "bin_end": 0.7000000000000001,
            "count": 0
           },
           {
            "bin_start": 0.7000000000000001,
            "bin_end": 0.8,
            "count": 0
           },
           {
            "bin_start": 0.8,
            "bin_end": 0.9,
            "count": 0
           },
           {
            "bin_start": 0.9,
            "bin_end": 1,
            "count": 40
           }
          ]
         }
        },
        {
         "name": "On Antithyroid Medication",
         "dtype": "uint8",
         "stats": {
          "unique_count": 2,
          "nan_count": 0,
          "min": "0",
          "max": "1",
          "histogram": [
           {
            "bin_start": 0,
            "bin_end": 0.1,
            "count": 2656
           },
           {
            "bin_start": 0.1,
            "bin_end": 0.2,
            "count": 0
           },
           {
            "bin_start": 0.2,
            "bin_end": 0.30000000000000004,
            "count": 0
           },
           {
            "bin_start": 0.30000000000000004,
            "bin_end": 0.4,
            "count": 0
           },
           {
            "bin_start": 0.4,
            "bin_end": 0.5,
            "count": 0
           },
           {
            "bin_start": 0.5,
            "bin_end": 0.6000000000000001,
            "count": 0
           },
           {
            "bin_start": 0.6000000000000001,
            "bin_end": 0.7000000000000001,
            "count": 0
           },
           {
            "bin_start": 0.7000000000000001,
            "bin_end": 0.8,
            "count": 0
           },
           {
            "bin_start": 0.8,
            "bin_end": 0.9,
            "count": 0
           },
           {
            "bin_start": 0.9,
            "bin_end": 1,
            "count": 34
           }
          ]
         }
        },
        {
         "name": "Sick",
         "dtype": "uint8",
         "stats": {
          "unique_count": 2,
          "nan_count": 0,
          "min": "0",
          "max": "1",
          "histogram": [
           {
            "bin_start": 0,
            "bin_end": 0.1,
            "count": 2582
           },
           {
            "bin_start": 0.1,
            "bin_end": 0.2,
            "count": 0
           },
           {
            "bin_start": 0.2,
            "bin_end": 0.30000000000000004,
            "count": 0
           },
           {
            "bin_start": 0.30000000000000004,
            "bin_end": 0.4,
            "count": 0
           },
           {
            "bin_start": 0.4,
            "bin_end": 0.5,
            "count": 0
           },
           {
            "bin_start": 0.5,
            "bin_end": 0.6000000000000001,
            "count": 0
           },
           {
            "bin_start": 0.6000000000000001,
            "bin_end": 0.7000000000000001,
            "count": 0
           },
           {
            "bin_start": 0.7000000000000001,
            "bin_end": 0.8,
            "count": 0
           },
           {
            "bin_start": 0.8,
            "bin_end": 0.9,
            "count": 0
           },
           {
            "bin_start": 0.9,
            "bin_end": 1,
            "count": 108
           }
          ]
         }
        },
        {
         "name": "Pregnant",
         "dtype": "uint8",
         "stats": {
          "unique_count": 2,
          "nan_count": 0,
          "min": "0",
          "max": "1",
          "histogram": [
           {
            "bin_start": 0,
            "bin_end": 0.1,
            "count": 2650
           },
           {
            "bin_start": 0.1,
            "bin_end": 0.2,
            "count": 0
           },
           {
            "bin_start": 0.2,
            "bin_end": 0.30000000000000004,
            "count": 0
           },
           {
            "bin_start": 0.30000000000000004,
            "bin_end": 0.4,
            "count": 0
           },
           {
            "bin_start": 0.4,
            "bin_end": 0.5,
            "count": 0
           },
           {
            "bin_start": 0.5,
            "bin_end": 0.6000000000000001,
            "count": 0
           },
           {
            "bin_start": 0.6000000000000001,
            "bin_end": 0.7000000000000001,
            "count": 0
           },
           {
            "bin_start": 0.7000000000000001,
            "bin_end": 0.8,
            "count": 0
           },
           {
            "bin_start": 0.8,
            "bin_end": 0.9,
            "count": 0
           },
           {
            "bin_start": 0.9,
            "bin_end": 1,
            "count": 40
           }
          ]
         }
        },
        {
         "name": "Thyroid Surgery",
         "dtype": "uint8",
         "stats": {
          "unique_count": 2,
          "nan_count": 0,
          "min": "0",
          "max": "1",
          "histogram": [
           {
            "bin_start": 0,
            "bin_end": 0.1,
            "count": 2651
           },
           {
            "bin_start": 0.1,
            "bin_end": 0.2,
            "count": 0
           },
           {
            "bin_start": 0.2,
            "bin_end": 0.30000000000000004,
            "count": 0
           },
           {
            "bin_start": 0.30000000000000004,
            "bin_end": 0.4,
            "count": 0
           },
           {
            "bin_start": 0.4,
            "bin_end": 0.5,
            "count": 0
           },
           {
            "bin_start": 0.5,
            "bin_end": 0.6000000000000001,
            "count": 0
           },
           {
            "bin_start": 0.6000000000000001,
            "bin_end": 0.7000000000000001,
            "count": 0
           },
           {
            "bin_start": 0.7000000000000001,
            "bin_end": 0.8,
            "count": 0
           },
           {
            "bin_start": 0.8,
            "bin_end": 0.9,
            "count": 0
           },
           {
            "bin_start": 0.9,
            "bin_end": 1,
            "count": 39
           }
          ]
         }
        },
        {
         "name": "I131 Treatment",
         "dtype": "uint8",
         "stats": {
          "unique_count": 2,
          "nan_count": 0,
          "min": "0",
          "max": "1",
          "histogram": [
           {
            "bin_start": 0,
            "bin_end": 0.1,
            "count": 2645
           },
           {
            "bin_start": 0.1,
            "bin_end": 0.2,
            "count": 0
           },
           {
            "bin_start": 0.2,
            "bin_end": 0.30000000000000004,
            "count": 0
           },
           {
            "bin_start": 0.30000000000000004,
            "bin_end": 0.4,
            "count": 0
           },
           {
            "bin_start": 0.4,
            "bin_end": 0.5,
            "count": 0
           },
           {
            "bin_start": 0.5,
            "bin_end": 0.6000000000000001,
            "count": 0
           },
           {
            "bin_start": 0.6000000000000001,
            "bin_end": 0.7000000000000001,
            "count": 0
           },
           {
            "bin_start": 0.7000000000000001,
            "bin_end": 0.8,
            "count": 0
           },
           {
            "bin_start": 0.8,
            "bin_end": 0.9,
            "count": 0
           },
           {
            "bin_start": 0.9,
            "bin_end": 1,
            "count": 45
           }
          ]
         }
        },
        {
         "name": "Query Hypothyroid",
         "dtype": "uint8",
         "stats": {
          "unique_count": 2,
          "nan_count": 0,
          "min": "0",
          "max": "1",
          "histogram": [
           {
            "bin_start": 0,
            "bin_end": 0.1,
            "count": 2530
           },
           {
            "bin_start": 0.1,
            "bin_end": 0.2,
            "count": 0
           },
           {
            "bin_start": 0.2,
            "bin_end": 0.30000000000000004,
            "count": 0
           },
           {
            "bin_start": 0.30000000000000004,
            "bin_end": 0.4,
            "count": 0
           },
           {
            "bin_start": 0.4,
            "bin_end": 0.5,
            "count": 0
           },
           {
            "bin_start": 0.5,
            "bin_end": 0.6000000000000001,
            "count": 0
           },
           {
            "bin_start": 0.6000000000000001,
            "bin_end": 0.7000000000000001,
            "count": 0
           },
           {
            "bin_start": 0.7000000000000001,
            "bin_end": 0.8,
            "count": 0
           },
           {
            "bin_start": 0.8,
            "bin_end": 0.9,
            "count": 0
           },
           {
            "bin_start": 0.9,
            "bin_end": 1,
            "count": 160
           }
          ]
         }
        },
        {
         "name": "Query Hyperthyroid",
         "dtype": "uint8",
         "stats": {
          "unique_count": 2,
          "nan_count": 0,
          "min": "0",
          "max": "1",
          "histogram": [
           {
            "bin_start": 0,
            "bin_end": 0.1,
            "count": 2522
           },
           {
            "bin_start": 0.1,
            "bin_end": 0.2,
            "count": 0
           },
           {
            "bin_start": 0.2,
            "bin_end": 0.30000000000000004,
            "count": 0
           },
           {
            "bin_start": 0.30000000000000004,
            "bin_end": 0.4,
            "count": 0
           },
           {
            "bin_start": 0.4,
            "bin_end": 0.5,
            "count": 0
           },
           {
            "bin_start": 0.5,
            "bin_end": 0.6000000000000001,
            "count": 0
           },
           {
            "bin_start": 0.6000000000000001,
            "bin_end": 0.7000000000000001,
            "count": 0
           },
           {
            "bin_start": 0.7000000000000001,
            "bin_end": 0.8,
            "count": 0
           },
           {
            "bin_start": 0.8,
            "bin_end": 0.9,
            "count": 0
           },
           {
            "bin_start": 0.9,
            "bin_end": 1,
            "count": 168
           }
          ]
         }
        },
        {
         "name": "Lithium",
         "dtype": "uint8",
         "stats": {
          "unique_count": 2,
          "nan_count": 0,
          "min": "0",
          "max": "1",
          "histogram": [
           {
            "bin_start": 0,
            "bin_end": 0.1,
            "count": 2676
           },
           {
            "bin_start": 0.1,
            "bin_end": 0.2,
            "count": 0
           },
           {
            "bin_start": 0.2,
            "bin_end": 0.30000000000000004,
            "count": 0
           },
           {
            "bin_start": 0.30000000000000004,
            "bin_end": 0.4,
            "count": 0
           },
           {
            "bin_start": 0.4,
            "bin_end": 0.5,
            "count": 0
           },
           {
            "bin_start": 0.5,
            "bin_end": 0.6000000000000001,
            "count": 0
           },
           {
            "bin_start": 0.6000000000000001,
            "bin_end": 0.7000000000000001,
            "count": 0
           },
           {
            "bin_start": 0.7000000000000001,
            "bin_end": 0.8,
            "count": 0
           },
           {
            "bin_start": 0.8,
            "bin_end": 0.9,
            "count": 0
           },
           {
            "bin_start": 0.9,
            "bin_end": 1,
            "count": 14
           }
          ]
         }
        },
        {
         "name": "Goiter",
         "dtype": "uint8",
         "stats": {
          "unique_count": 2,
          "nan_count": 0,
          "min": "0",
          "max": "1",
          "histogram": [
           {
            "bin_start": 0,
            "bin_end": 0.1,
            "count": 2665
           },
           {
            "bin_start": 0.1,
            "bin_end": 0.2,
            "count": 0
           },
           {
            "bin_start": 0.2,
            "bin_end": 0.30000000000000004,
            "count": 0
           },
           {
            "bin_start": 0.30000000000000004,
            "bin_end": 0.4,
            "count": 0
           },
           {
            "bin_start": 0.4,
            "bin_end": 0.5,
            "count": 0
           },
           {
            "bin_start": 0.5,
            "bin_end": 0.6000000000000001,
            "count": 0
           },
           {
            "bin_start": 0.6000000000000001,
            "bin_end": 0.7000000000000001,
            "count": 0
           },
           {
            "bin_start": 0.7000000000000001,
            "bin_end": 0.8,
            "count": 0
           },
           {
            "bin_start": 0.8,
            "bin_end": 0.9,
            "count": 0
           },
           {
            "bin_start": 0.9,
            "bin_end": 1,
            "count": 25
           }
          ]
         }
        },
        {
         "name": "Tumor",
         "dtype": "uint8",
         "stats": {
          "unique_count": 2,
          "nan_count": 0,
          "min": "0",
          "max": "1",
          "histogram": [
           {
            "bin_start": 0,
            "bin_end": 0.1,
            "count": 2620
           },
           {
            "bin_start": 0.1,
            "bin_end": 0.2,
            "count": 0
           },
           {
            "bin_start": 0.2,
            "bin_end": 0.30000000000000004,
            "count": 0
           },
           {
            "bin_start": 0.30000000000000004,
            "bin_end": 0.4,
            "count": 0
           },
           {
            "bin_start": 0.4,
            "bin_end": 0.5,
            "count": 0
           },
           {
            "bin_start": 0.5,
            "bin_end": 0.6000000000000001,
            "count": 0
           },
           {
            "bin_start": 0.6000000000000001,
            "bin_end": 0.7000000000000001,
            "count": 0
           },
           {
            "bin_start": 0.7000000000000001,
            "bin_end": 0.8,
            "count": 0
           },
           {
            "bin_start": 0.8,
            "bin_end": 0.9,
            "count": 0
           },
           {
            "bin_start": 0.9,
            "bin_end": 1,
            "count": 70
           }
          ]
         }
        },
        {
         "name": "Hypopituitary",
         "dtype": "uint8",
         "stats": {
          "unique_count": 2,
          "nan_count": 0,
          "min": "0",
          "max": "1",
          "histogram": [
           {
            "bin_start": 0,
            "bin_end": 0.1,
            "count": 2689
           },
           {
            "bin_start": 0.1,
            "bin_end": 0.2,
            "count": 0
           },
           {
            "bin_start": 0.2,
            "bin_end": 0.30000000000000004,
            "count": 0
           },
           {
            "bin_start": 0.30000000000000004,
            "bin_end": 0.4,
            "count": 0
           },
           {
            "bin_start": 0.4,
            "bin_end": 0.5,
            "count": 0
           },
           {
            "bin_start": 0.5,
            "bin_end": 0.6000000000000001,
            "count": 0
           },
           {
            "bin_start": 0.6000000000000001,
            "bin_end": 0.7000000000000001,
            "count": 0
           },
           {
            "bin_start": 0.7000000000000001,
            "bin_end": 0.8,
            "count": 0
           },
           {
            "bin_start": 0.8,
            "bin_end": 0.9,
            "count": 0
           },
           {
            "bin_start": 0.9,
            "bin_end": 1,
            "count": 1
           }
          ]
         }
        },
        {
         "name": "Psych",
         "dtype": "uint8",
         "stats": {
          "unique_count": 2,
          "nan_count": 0,
          "min": "0",
          "max": "1",
          "histogram": [
           {
            "bin_start": 0,
            "bin_end": 0.1,
            "count": 2556
           },
           {
            "bin_start": 0.1,
            "bin_end": 0.2,
            "count": 0
           },
           {
            "bin_start": 0.2,
            "bin_end": 0.30000000000000004,
            "count": 0
           },
           {
            "bin_start": 0.30000000000000004,
            "bin_end": 0.4,
            "count": 0
           },
           {
            "bin_start": 0.4,
            "bin_end": 0.5,
            "count": 0
           },
           {
            "bin_start": 0.5,
            "bin_end": 0.6000000000000001,
            "count": 0
           },
           {
            "bin_start": 0.6000000000000001,
            "bin_end": 0.7000000000000001,
            "count": 0
           },
           {
            "bin_start": 0.7000000000000001,
            "bin_end": 0.8,
            "count": 0
           },
           {
            "bin_start": 0.8,
            "bin_end": 0.9,
            "count": 0
           },
           {
            "bin_start": 0.9,
            "bin_end": 1,
            "count": 134
           }
          ]
         }
        },
        {
         "name": "TSH Measured",
         "dtype": "uint8",
         "stats": {
          "unique_count": 2,
          "nan_count": 0,
          "min": "0",
          "max": "1",
          "histogram": [
           {
            "bin_start": 0,
            "bin_end": 0.1,
            "count": 271
           },
           {
            "bin_start": 0.1,
            "bin_end": 0.2,
            "count": 0
           },
           {
            "bin_start": 0.2,
            "bin_end": 0.30000000000000004,
            "count": 0
           },
           {
            "bin_start": 0.30000000000000004,
            "bin_end": 0.4,
            "count": 0
           },
           {
            "bin_start": 0.4,
            "bin_end": 0.5,
            "count": 0
           },
           {
            "bin_start": 0.5,
            "bin_end": 0.6000000000000001,
            "count": 0
           },
           {
            "bin_start": 0.6000000000000001,
            "bin_end": 0.7000000000000001,
            "count": 0
           },
           {
            "bin_start": 0.7000000000000001,
            "bin_end": 0.8,
            "count": 0
           },
           {
            "bin_start": 0.8,
            "bin_end": 0.9,
            "count": 0
           },
           {
            "bin_start": 0.9,
            "bin_end": 1,
            "count": 2419
           }
          ]
         }
        },
        {
         "name": "TSH",
         "dtype": "float64",
         "stats": {
          "unique_count": 261,
          "nan_count": 271,
          "min": "0.005",
          "max": "478.0",
          "histogram": [
           {
            "bin_start": 0.005,
            "bin_end": 47.804500000000004,
            "count": 2382
           },
           {
            "bin_start": 47.804500000000004,
            "bin_end": 95.604,
            "count": 16
           },
           {
            "bin_start": 95.604,
            "bin_end": 143.4035,
            "count": 10
           },
           {
            "bin_start": 143.4035,
            "bin_end": 191.203,
            "count": 8
           },
           {
            "bin_start": 191.203,
            "bin_end": 239.0025,
            "count": 1
           },
           {
            "bin_start": 239.0025,
            "bin_end": 286.802,
            "count": 0
           },
           {
            "bin_start": 286.802,
            "bin_end": 334.6015,
            "count": 0
           },
           {
            "bin_start": 334.6015,
            "bin_end": 382.401,
            "count": 0
           },
           {
            "bin_start": 382.401,
            "bin_end": 430.20050000000003,
            "count": 0
           },
           {
            "bin_start": 430.20050000000003,
            "bin_end": 478,
            "count": 2
           }
          ]
         }
        },
        {
         "name": "T3 Measured",
         "dtype": "uint8",
         "stats": {
          "unique_count": 2,
          "nan_count": 0,
          "min": "0",
          "max": "1",
          "histogram": [
           {
            "bin_start": 0,
            "bin_end": 0.1,
            "count": 570
           },
           {
            "bin_start": 0.1,
            "bin_end": 0.2,
            "count": 0
           },
           {
            "bin_start": 0.2,
            "bin_end": 0.30000000000000004,
            "count": 0
           },
           {
            "bin_start": 0.30000000000000004,
            "bin_end": 0.4,
            "count": 0
           },
           {
            "bin_start": 0.4,
            "bin_end": 0.5,
            "count": 0
           },
           {
            "bin_start": 0.5,
            "bin_end": 0.6000000000000001,
            "count": 0
           },
           {
            "bin_start": 0.6000000000000001,
            "bin_end": 0.7000000000000001,
            "count": 0
           },
           {
            "bin_start": 0.7000000000000001,
            "bin_end": 0.8,
            "count": 0
           },
           {
            "bin_start": 0.8,
            "bin_end": 0.9,
            "count": 0
           },
           {
            "bin_start": 0.9,
            "bin_end": 1,
            "count": 2120
           }
          ]
         }
        },
        {
         "name": "T3",
         "dtype": "float64",
         "stats": {
          "unique_count": 64,
          "nan_count": 570,
          "min": "0.05",
          "max": "10.6",
          "histogram": [
           {
            "bin_start": 0.05,
            "bin_end": 1.105,
            "count": 212
           },
           {
            "bin_start": 1.105,
            "bin_end": 2.1599999999999997,
            "count": 1087
           },
           {
            "bin_start": 2.1599999999999997,
            "bin_end": 3.215,
            "count": 698
           },
           {
            "bin_start": 3.215,
            "bin_end": 4.27,
            "count": 85
           },
           {
            "bin_start": 4.27,
            "bin_end": 5.324999999999999,
            "count": 25
           },
           {
            "bin_start": 5.324999999999999,
            "bin_end": 6.38,
            "count": 8
           },
           {
            "bin_start": 6.38,
            "bin_end": 7.435,
            "count": 4
           },
           {
            "bin_start": 7.435,
            "bin_end": 8.49,
            "count": 0
           },
           {
            "bin_start": 8.49,
            "bin_end": 9.545,
            "count": 0
           },
           {
            "bin_start": 9.545,
            "bin_end": 10.6,
            "count": 1
           }
          ]
         }
        },
        {
         "name": "TT4 Measured",
         "dtype": "uint8",
         "stats": {
          "unique_count": 2,
          "nan_count": 0,
          "min": "0",
          "max": "1",
          "histogram": [
           {
            "bin_start": 0,
            "bin_end": 0.1,
            "count": 172
           },
           {
            "bin_start": 0.1,
            "bin_end": 0.2,
            "count": 0
           },
           {
            "bin_start": 0.2,
            "bin_end": 0.30000000000000004,
            "count": 0
           },
           {
            "bin_start": 0.30000000000000004,
            "bin_end": 0.4,
            "count": 0
           },
           {
            "bin_start": 0.4,
            "bin_end": 0.5,
            "count": 0
           },
           {
            "bin_start": 0.5,
            "bin_end": 0.6000000000000001,
            "count": 0
           },
           {
            "bin_start": 0.6000000000000001,
            "bin_end": 0.7000000000000001,
            "count": 0
           },
           {
            "bin_start": 0.7000000000000001,
            "bin_end": 0.8,
            "count": 0
           },
           {
            "bin_start": 0.8,
            "bin_end": 0.9,
            "count": 0
           },
           {
            "bin_start": 0.9,
            "bin_end": 1,
            "count": 2518
           }
          ]
         }
        },
        {
         "name": "TT4",
         "dtype": "float64",
         "stats": {
          "unique_count": 212,
          "nan_count": 172,
          "min": "2.0",
          "max": "430.0",
          "histogram": [
           {
            "bin_start": 2,
            "bin_end": 44.8,
            "count": 50
           },
           {
            "bin_start": 44.8,
            "bin_end": 87.6,
            "count": 569
           },
           {
            "bin_start": 87.6,
            "bin_end": 130.39999999999998,
            "count": 1370
           },
           {
            "bin_start": 130.39999999999998,
            "bin_end": 173.2,
            "count": 410
           },
           {
            "bin_start": 173.2,
            "bin_end": 216,
            "count": 93
           },
           {
            "bin_start": 216,
            "bin_end": 258.79999999999995,
            "count": 20
           },
           {
            "bin_start": 258.79999999999995,
            "bin_end": 301.59999999999997,
            "count": 4
           },
           {
            "bin_start": 301.59999999999997,
            "bin_end": 344.4,
            "count": 0
           },
           {
            "bin_start": 344.4,
            "bin_end": 387.2,
            "count": 0
           },
           {
            "bin_start": 387.2,
            "bin_end": 430,
            "count": 2
           }
          ]
         }
        },
        {
         "name": "T4U Measured",
         "dtype": "uint8",
         "stats": {
          "unique_count": 2,
          "nan_count": 0,
          "min": "0",
          "max": "1",
          "histogram": [
           {
            "bin_start": 0,
            "bin_end": 0.1,
            "count": 280
           },
           {
            "bin_start": 0.1,
            "bin_end": 0.2,
            "count": 0
           },
           {
            "bin_start": 0.2,
            "bin_end": 0.30000000000000004,
            "count": 0
           },
           {
            "bin_start": 0.30000000000000004,
            "bin_end": 0.4,
            "count": 0
           },
           {
            "bin_start": 0.4,
            "bin_end": 0.5,
            "count": 0
           },
           {
            "bin_start": 0.5,
            "bin_end": 0.6000000000000001,
            "count": 0
           },
           {
            "bin_start": 0.6000000000000001,
            "bin_end": 0.7000000000000001,
            "count": 0
           },
           {
            "bin_start": 0.7000000000000001,
            "bin_end": 0.8,
            "count": 0
           },
           {
            "bin_start": 0.8,
            "bin_end": 0.9,
            "count": 0
           },
           {
            "bin_start": 0.9,
            "bin_end": 1,
            "count": 2410
           }
          ]
         }
        },
        {
         "name": "T4U",
         "dtype": "float64",
         "stats": {
          "unique_count": 137,
          "nan_count": 280,
          "min": "0.31",
          "max": "2.12",
          "histogram": [
           {
            "bin_start": 0.31,
            "bin_end": 0.491,
            "count": 4
           },
           {
            "bin_start": 0.491,
            "bin_end": 0.6719999999999999,
            "count": 47
           },
           {
            "bin_start": 0.6719999999999999,
            "bin_end": 0.853,
            "count": 433
           },
           {
            "bin_start": 0.853,
            "bin_end": 1.034,
            "count": 1069
           },
           {
            "bin_start": 1.034,
            "bin_end": 1.215,
            "count": 635
           },
           {
            "bin_start": 1.215,
            "bin_end": 1.396,
            "count": 126
           },
           {
            "bin_start": 1.396,
            "bin_end": 1.577,
            "count": 46
           },
           {
            "bin_start": 1.577,
            "bin_end": 1.758,
            "count": 34
           },
           {
            "bin_start": 1.758,
            "bin_end": 1.939,
            "count": 12
           },
           {
            "bin_start": 1.939,
            "bin_end": 2.12,
            "count": 4
           }
          ]
         }
        },
        {
         "name": "FTI Measured",
         "dtype": "uint8",
         "stats": {
          "unique_count": 2,
          "nan_count": 0,
          "min": "0",
          "max": "1",
          "histogram": [
           {
            "bin_start": 0,
            "bin_end": 0.1,
            "count": 278
           },
           {
            "bin_start": 0.1,
            "bin_end": 0.2,
            "count": 0
           },
           {
            "bin_start": 0.2,
            "bin_end": 0.30000000000000004,
            "count": 0
           },
           {
            "bin_start": 0.30000000000000004,
            "bin_end": 0.4,
            "count": 0
           },
           {
            "bin_start": 0.4,
            "bin_end": 0.5,
            "count": 0
           },
           {
            "bin_start": 0.5,
            "bin_end": 0.6000000000000001,
            "count": 0
           },
           {
            "bin_start": 0.6000000000000001,
            "bin_end": 0.7000000000000001,
            "count": 0
           },
           {
            "bin_start": 0.7000000000000001,
            "bin_end": 0.8,
            "count": 0
           },
           {
            "bin_start": 0.8,
            "bin_end": 0.9,
            "count": 0
           },
           {
            "bin_start": 0.9,
            "bin_end": 1,
            "count": 2412
           }
          ]
         }
        },
        {
         "name": "FTI",
         "dtype": "float64",
         "stats": {
          "unique_count": 203,
          "nan_count": 278,
          "min": "2.0",
          "max": "395.0",
          "histogram": [
           {
            "bin_start": 2,
            "bin_end": 41.3,
            "count": 34
           },
           {
            "bin_start": 41.3,
            "bin_end": 80.6,
            "count": 232
           },
           {
            "bin_start": 80.6,
            "bin_end": 119.89999999999999,
            "count": 1410
           },
           {
            "bin_start": 119.89999999999999,
            "bin_end": 159.2,
            "count": 584
           },
           {
            "bin_start": 159.2,
            "bin_end": 198.5,
            "count": 112
           },
           {
            "bin_start": 198.5,
            "bin_end": 237.79999999999998,
            "count": 29
           },
           {
            "bin_start": 237.79999999999998,
            "bin_end": 277.09999999999997,
            "count": 6
           },
           {
            "bin_start": 277.09999999999997,
            "bin_end": 316.4,
            "count": 2
           },
           {
            "bin_start": 316.4,
            "bin_end": 355.7,
            "count": 1
           },
           {
            "bin_start": 355.7,
            "bin_end": 395,
            "count": 2
           }
          ]
         }
        },
        {
         "name": "Referral Source",
         "dtype": "uint8",
         "stats": {
          "unique_count": 2,
          "nan_count": 0,
          "min": "0",
          "max": "1",
          "histogram": [
           {
            "bin_start": 0,
            "bin_end": 0.1,
            "count": 2419
           },
           {
            "bin_start": 0.1,
            "bin_end": 0.2,
            "count": 0
           },
           {
            "bin_start": 0.2,
            "bin_end": 0.30000000000000004,
            "count": 0
           },
           {
            "bin_start": 0.30000000000000004,
            "bin_end": 0.4,
            "count": 0
           },
           {
            "bin_start": 0.4,
            "bin_end": 0.5,
            "count": 0
           },
           {
            "bin_start": 0.5,
            "bin_end": 0.6000000000000001,
            "count": 0
           },
           {
            "bin_start": 0.6000000000000001,
            "bin_end": 0.7000000000000001,
            "count": 0
           },
           {
            "bin_start": 0.7000000000000001,
            "bin_end": 0.8,
            "count": 0
           },
           {
            "bin_start": 0.8,
            "bin_end": 0.9,
            "count": 0
           },
           {
            "bin_start": 0.9,
            "bin_end": 1,
            "count": 271
           }
          ]
         }
        },
        {
         "name": "Class",
         "dtype": "int64",
         "stats": {
          "unique_count": 4,
          "nan_count": 0,
          "min": "0",
          "max": "3",
          "histogram": [
           {
            "bin_start": 0,
            "bin_end": 0.3,
            "count": 2479
           },
           {
            "bin_start": 0.3,
            "bin_end": 0.6,
            "count": 0
           },
           {
            "bin_start": 0.6,
            "bin_end": 0.8999999999999999,
            "count": 0
           },
           {
            "bin_start": 0.8999999999999999,
            "bin_end": 1.2,
            "count": 149
           },
           {
            "bin_start": 1.2,
            "bin_end": 1.5,
            "count": 0
           },
           {
            "bin_start": 1.5,
            "bin_end": 1.7999999999999998,
            "count": 0
           },
           {
            "bin_start": 1.7999999999999998,
            "bin_end": 2.1,
            "count": 60
           },
           {
            "bin_start": 2.1,
            "bin_end": 2.4,
            "count": 0
           },
           {
            "bin_start": 2.4,
            "bin_end": 2.6999999999999997,
            "count": 0
           },
           {
            "bin_start": 2.6999999999999997,
            "bin_end": 3,
            "count": 2
           }
          ]
         }
        },
        {
         "name": "_deepnote_index_column",
         "dtype": "int64"
        }
       ],
       "rows": [
        {
         "Age": 77,
         "Sex": 0,
         "On Thyroxine": 0,
         "Query on Thyroxine": 0,
         "On Antithyroid Medication": 0,
         "Sick": 0,
         "Pregnant": 0,
         "Thyroid Surgery": 0,
         "I131 Treatment": 0,
         "Query Hypothyroid": 0,
         "Query Hyperthyroid": 0,
         "Lithium": 0,
         "Goiter": 0,
         "Tumor": 0,
         "Hypopituitary": 0,
         "Psych": 0,
         "TSH Measured": 1,
         "TSH": 1.6,
         "T3 Measured": 1,
         "T3": 2.3,
         "TT4 Measured": 1,
         "TT4": 144,
         "T4U Measured": 1,
         "T4U": 0.95,
         "FTI Measured": 1,
         "FTI": 152,
         "Referral Source": 0,
         "Class": 0,
         "_deepnote_index_column": 2714
        },
        {
         "Age": 34,
         "Sex": 1,
         "On Thyroxine": 0,
         "Query on Thyroxine": 0,
         "On Antithyroid Medication": 0,
         "Sick": 0,
         "Pregnant": 0,
         "Thyroid Surgery": 0,
         "I131 Treatment": 0,
         "Query Hypothyroid": 0,
         "Query Hyperthyroid": 0,
         "Lithium": 0,
         "Goiter": 0,
         "Tumor": 0,
         "Hypopituitary": 0,
         "Psych": 1,
         "TSH Measured": 1,
         "TSH": 1.3,
         "T3 Measured": 1,
         "T3": 1.8,
         "TT4 Measured": 1,
         "TT4": 86,
         "T4U Measured": 1,
         "T4U": 0.86,
         "FTI Measured": 1,
         "FTI": 101,
         "Referral Source": 1,
         "Class": 0,
         "_deepnote_index_column": 2715
        },
        {
         "Age": 60,
         "Sex": 0,
         "On Thyroxine": 0,
         "Query on Thyroxine": 0,
         "On Antithyroid Medication": 0,
         "Sick": 0,
         "Pregnant": 0,
         "Thyroid Surgery": 0,
         "I131 Treatment": 0,
         "Query Hypothyroid": 0,
         "Query Hyperthyroid": 1,
         "Lithium": 0,
         "Goiter": 0,
         "Tumor": 0,
         "Hypopituitary": 0,
         "Psych": 0,
         "TSH Measured": 1,
         "TSH": 0.025,
         "T3 Measured": 1,
         "T3": 3.9,
         "TT4 Measured": 1,
         "TT4": 123,
         "T4U Measured": 1,
         "T4U": 0.98,
         "FTI Measured": 1,
         "FTI": 126,
         "Referral Source": 0,
         "Class": 0,
         "_deepnote_index_column": 2716
        },
        {
         "Age": 83,
         "Sex": 1,
         "On Thyroxine": 0,
         "Query on Thyroxine": 0,
         "On Antithyroid Medication": 0,
         "Sick": 0,
         "Pregnant": 0,
         "Thyroid Surgery": 0,
         "I131 Treatment": 0,
         "Query Hypothyroid": 0,
         "Query Hyperthyroid": 0,
         "Lithium": 0,
         "Goiter": 0,
         "Tumor": 0,
         "Hypopituitary": 0,
         "Psych": 0,
         "TSH Measured": 1,
         "TSH": 0.2,
         "T3 Measured": 1,
         "T3": 1.1,
         "TT4 Measured": 1,
         "TT4": 95,
         "T4U Measured": 1,
         "T4U": 0.73,
         "FTI Measured": 1,
         "FTI": 129,
         "Referral Source": 0,
         "Class": 0,
         "_deepnote_index_column": 2717
        },
        {
         "Age": 31,
         "Sex": 1,
         "On Thyroxine": 0,
         "Query on Thyroxine": 0,
         "On Antithyroid Medication": 0,
         "Sick": 0,
         "Pregnant": 0,
         "Thyroid Surgery": 0,
         "I131 Treatment": 0,
         "Query Hypothyroid": 0,
         "Query Hyperthyroid": 0,
         "Lithium": 0,
         "Goiter": 0,
         "Tumor": 0,
         "Hypopituitary": 0,
         "Psych": 0,
         "TSH Measured": 1,
         "TSH": 2.2,
         "T3 Measured": 1,
         "T3": 2.3,
         "TT4 Measured": 1,
         "TT4": 132,
         "T4U Measured": 1,
         "T4U": 1.16,
         "FTI Measured": 1,
         "FTI": 114,
         "Referral Source": 0,
         "Class": 0,
         "_deepnote_index_column": 2718
        },
        {
         "Age": 67,
         "Sex": 0,
         "On Thyroxine": 0,
         "Query on Thyroxine": 0,
         "On Antithyroid Medication": 0,
         "Sick": 0,
         "Pregnant": 0,
         "Thyroid Surgery": 0,
         "I131 Treatment": 0,
         "Query Hypothyroid": 0,
         "Query Hyperthyroid": 0,
         "Lithium": 0,
         "Goiter": 0,
         "Tumor": 0,
         "Hypopituitary": 0,
         "Psych": 0,
         "TSH Measured": 1,
         "TSH": 46,
         "T3 Measured": 1,
         "T3": 1,
         "TT4 Measured": 1,
         "TT4": 48,
         "T4U Measured": 1,
         "T4U": 0.98,
         "FTI Measured": 1,
         "FTI": 49,
         "Referral Source": 0,
         "Class": 2,
         "_deepnote_index_column": 2719
        },
        {
         "Age": 35,
         "Sex": 1,
         "On Thyroxine": 0,
         "Query on Thyroxine": 0,
         "On Antithyroid Medication": 0,
         "Sick": 0,
         "Pregnant": 0,
         "Thyroid Surgery": 0,
         "I131 Treatment": 0,
         "Query Hypothyroid": 0,
         "Query Hyperthyroid": 1,
         "Lithium": 0,
         "Goiter": 0,
         "Tumor": 0,
         "Hypopituitary": 0,
         "Psych": 0,
         "TSH Measured": 0,
         "TSH": "nan",
         "T3 Measured": 1,
         "T3": 2.2,
         "TT4 Measured": 1,
         "TT4": 81,
         "T4U Measured": 1,
         "T4U": 0.96,
         "FTI Measured": 1,
         "FTI": 84,
         "Referral Source": 0,
         "Class": 0,
         "_deepnote_index_column": 2720
        },
        {
         "Age": 70,
         "Sex": 0,
         "On Thyroxine": 0,
         "Query on Thyroxine": 0,
         "On Antithyroid Medication": 0,
         "Sick": 0,
         "Pregnant": 0,
         "Thyroid Surgery": 0,
         "I131 Treatment": 0,
         "Query Hypothyroid": 0,
         "Query Hyperthyroid": 0,
         "Lithium": 0,
         "Goiter": 0,
         "Tumor": 0,
         "Hypopituitary": 0,
         "Psych": 0,
         "TSH Measured": 1,
         "TSH": 2.1,
         "T3 Measured": 1,
         "T3": 2.3,
         "TT4 Measured": 1,
         "TT4": 180,
         "T4U Measured": 1,
         "T4U": 1.3,
         "FTI Measured": 1,
         "FTI": 139,
         "Referral Source": 0,
         "Class": 0,
         "_deepnote_index_column": 2721
        },
        {
         "Age": 19,
         "Sex": 0,
         "On Thyroxine": 0,
         "Query on Thyroxine": 0,
         "On Antithyroid Medication": 0,
         "Sick": 0,
         "Pregnant": 0,
         "Thyroid Surgery": 0,
         "I131 Treatment": 0,
         "Query Hypothyroid": 0,
         "Query Hyperthyroid": 0,
         "Lithium": 0,
         "Goiter": 0,
         "Tumor": 0,
         "Hypopituitary": 0,
         "Psych": 0,
         "TSH Measured": 1,
         "TSH": 4,
         "T3 Measured": 1,
         "T3": 2.9,
         "TT4 Measured": 1,
         "TT4": 122,
         "T4U Measured": 1,
         "T4U": 1.02,
         "FTI Measured": 1,
         "FTI": 119,
         "Referral Source": 1,
         "Class": 0,
         "_deepnote_index_column": 2722
        },
        {
         "Age": 89,
         "Sex": 0,
         "On Thyroxine": 0,
         "Query on Thyroxine": 0,
         "On Antithyroid Medication": 0,
         "Sick": 0,
         "Pregnant": 0,
         "Thyroid Surgery": 0,
         "I131 Treatment": 0,
         "Query Hypothyroid": 0,
         "Query Hyperthyroid": 0,
         "Lithium": 0,
         "Goiter": 0,
         "Tumor": 0,
         "Hypopituitary": 0,
         "Psych": 0,
         "TSH Measured": 1,
         "TSH": 2.5,
         "T3 Measured": 1,
         "T3": 1.6,
         "TT4 Measured": 1,
         "TT4": 108,
         "T4U Measured": 1,
         "T4U": 0.92,
         "FTI Measured": 1,
         "FTI": 118,
         "Referral Source": 0,
         "Class": 0,
         "_deepnote_index_column": 2723
        }
       ]
      },
      "text/plain": "       Age  Sex  On Thyroxine  Query on Thyroxine  On Antithyroid Medication  \\\n0     41.0    0             0                   0                          0   \n1     23.0    0             0                   0                          0   \n2     46.0    1             0                   0                          0   \n3     70.0    0             1                   0                          0   \n4     70.0    0             0                   0                          0   \n...    ...  ...           ...                 ...                        ...   \n2795  70.0    1             0                   0                          0   \n2796  73.0    1             0                   1                          0   \n2797  75.0    1             0                   0                          0   \n2798  60.0    0             0                   0                          0   \n2799  81.0    0             0                   0                          0   \n\n      Sick  Pregnant  Thyroid Surgery  I131 Treatment  Query Hypothyroid  ...  \\\n0        0         0                0               0                  0  ...   \n1        0         0                0               0                  0  ...   \n2        0         0                0               0                  0  ...   \n3        0         0                0               0                  0  ...   \n4        0         0                0               0                  0  ...   \n...    ...       ...              ...             ...                ...  ...   \n2795     0         0                0               0                  0  ...   \n2796     0         0                0               0                  0  ...   \n2797     0         0                0               0                  0  ...   \n2798     0         0                0               0                  0  ...   \n2799     0         0                0               0                  0  ...   \n\n      T3 Measured   T3  TT4 Measured    TT4  T4U Measured   T4U  FTI Measured  \\\n0               1  2.5             1  125.0             1  1.14             1   \n1               1  2.0             1  102.0             0   NaN             0   \n2               0  NaN             1  109.0             1  0.91             1   \n3               1  1.9             1  175.0             0   NaN             0   \n4               1  1.2             1   61.0             1  0.87             1   \n...           ...  ...           ...    ...           ...   ...           ...   \n2795            0  NaN             1  155.0             1  1.05             1   \n2796            1  0.7             1   63.0             1  0.88             1   \n2797            0  NaN             1  147.0             1  0.80             1   \n2798            0  NaN             1  100.0             1  0.83             1   \n2799            1  1.5             1  114.0             1  0.99             1   \n\n        FTI  Referral Source  Class  \n0     109.0                1      0  \n1       NaN                0      0  \n2     120.0                0      0  \n3       NaN                0      0  \n4      70.0                0      0  \n...     ...              ...    ...  \n2795  148.0                0      0  \n2796   72.0                0      0  \n2797  183.0                0      0  \n2798  121.0                0      0  \n2799  115.0                0      0  \n\n[2690 rows x 28 columns]",
      "text/html": "<div>\n<style scoped>\n    .dataframe tbody tr th:only-of-type {\n        vertical-align: middle;\n    }\n\n    .dataframe tbody tr th {\n        vertical-align: top;\n    }\n\n    .dataframe thead th {\n        text-align: right;\n    }\n</style>\n<table border=\"1\" class=\"dataframe\">\n  <thead>\n    <tr style=\"text-align: right;\">\n      <th></th>\n      <th>Age</th>\n      <th>Sex</th>\n      <th>On Thyroxine</th>\n      <th>Query on Thyroxine</th>\n      <th>On Antithyroid Medication</th>\n      <th>Sick</th>\n      <th>Pregnant</th>\n      <th>Thyroid Surgery</th>\n      <th>I131 Treatment</th>\n      <th>Query Hypothyroid</th>\n      <th>...</th>\n      <th>T3 Measured</th>\n      <th>T3</th>\n      <th>TT4 Measured</th>\n      <th>TT4</th>\n      <th>T4U Measured</th>\n      <th>T4U</th>\n      <th>FTI Measured</th>\n      <th>FTI</th>\n      <th>Referral Source</th>\n      <th>Class</th>\n    </tr>\n  </thead>\n  <tbody>\n    <tr>\n      <th>0</th>\n      <td>41.0</td>\n      <td>0</td>\n      <td>0</td>\n      <td>0</td>\n      <td>0</td>\n      <td>0</td>\n      <td>0</td>\n      <td>0</td>\n      <td>0</td>\n      <td>0</td>\n      <td>...</td>\n      <td>1</td>\n      <td>2.5</td>\n      <td>1</td>\n      <td>125.0</td>\n      <td>1</td>\n      <td>1.14</td>\n      <td>1</td>\n      <td>109.0</td>\n      <td>1</td>\n      <td>0</td>\n    </tr>\n    <tr>\n      <th>1</th>\n      <td>23.0</td>\n      <td>0</td>\n      <td>0</td>\n      <td>0</td>\n      <td>0</td>\n      <td>0</td>\n      <td>0</td>\n      <td>0</td>\n      <td>0</td>\n      <td>0</td>\n      <td>...</td>\n      <td>1</td>\n      <td>2.0</td>\n      <td>1</td>\n      <td>102.0</td>\n      <td>0</td>\n      <td>NaN</td>\n      <td>0</td>\n      <td>NaN</td>\n      <td>0</td>\n      <td>0</td>\n    </tr>\n    <tr>\n      <th>2</th>\n      <td>46.0</td>\n      <td>1</td>\n      <td>0</td>\n      <td>0</td>\n      <td>0</td>\n      <td>0</td>\n      <td>0</td>\n      <td>0</td>\n      <td>0</td>\n      <td>0</td>\n      <td>...</td>\n      <td>0</td>\n      <td>NaN</td>\n      <td>1</td>\n      <td>109.0</td>\n      <td>1</td>\n      <td>0.91</td>\n      <td>1</td>\n      <td>120.0</td>\n      <td>0</td>\n      <td>0</td>\n    </tr>\n    <tr>\n      <th>3</th>\n      <td>70.0</td>\n      <td>0</td>\n      <td>1</td>\n      <td>0</td>\n      <td>0</td>\n      <td>0</td>\n      <td>0</td>\n      <td>0</td>\n      <td>0</td>\n      <td>0</td>\n      <td>...</td>\n      <td>1</td>\n      <td>1.9</td>\n      <td>1</td>\n      <td>175.0</td>\n      <td>0</td>\n      <td>NaN</td>\n      <td>0</td>\n      <td>NaN</td>\n      <td>0</td>\n      <td>0</td>\n    </tr>\n    <tr>\n      <th>4</th>\n      <td>70.0</td>\n      <td>0</td>\n      <td>0</td>\n      <td>0</td>\n      <td>0</td>\n      <td>0</td>\n      <td>0</td>\n      <td>0</td>\n      <td>0</td>\n      <td>0</td>\n      <td>...</td>\n      <td>1</td>\n      <td>1.2</td>\n      <td>1</td>\n      <td>61.0</td>\n      <td>1</td>\n      <td>0.87</td>\n      <td>1</td>\n      <td>70.0</td>\n      <td>0</td>\n      <td>0</td>\n    </tr>\n    <tr>\n      <th>...</th>\n      <td>...</td>\n      <td>...</td>\n      <td>...</td>\n      <td>...</td>\n      <td>...</td>\n      <td>...</td>\n      <td>...</td>\n      <td>...</td>\n      <td>...</td>\n      <td>...</td>\n      <td>...</td>\n      <td>...</td>\n      <td>...</td>\n      <td>...</td>\n      <td>...</td>\n      <td>...</td>\n      <td>...</td>\n      <td>...</td>\n      <td>...</td>\n      <td>...</td>\n      <td>...</td>\n    </tr>\n    <tr>\n      <th>2795</th>\n      <td>70.0</td>\n      <td>1</td>\n      <td>0</td>\n      <td>0</td>\n      <td>0</td>\n      <td>0</td>\n      <td>0</td>\n      <td>0</td>\n      <td>0</td>\n      <td>0</td>\n      <td>...</td>\n      <td>0</td>\n      <td>NaN</td>\n      <td>1</td>\n      <td>155.0</td>\n      <td>1</td>\n      <td>1.05</td>\n      <td>1</td>\n      <td>148.0</td>\n      <td>0</td>\n      <td>0</td>\n    </tr>\n    <tr>\n      <th>2796</th>\n      <td>73.0</td>\n      <td>1</td>\n      <td>0</td>\n      <td>1</td>\n      <td>0</td>\n      <td>0</td>\n      <td>0</td>\n      <td>0</td>\n      <td>0</td>\n      <td>0</td>\n      <td>...</td>\n      <td>1</td>\n      <td>0.7</td>\n      <td>1</td>\n      <td>63.0</td>\n      <td>1</td>\n      <td>0.88</td>\n      <td>1</td>\n      <td>72.0</td>\n      <td>0</td>\n      <td>0</td>\n    </tr>\n    <tr>\n      <th>2797</th>\n      <td>75.0</td>\n      <td>1</td>\n      <td>0</td>\n      <td>0</td>\n      <td>0</td>\n      <td>0</td>\n      <td>0</td>\n      <td>0</td>\n      <td>0</td>\n      <td>0</td>\n      <td>...</td>\n      <td>0</td>\n      <td>NaN</td>\n      <td>1</td>\n      <td>147.0</td>\n      <td>1</td>\n      <td>0.80</td>\n      <td>1</td>\n      <td>183.0</td>\n      <td>0</td>\n      <td>0</td>\n    </tr>\n    <tr>\n      <th>2798</th>\n      <td>60.0</td>\n      <td>0</td>\n      <td>0</td>\n      <td>0</td>\n      <td>0</td>\n      <td>0</td>\n      <td>0</td>\n      <td>0</td>\n      <td>0</td>\n      <td>0</td>\n      <td>...</td>\n      <td>0</td>\n      <td>NaN</td>\n      <td>1</td>\n      <td>100.0</td>\n      <td>1</td>\n      <td>0.83</td>\n      <td>1</td>\n      <td>121.0</td>\n      <td>0</td>\n      <td>0</td>\n    </tr>\n    <tr>\n      <th>2799</th>\n      <td>81.0</td>\n      <td>0</td>\n      <td>0</td>\n      <td>0</td>\n      <td>0</td>\n      <td>0</td>\n      <td>0</td>\n      <td>0</td>\n      <td>0</td>\n      <td>0</td>\n      <td>...</td>\n      <td>1</td>\n      <td>1.5</td>\n      <td>1</td>\n      <td>114.0</td>\n      <td>1</td>\n      <td>0.99</td>\n      <td>1</td>\n      <td>115.0</td>\n      <td>0</td>\n      <td>0</td>\n    </tr>\n  </tbody>\n</table>\n<p>2690 rows × 28 columns</p>\n</div>"
     },
     "metadata": {}
    }
   ]
  },
  {
   "cell_type": "code",
   "metadata": {
    "tags": [],
    "deepnote_to_be_reexecuted": false,
    "source_hash": "24fb8a48",
    "execution_start": 1657913805850,
    "execution_millis": 123,
    "cell_id": "00049-38f6a10e-c9db-4f23-aca1-01992701807f",
    "deepnote_cell_type": "code",
    "deepnote_cell_height": 654
   },
   "source": "for i in dataset.columns:\n    median = dataset[i].dropna().median()\n    dataset[i].fillna(median, inplace=True)\ndataset",
   "execution_count": 23,
   "outputs": [
    {
     "output_type": "execute_result",
     "execution_count": 23,
     "data": {
      "application/vnd.deepnote.dataframe.v3+json": {
       "column_count": 28,
       "row_count": 2690,
       "columns": [
        {
         "name": "Age",
         "dtype": "float64",
         "stats": {
          "unique_count": 93,
          "nan_count": 0,
          "min": "1.0",
          "max": "455.0",
          "histogram": [
           {
            "bin_start": 1,
            "bin_end": 46.4,
            "count": 1049
           },
           {
            "bin_start": 46.4,
            "bin_end": 91.8,
            "count": 1636
           },
           {
            "bin_start": 91.8,
            "bin_end": 137.2,
            "count": 4
           },
           {
            "bin_start": 137.2,
            "bin_end": 182.6,
            "count": 0
           },
           {
            "bin_start": 182.6,
            "bin_end": 228,
            "count": 0
           },
           {
            "bin_start": 228,
            "bin_end": 273.4,
            "count": 0
           },
           {
            "bin_start": 273.4,
            "bin_end": 318.8,
            "count": 0
           },
           {
            "bin_start": 318.8,
            "bin_end": 364.2,
            "count": 0
           },
           {
            "bin_start": 364.2,
            "bin_end": 409.59999999999997,
            "count": 0
           },
           {
            "bin_start": 409.59999999999997,
            "bin_end": 455,
            "count": 1
           }
          ]
         }
        },
        {
         "name": "Sex",
         "dtype": "uint8",
         "stats": {
          "unique_count": 2,
          "nan_count": 0,
          "min": "0",
          "max": "1",
          "histogram": [
           {
            "bin_start": 0,
            "bin_end": 0.1,
            "count": 1830
           },
           {
            "bin_start": 0.1,
            "bin_end": 0.2,
            "count": 0
           },
           {
            "bin_start": 0.2,
            "bin_end": 0.30000000000000004,
            "count": 0
           },
           {
            "bin_start": 0.30000000000000004,
            "bin_end": 0.4,
            "count": 0
           },
           {
            "bin_start": 0.4,
            "bin_end": 0.5,
            "count": 0
           },
           {
            "bin_start": 0.5,
            "bin_end": 0.6000000000000001,
            "count": 0
           },
           {
            "bin_start": 0.6000000000000001,
            "bin_end": 0.7000000000000001,
            "count": 0
           },
           {
            "bin_start": 0.7000000000000001,
            "bin_end": 0.8,
            "count": 0
           },
           {
            "bin_start": 0.8,
            "bin_end": 0.9,
            "count": 0
           },
           {
            "bin_start": 0.9,
            "bin_end": 1,
            "count": 860
           }
          ]
         }
        },
        {
         "name": "On Thyroxine",
         "dtype": "uint8",
         "stats": {
          "unique_count": 2,
          "nan_count": 0,
          "min": "0",
          "max": "1",
          "histogram": [
           {
            "bin_start": 0,
            "bin_end": 0.1,
            "count": 2368
           },
           {
            "bin_start": 0.1,
            "bin_end": 0.2,
            "count": 0
           },
           {
            "bin_start": 0.2,
            "bin_end": 0.30000000000000004,
            "count": 0
           },
           {
            "bin_start": 0.30000000000000004,
            "bin_end": 0.4,
            "count": 0
           },
           {
            "bin_start": 0.4,
            "bin_end": 0.5,
            "count": 0
           },
           {
            "bin_start": 0.5,
            "bin_end": 0.6000000000000001,
            "count": 0
           },
           {
            "bin_start": 0.6000000000000001,
            "bin_end": 0.7000000000000001,
            "count": 0
           },
           {
            "bin_start": 0.7000000000000001,
            "bin_end": 0.8,
            "count": 0
           },
           {
            "bin_start": 0.8,
            "bin_end": 0.9,
            "count": 0
           },
           {
            "bin_start": 0.9,
            "bin_end": 1,
            "count": 322
           }
          ]
         }
        },
        {
         "name": "Query on Thyroxine",
         "dtype": "uint8",
         "stats": {
          "unique_count": 2,
          "nan_count": 0,
          "min": "0",
          "max": "1",
          "histogram": [
           {
            "bin_start": 0,
            "bin_end": 0.1,
            "count": 2650
           },
           {
            "bin_start": 0.1,
            "bin_end": 0.2,
            "count": 0
           },
           {
            "bin_start": 0.2,
            "bin_end": 0.30000000000000004,
            "count": 0
           },
           {
            "bin_start": 0.30000000000000004,
            "bin_end": 0.4,
            "count": 0
           },
           {
            "bin_start": 0.4,
            "bin_end": 0.5,
            "count": 0
           },
           {
            "bin_start": 0.5,
            "bin_end": 0.6000000000000001,
            "count": 0
           },
           {
            "bin_start": 0.6000000000000001,
            "bin_end": 0.7000000000000001,
            "count": 0
           },
           {
            "bin_start": 0.7000000000000001,
            "bin_end": 0.8,
            "count": 0
           },
           {
            "bin_start": 0.8,
            "bin_end": 0.9,
            "count": 0
           },
           {
            "bin_start": 0.9,
            "bin_end": 1,
            "count": 40
           }
          ]
         }
        },
        {
         "name": "On Antithyroid Medication",
         "dtype": "uint8",
         "stats": {
          "unique_count": 2,
          "nan_count": 0,
          "min": "0",
          "max": "1",
          "histogram": [
           {
            "bin_start": 0,
            "bin_end": 0.1,
            "count": 2656
           },
           {
            "bin_start": 0.1,
            "bin_end": 0.2,
            "count": 0
           },
           {
            "bin_start": 0.2,
            "bin_end": 0.30000000000000004,
            "count": 0
           },
           {
            "bin_start": 0.30000000000000004,
            "bin_end": 0.4,
            "count": 0
           },
           {
            "bin_start": 0.4,
            "bin_end": 0.5,
            "count": 0
           },
           {
            "bin_start": 0.5,
            "bin_end": 0.6000000000000001,
            "count": 0
           },
           {
            "bin_start": 0.6000000000000001,
            "bin_end": 0.7000000000000001,
            "count": 0
           },
           {
            "bin_start": 0.7000000000000001,
            "bin_end": 0.8,
            "count": 0
           },
           {
            "bin_start": 0.8,
            "bin_end": 0.9,
            "count": 0
           },
           {
            "bin_start": 0.9,
            "bin_end": 1,
            "count": 34
           }
          ]
         }
        },
        {
         "name": "Sick",
         "dtype": "uint8",
         "stats": {
          "unique_count": 2,
          "nan_count": 0,
          "min": "0",
          "max": "1",
          "histogram": [
           {
            "bin_start": 0,
            "bin_end": 0.1,
            "count": 2582
           },
           {
            "bin_start": 0.1,
            "bin_end": 0.2,
            "count": 0
           },
           {
            "bin_start": 0.2,
            "bin_end": 0.30000000000000004,
            "count": 0
           },
           {
            "bin_start": 0.30000000000000004,
            "bin_end": 0.4,
            "count": 0
           },
           {
            "bin_start": 0.4,
            "bin_end": 0.5,
            "count": 0
           },
           {
            "bin_start": 0.5,
            "bin_end": 0.6000000000000001,
            "count": 0
           },
           {
            "bin_start": 0.6000000000000001,
            "bin_end": 0.7000000000000001,
            "count": 0
           },
           {
            "bin_start": 0.7000000000000001,
            "bin_end": 0.8,
            "count": 0
           },
           {
            "bin_start": 0.8,
            "bin_end": 0.9,
            "count": 0
           },
           {
            "bin_start": 0.9,
            "bin_end": 1,
            "count": 108
           }
          ]
         }
        },
        {
         "name": "Pregnant",
         "dtype": "uint8",
         "stats": {
          "unique_count": 2,
          "nan_count": 0,
          "min": "0",
          "max": "1",
          "histogram": [
           {
            "bin_start": 0,
            "bin_end": 0.1,
            "count": 2650
           },
           {
            "bin_start": 0.1,
            "bin_end": 0.2,
            "count": 0
           },
           {
            "bin_start": 0.2,
            "bin_end": 0.30000000000000004,
            "count": 0
           },
           {
            "bin_start": 0.30000000000000004,
            "bin_end": 0.4,
            "count": 0
           },
           {
            "bin_start": 0.4,
            "bin_end": 0.5,
            "count": 0
           },
           {
            "bin_start": 0.5,
            "bin_end": 0.6000000000000001,
            "count": 0
           },
           {
            "bin_start": 0.6000000000000001,
            "bin_end": 0.7000000000000001,
            "count": 0
           },
           {
            "bin_start": 0.7000000000000001,
            "bin_end": 0.8,
            "count": 0
           },
           {
            "bin_start": 0.8,
            "bin_end": 0.9,
            "count": 0
           },
           {
            "bin_start": 0.9,
            "bin_end": 1,
            "count": 40
           }
          ]
         }
        },
        {
         "name": "Thyroid Surgery",
         "dtype": "uint8",
         "stats": {
          "unique_count": 2,
          "nan_count": 0,
          "min": "0",
          "max": "1",
          "histogram": [
           {
            "bin_start": 0,
            "bin_end": 0.1,
            "count": 2651
           },
           {
            "bin_start": 0.1,
            "bin_end": 0.2,
            "count": 0
           },
           {
            "bin_start": 0.2,
            "bin_end": 0.30000000000000004,
            "count": 0
           },
           {
            "bin_start": 0.30000000000000004,
            "bin_end": 0.4,
            "count": 0
           },
           {
            "bin_start": 0.4,
            "bin_end": 0.5,
            "count": 0
           },
           {
            "bin_start": 0.5,
            "bin_end": 0.6000000000000001,
            "count": 0
           },
           {
            "bin_start": 0.6000000000000001,
            "bin_end": 0.7000000000000001,
            "count": 0
           },
           {
            "bin_start": 0.7000000000000001,
            "bin_end": 0.8,
            "count": 0
           },
           {
            "bin_start": 0.8,
            "bin_end": 0.9,
            "count": 0
           },
           {
            "bin_start": 0.9,
            "bin_end": 1,
            "count": 39
           }
          ]
         }
        },
        {
         "name": "I131 Treatment",
         "dtype": "uint8",
         "stats": {
          "unique_count": 2,
          "nan_count": 0,
          "min": "0",
          "max": "1",
          "histogram": [
           {
            "bin_start": 0,
            "bin_end": 0.1,
            "count": 2645
           },
           {
            "bin_start": 0.1,
            "bin_end": 0.2,
            "count": 0
           },
           {
            "bin_start": 0.2,
            "bin_end": 0.30000000000000004,
            "count": 0
           },
           {
            "bin_start": 0.30000000000000004,
            "bin_end": 0.4,
            "count": 0
           },
           {
            "bin_start": 0.4,
            "bin_end": 0.5,
            "count": 0
           },
           {
            "bin_start": 0.5,
            "bin_end": 0.6000000000000001,
            "count": 0
           },
           {
            "bin_start": 0.6000000000000001,
            "bin_end": 0.7000000000000001,
            "count": 0
           },
           {
            "bin_start": 0.7000000000000001,
            "bin_end": 0.8,
            "count": 0
           },
           {
            "bin_start": 0.8,
            "bin_end": 0.9,
            "count": 0
           },
           {
            "bin_start": 0.9,
            "bin_end": 1,
            "count": 45
           }
          ]
         }
        },
        {
         "name": "Query Hypothyroid",
         "dtype": "uint8",
         "stats": {
          "unique_count": 2,
          "nan_count": 0,
          "min": "0",
          "max": "1",
          "histogram": [
           {
            "bin_start": 0,
            "bin_end": 0.1,
            "count": 2530
           },
           {
            "bin_start": 0.1,
            "bin_end": 0.2,
            "count": 0
           },
           {
            "bin_start": 0.2,
            "bin_end": 0.30000000000000004,
            "count": 0
           },
           {
            "bin_start": 0.30000000000000004,
            "bin_end": 0.4,
            "count": 0
           },
           {
            "bin_start": 0.4,
            "bin_end": 0.5,
            "count": 0
           },
           {
            "bin_start": 0.5,
            "bin_end": 0.6000000000000001,
            "count": 0
           },
           {
            "bin_start": 0.6000000000000001,
            "bin_end": 0.7000000000000001,
            "count": 0
           },
           {
            "bin_start": 0.7000000000000001,
            "bin_end": 0.8,
            "count": 0
           },
           {
            "bin_start": 0.8,
            "bin_end": 0.9,
            "count": 0
           },
           {
            "bin_start": 0.9,
            "bin_end": 1,
            "count": 160
           }
          ]
         }
        },
        {
         "name": "Query Hyperthyroid",
         "dtype": "uint8",
         "stats": {
          "unique_count": 2,
          "nan_count": 0,
          "min": "0",
          "max": "1",
          "histogram": [
           {
            "bin_start": 0,
            "bin_end": 0.1,
            "count": 2522
           },
           {
            "bin_start": 0.1,
            "bin_end": 0.2,
            "count": 0
           },
           {
            "bin_start": 0.2,
            "bin_end": 0.30000000000000004,
            "count": 0
           },
           {
            "bin_start": 0.30000000000000004,
            "bin_end": 0.4,
            "count": 0
           },
           {
            "bin_start": 0.4,
            "bin_end": 0.5,
            "count": 0
           },
           {
            "bin_start": 0.5,
            "bin_end": 0.6000000000000001,
            "count": 0
           },
           {
            "bin_start": 0.6000000000000001,
            "bin_end": 0.7000000000000001,
            "count": 0
           },
           {
            "bin_start": 0.7000000000000001,
            "bin_end": 0.8,
            "count": 0
           },
           {
            "bin_start": 0.8,
            "bin_end": 0.9,
            "count": 0
           },
           {
            "bin_start": 0.9,
            "bin_end": 1,
            "count": 168
           }
          ]
         }
        },
        {
         "name": "Lithium",
         "dtype": "uint8",
         "stats": {
          "unique_count": 2,
          "nan_count": 0,
          "min": "0",
          "max": "1",
          "histogram": [
           {
            "bin_start": 0,
            "bin_end": 0.1,
            "count": 2676
           },
           {
            "bin_start": 0.1,
            "bin_end": 0.2,
            "count": 0
           },
           {
            "bin_start": 0.2,
            "bin_end": 0.30000000000000004,
            "count": 0
           },
           {
            "bin_start": 0.30000000000000004,
            "bin_end": 0.4,
            "count": 0
           },
           {
            "bin_start": 0.4,
            "bin_end": 0.5,
            "count": 0
           },
           {
            "bin_start": 0.5,
            "bin_end": 0.6000000000000001,
            "count": 0
           },
           {
            "bin_start": 0.6000000000000001,
            "bin_end": 0.7000000000000001,
            "count": 0
           },
           {
            "bin_start": 0.7000000000000001,
            "bin_end": 0.8,
            "count": 0
           },
           {
            "bin_start": 0.8,
            "bin_end": 0.9,
            "count": 0
           },
           {
            "bin_start": 0.9,
            "bin_end": 1,
            "count": 14
           }
          ]
         }
        },
        {
         "name": "Goiter",
         "dtype": "uint8",
         "stats": {
          "unique_count": 2,
          "nan_count": 0,
          "min": "0",
          "max": "1",
          "histogram": [
           {
            "bin_start": 0,
            "bin_end": 0.1,
            "count": 2665
           },
           {
            "bin_start": 0.1,
            "bin_end": 0.2,
            "count": 0
           },
           {
            "bin_start": 0.2,
            "bin_end": 0.30000000000000004,
            "count": 0
           },
           {
            "bin_start": 0.30000000000000004,
            "bin_end": 0.4,
            "count": 0
           },
           {
            "bin_start": 0.4,
            "bin_end": 0.5,
            "count": 0
           },
           {
            "bin_start": 0.5,
            "bin_end": 0.6000000000000001,
            "count": 0
           },
           {
            "bin_start": 0.6000000000000001,
            "bin_end": 0.7000000000000001,
            "count": 0
           },
           {
            "bin_start": 0.7000000000000001,
            "bin_end": 0.8,
            "count": 0
           },
           {
            "bin_start": 0.8,
            "bin_end": 0.9,
            "count": 0
           },
           {
            "bin_start": 0.9,
            "bin_end": 1,
            "count": 25
           }
          ]
         }
        },
        {
         "name": "Tumor",
         "dtype": "uint8",
         "stats": {
          "unique_count": 2,
          "nan_count": 0,
          "min": "0",
          "max": "1",
          "histogram": [
           {
            "bin_start": 0,
            "bin_end": 0.1,
            "count": 2620
           },
           {
            "bin_start": 0.1,
            "bin_end": 0.2,
            "count": 0
           },
           {
            "bin_start": 0.2,
            "bin_end": 0.30000000000000004,
            "count": 0
           },
           {
            "bin_start": 0.30000000000000004,
            "bin_end": 0.4,
            "count": 0
           },
           {
            "bin_start": 0.4,
            "bin_end": 0.5,
            "count": 0
           },
           {
            "bin_start": 0.5,
            "bin_end": 0.6000000000000001,
            "count": 0
           },
           {
            "bin_start": 0.6000000000000001,
            "bin_end": 0.7000000000000001,
            "count": 0
           },
           {
            "bin_start": 0.7000000000000001,
            "bin_end": 0.8,
            "count": 0
           },
           {
            "bin_start": 0.8,
            "bin_end": 0.9,
            "count": 0
           },
           {
            "bin_start": 0.9,
            "bin_end": 1,
            "count": 70
           }
          ]
         }
        },
        {
         "name": "Hypopituitary",
         "dtype": "uint8",
         "stats": {
          "unique_count": 2,
          "nan_count": 0,
          "min": "0",
          "max": "1",
          "histogram": [
           {
            "bin_start": 0,
            "bin_end": 0.1,
            "count": 2689
           },
           {
            "bin_start": 0.1,
            "bin_end": 0.2,
            "count": 0
           },
           {
            "bin_start": 0.2,
            "bin_end": 0.30000000000000004,
            "count": 0
           },
           {
            "bin_start": 0.30000000000000004,
            "bin_end": 0.4,
            "count": 0
           },
           {
            "bin_start": 0.4,
            "bin_end": 0.5,
            "count": 0
           },
           {
            "bin_start": 0.5,
            "bin_end": 0.6000000000000001,
            "count": 0
           },
           {
            "bin_start": 0.6000000000000001,
            "bin_end": 0.7000000000000001,
            "count": 0
           },
           {
            "bin_start": 0.7000000000000001,
            "bin_end": 0.8,
            "count": 0
           },
           {
            "bin_start": 0.8,
            "bin_end": 0.9,
            "count": 0
           },
           {
            "bin_start": 0.9,
            "bin_end": 1,
            "count": 1
           }
          ]
         }
        },
        {
         "name": "Psych",
         "dtype": "uint8",
         "stats": {
          "unique_count": 2,
          "nan_count": 0,
          "min": "0",
          "max": "1",
          "histogram": [
           {
            "bin_start": 0,
            "bin_end": 0.1,
            "count": 2556
           },
           {
            "bin_start": 0.1,
            "bin_end": 0.2,
            "count": 0
           },
           {
            "bin_start": 0.2,
            "bin_end": 0.30000000000000004,
            "count": 0
           },
           {
            "bin_start": 0.30000000000000004,
            "bin_end": 0.4,
            "count": 0
           },
           {
            "bin_start": 0.4,
            "bin_end": 0.5,
            "count": 0
           },
           {
            "bin_start": 0.5,
            "bin_end": 0.6000000000000001,
            "count": 0
           },
           {
            "bin_start": 0.6000000000000001,
            "bin_end": 0.7000000000000001,
            "count": 0
           },
           {
            "bin_start": 0.7000000000000001,
            "bin_end": 0.8,
            "count": 0
           },
           {
            "bin_start": 0.8,
            "bin_end": 0.9,
            "count": 0
           },
           {
            "bin_start": 0.9,
            "bin_end": 1,
            "count": 134
           }
          ]
         }
        },
        {
         "name": "TSH Measured",
         "dtype": "uint8",
         "stats": {
          "unique_count": 2,
          "nan_count": 0,
          "min": "0",
          "max": "1",
          "histogram": [
           {
            "bin_start": 0,
            "bin_end": 0.1,
            "count": 271
           },
           {
            "bin_start": 0.1,
            "bin_end": 0.2,
            "count": 0
           },
           {
            "bin_start": 0.2,
            "bin_end": 0.30000000000000004,
            "count": 0
           },
           {
            "bin_start": 0.30000000000000004,
            "bin_end": 0.4,
            "count": 0
           },
           {
            "bin_start": 0.4,
            "bin_end": 0.5,
            "count": 0
           },
           {
            "bin_start": 0.5,
            "bin_end": 0.6000000000000001,
            "count": 0
           },
           {
            "bin_start": 0.6000000000000001,
            "bin_end": 0.7000000000000001,
            "count": 0
           },
           {
            "bin_start": 0.7000000000000001,
            "bin_end": 0.8,
            "count": 0
           },
           {
            "bin_start": 0.8,
            "bin_end": 0.9,
            "count": 0
           },
           {
            "bin_start": 0.9,
            "bin_end": 1,
            "count": 2419
           }
          ]
         }
        },
        {
         "name": "TSH",
         "dtype": "float64",
         "stats": {
          "unique_count": 261,
          "nan_count": 0,
          "min": "0.005",
          "max": "478.0",
          "histogram": [
           {
            "bin_start": 0.005,
            "bin_end": 47.804500000000004,
            "count": 2653
           },
           {
            "bin_start": 47.804500000000004,
            "bin_end": 95.604,
            "count": 16
           },
           {
            "bin_start": 95.604,
            "bin_end": 143.4035,
            "count": 10
           },
           {
            "bin_start": 143.4035,
            "bin_end": 191.203,
            "count": 8
           },
           {
            "bin_start": 191.203,
            "bin_end": 239.0025,
            "count": 1
           },
           {
            "bin_start": 239.0025,
            "bin_end": 286.802,
            "count": 0
           },
           {
            "bin_start": 286.802,
            "bin_end": 334.6015,
            "count": 0
           },
           {
            "bin_start": 334.6015,
            "bin_end": 382.401,
            "count": 0
           },
           {
            "bin_start": 382.401,
            "bin_end": 430.20050000000003,
            "count": 0
           },
           {
            "bin_start": 430.20050000000003,
            "bin_end": 478,
            "count": 2
           }
          ]
         }
        },
        {
         "name": "T3 Measured",
         "dtype": "uint8",
         "stats": {
          "unique_count": 2,
          "nan_count": 0,
          "min": "0",
          "max": "1",
          "histogram": [
           {
            "bin_start": 0,
            "bin_end": 0.1,
            "count": 570
           },
           {
            "bin_start": 0.1,
            "bin_end": 0.2,
            "count": 0
           },
           {
            "bin_start": 0.2,
            "bin_end": 0.30000000000000004,
            "count": 0
           },
           {
            "bin_start": 0.30000000000000004,
            "bin_end": 0.4,
            "count": 0
           },
           {
            "bin_start": 0.4,
            "bin_end": 0.5,
            "count": 0
           },
           {
            "bin_start": 0.5,
            "bin_end": 0.6000000000000001,
            "count": 0
           },
           {
            "bin_start": 0.6000000000000001,
            "bin_end": 0.7000000000000001,
            "count": 0
           },
           {
            "bin_start": 0.7000000000000001,
            "bin_end": 0.8,
            "count": 0
           },
           {
            "bin_start": 0.8,
            "bin_end": 0.9,
            "count": 0
           },
           {
            "bin_start": 0.9,
            "bin_end": 1,
            "count": 2120
           }
          ]
         }
        },
        {
         "name": "T3",
         "dtype": "float64",
         "stats": {
          "unique_count": 64,
          "nan_count": 0,
          "min": "0.05",
          "max": "10.6",
          "histogram": [
           {
            "bin_start": 0.05,
            "bin_end": 1.105,
            "count": 212
           },
           {
            "bin_start": 1.105,
            "bin_end": 2.1599999999999997,
            "count": 1657
           },
           {
            "bin_start": 2.1599999999999997,
            "bin_end": 3.215,
            "count": 698
           },
           {
            "bin_start": 3.215,
            "bin_end": 4.27,
            "count": 85
           },
           {
            "bin_start": 4.27,
            "bin_end": 5.324999999999999,
            "count": 25
           },
           {
            "bin_start": 5.324999999999999,
            "bin_end": 6.38,
            "count": 8
           },
           {
            "bin_start": 6.38,
            "bin_end": 7.435,
            "count": 4
           },
           {
            "bin_start": 7.435,
            "bin_end": 8.49,
            "count": 0
           },
           {
            "bin_start": 8.49,
            "bin_end": 9.545,
            "count": 0
           },
           {
            "bin_start": 9.545,
            "bin_end": 10.6,
            "count": 1
           }
          ]
         }
        },
        {
         "name": "TT4 Measured",
         "dtype": "uint8",
         "stats": {
          "unique_count": 2,
          "nan_count": 0,
          "min": "0",
          "max": "1",
          "histogram": [
           {
            "bin_start": 0,
            "bin_end": 0.1,
            "count": 172
           },
           {
            "bin_start": 0.1,
            "bin_end": 0.2,
            "count": 0
           },
           {
            "bin_start": 0.2,
            "bin_end": 0.30000000000000004,
            "count": 0
           },
           {
            "bin_start": 0.30000000000000004,
            "bin_end": 0.4,
            "count": 0
           },
           {
            "bin_start": 0.4,
            "bin_end": 0.5,
            "count": 0
           },
           {
            "bin_start": 0.5,
            "bin_end": 0.6000000000000001,
            "count": 0
           },
           {
            "bin_start": 0.6000000000000001,
            "bin_end": 0.7000000000000001,
            "count": 0
           },
           {
            "bin_start": 0.7000000000000001,
            "bin_end": 0.8,
            "count": 0
           },
           {
            "bin_start": 0.8,
            "bin_end": 0.9,
            "count": 0
           },
           {
            "bin_start": 0.9,
            "bin_end": 1,
            "count": 2518
           }
          ]
         }
        },
        {
         "name": "TT4",
         "dtype": "float64",
         "stats": {
          "unique_count": 212,
          "nan_count": 0,
          "min": "2.0",
          "max": "430.0",
          "histogram": [
           {
            "bin_start": 2,
            "bin_end": 44.8,
            "count": 50
           },
           {
            "bin_start": 44.8,
            "bin_end": 87.6,
            "count": 569
           },
           {
            "bin_start": 87.6,
            "bin_end": 130.39999999999998,
            "count": 1542
           },
           {
            "bin_start": 130.39999999999998,
            "bin_end": 173.2,
            "count": 410
           },
           {
            "bin_start": 173.2,
            "bin_end": 216,
            "count": 93
           },
           {
            "bin_start": 216,
            "bin_end": 258.79999999999995,
            "count": 20
           },
           {
            "bin_start": 258.79999999999995,
            "bin_end": 301.59999999999997,
            "count": 4
           },
           {
            "bin_start": 301.59999999999997,
            "bin_end": 344.4,
            "count": 0
           },
           {
            "bin_start": 344.4,
            "bin_end": 387.2,
            "count": 0
           },
           {
            "bin_start": 387.2,
            "bin_end": 430,
            "count": 2
           }
          ]
         }
        },
        {
         "name": "T4U Measured",
         "dtype": "uint8",
         "stats": {
          "unique_count": 2,
          "nan_count": 0,
          "min": "0",
          "max": "1",
          "histogram": [
           {
            "bin_start": 0,
            "bin_end": 0.1,
            "count": 280
           },
           {
            "bin_start": 0.1,
            "bin_end": 0.2,
            "count": 0
           },
           {
            "bin_start": 0.2,
            "bin_end": 0.30000000000000004,
            "count": 0
           },
           {
            "bin_start": 0.30000000000000004,
            "bin_end": 0.4,
            "count": 0
           },
           {
            "bin_start": 0.4,
            "bin_end": 0.5,
            "count": 0
           },
           {
            "bin_start": 0.5,
            "bin_end": 0.6000000000000001,
            "count": 0
           },
           {
            "bin_start": 0.6000000000000001,
            "bin_end": 0.7000000000000001,
            "count": 0
           },
           {
            "bin_start": 0.7000000000000001,
            "bin_end": 0.8,
            "count": 0
           },
           {
            "bin_start": 0.8,
            "bin_end": 0.9,
            "count": 0
           },
           {
            "bin_start": 0.9,
            "bin_end": 1,
            "count": 2410
           }
          ]
         }
        },
        {
         "name": "T4U",
         "dtype": "float64",
         "stats": {
          "unique_count": 137,
          "nan_count": 0,
          "min": "0.31",
          "max": "2.12",
          "histogram": [
           {
            "bin_start": 0.31,
            "bin_end": 0.491,
            "count": 4
           },
           {
            "bin_start": 0.491,
            "bin_end": 0.6719999999999999,
            "count": 47
           },
           {
            "bin_start": 0.6719999999999999,
            "bin_end": 0.853,
            "count": 433
           },
           {
            "bin_start": 0.853,
            "bin_end": 1.034,
            "count": 1349
           },
           {
            "bin_start": 1.034,
            "bin_end": 1.215,
            "count": 635
           },
           {
            "bin_start": 1.215,
            "bin_end": 1.396,
            "count": 126
           },
           {
            "bin_start": 1.396,
            "bin_end": 1.577,
            "count": 46
           },
           {
            "bin_start": 1.577,
            "bin_end": 1.758,
            "count": 34
           },
           {
            "bin_start": 1.758,
            "bin_end": 1.939,
            "count": 12
           },
           {
            "bin_start": 1.939,
            "bin_end": 2.12,
            "count": 4
           }
          ]
         }
        },
        {
         "name": "FTI Measured",
         "dtype": "uint8",
         "stats": {
          "unique_count": 2,
          "nan_count": 0,
          "min": "0",
          "max": "1",
          "histogram": [
           {
            "bin_start": 0,
            "bin_end": 0.1,
            "count": 278
           },
           {
            "bin_start": 0.1,
            "bin_end": 0.2,
            "count": 0
           },
           {
            "bin_start": 0.2,
            "bin_end": 0.30000000000000004,
            "count": 0
           },
           {
            "bin_start": 0.30000000000000004,
            "bin_end": 0.4,
            "count": 0
           },
           {
            "bin_start": 0.4,
            "bin_end": 0.5,
            "count": 0
           },
           {
            "bin_start": 0.5,
            "bin_end": 0.6000000000000001,
            "count": 0
           },
           {
            "bin_start": 0.6000000000000001,
            "bin_end": 0.7000000000000001,
            "count": 0
           },
           {
            "bin_start": 0.7000000000000001,
            "bin_end": 0.8,
            "count": 0
           },
           {
            "bin_start": 0.8,
            "bin_end": 0.9,
            "count": 0
           },
           {
            "bin_start": 0.9,
            "bin_end": 1,
            "count": 2412
           }
          ]
         }
        },
        {
         "name": "FTI",
         "dtype": "float64",
         "stats": {
          "unique_count": 203,
          "nan_count": 0,
          "min": "2.0",
          "max": "395.0",
          "histogram": [
           {
            "bin_start": 2,
            "bin_end": 41.3,
            "count": 34
           },
           {
            "bin_start": 41.3,
            "bin_end": 80.6,
            "count": 232
           },
           {
            "bin_start": 80.6,
            "bin_end": 119.89999999999999,
            "count": 1688
           },
           {
            "bin_start": 119.89999999999999,
            "bin_end": 159.2,
            "count": 584
           },
           {
            "bin_start": 159.2,
            "bin_end": 198.5,
            "count": 112
           },
           {
            "bin_start": 198.5,
            "bin_end": 237.79999999999998,
            "count": 29
           },
           {
            "bin_start": 237.79999999999998,
            "bin_end": 277.09999999999997,
            "count": 6
           },
           {
            "bin_start": 277.09999999999997,
            "bin_end": 316.4,
            "count": 2
           },
           {
            "bin_start": 316.4,
            "bin_end": 355.7,
            "count": 1
           },
           {
            "bin_start": 355.7,
            "bin_end": 395,
            "count": 2
           }
          ]
         }
        },
        {
         "name": "Referral Source",
         "dtype": "uint8",
         "stats": {
          "unique_count": 2,
          "nan_count": 0,
          "min": "0",
          "max": "1",
          "histogram": [
           {
            "bin_start": 0,
            "bin_end": 0.1,
            "count": 2419
           },
           {
            "bin_start": 0.1,
            "bin_end": 0.2,
            "count": 0
           },
           {
            "bin_start": 0.2,
            "bin_end": 0.30000000000000004,
            "count": 0
           },
           {
            "bin_start": 0.30000000000000004,
            "bin_end": 0.4,
            "count": 0
           },
           {
            "bin_start": 0.4,
            "bin_end": 0.5,
            "count": 0
           },
           {
            "bin_start": 0.5,
            "bin_end": 0.6000000000000001,
            "count": 0
           },
           {
            "bin_start": 0.6000000000000001,
            "bin_end": 0.7000000000000001,
            "count": 0
           },
           {
            "bin_start": 0.7000000000000001,
            "bin_end": 0.8,
            "count": 0
           },
           {
            "bin_start": 0.8,
            "bin_end": 0.9,
            "count": 0
           },
           {
            "bin_start": 0.9,
            "bin_end": 1,
            "count": 271
           }
          ]
         }
        },
        {
         "name": "Class",
         "dtype": "int64",
         "stats": {
          "unique_count": 4,
          "nan_count": 0,
          "min": "0",
          "max": "3",
          "histogram": [
           {
            "bin_start": 0,
            "bin_end": 0.3,
            "count": 2479
           },
           {
            "bin_start": 0.3,
            "bin_end": 0.6,
            "count": 0
           },
           {
            "bin_start": 0.6,
            "bin_end": 0.8999999999999999,
            "count": 0
           },
           {
            "bin_start": 0.8999999999999999,
            "bin_end": 1.2,
            "count": 149
           },
           {
            "bin_start": 1.2,
            "bin_end": 1.5,
            "count": 0
           },
           {
            "bin_start": 1.5,
            "bin_end": 1.7999999999999998,
            "count": 0
           },
           {
            "bin_start": 1.7999999999999998,
            "bin_end": 2.1,
            "count": 60
           },
           {
            "bin_start": 2.1,
            "bin_end": 2.4,
            "count": 0
           },
           {
            "bin_start": 2.4,
            "bin_end": 2.6999999999999997,
            "count": 0
           },
           {
            "bin_start": 2.6999999999999997,
            "bin_end": 3,
            "count": 2
           }
          ]
         }
        },
        {
         "name": "_deepnote_index_column",
         "dtype": "int64"
        }
       ],
       "rows": [
        {
         "Age": 41,
         "Sex": 0,
         "On Thyroxine": 0,
         "Query on Thyroxine": 0,
         "On Antithyroid Medication": 0,
         "Sick": 0,
         "Pregnant": 0,
         "Thyroid Surgery": 0,
         "I131 Treatment": 0,
         "Query Hypothyroid": 0,
         "Query Hyperthyroid": 0,
         "Lithium": 0,
         "Goiter": 0,
         "Tumor": 0,
         "Hypopituitary": 0,
         "Psych": 0,
         "TSH Measured": 1,
         "TSH": 1.3,
         "T3 Measured": 1,
         "T3": 2.5,
         "TT4 Measured": 1,
         "TT4": 125,
         "T4U Measured": 1,
         "T4U": 1.14,
         "FTI Measured": 1,
         "FTI": 109,
         "Referral Source": 1,
         "Class": 0,
         "_deepnote_index_column": 0
        },
        {
         "Age": 23,
         "Sex": 0,
         "On Thyroxine": 0,
         "Query on Thyroxine": 0,
         "On Antithyroid Medication": 0,
         "Sick": 0,
         "Pregnant": 0,
         "Thyroid Surgery": 0,
         "I131 Treatment": 0,
         "Query Hypothyroid": 0,
         "Query Hyperthyroid": 0,
         "Lithium": 0,
         "Goiter": 0,
         "Tumor": 0,
         "Hypopituitary": 0,
         "Psych": 0,
         "TSH Measured": 1,
         "TSH": 4.1,
         "T3 Measured": 1,
         "T3": 2,
         "TT4 Measured": 1,
         "TT4": 102,
         "T4U Measured": 0,
         "T4U": 0.98,
         "FTI Measured": 0,
         "FTI": 107,
         "Referral Source": 0,
         "Class": 0,
         "_deepnote_index_column": 1
        },
        {
         "Age": 46,
         "Sex": 1,
         "On Thyroxine": 0,
         "Query on Thyroxine": 0,
         "On Antithyroid Medication": 0,
         "Sick": 0,
         "Pregnant": 0,
         "Thyroid Surgery": 0,
         "I131 Treatment": 0,
         "Query Hypothyroid": 0,
         "Query Hyperthyroid": 0,
         "Lithium": 0,
         "Goiter": 0,
         "Tumor": 0,
         "Hypopituitary": 0,
         "Psych": 0,
         "TSH Measured": 1,
         "TSH": 0.98,
         "T3 Measured": 0,
         "T3": 2,
         "TT4 Measured": 1,
         "TT4": 109,
         "T4U Measured": 1,
         "T4U": 0.91,
         "FTI Measured": 1,
         "FTI": 120,
         "Referral Source": 0,
         "Class": 0,
         "_deepnote_index_column": 2
        },
        {
         "Age": 70,
         "Sex": 0,
         "On Thyroxine": 1,
         "Query on Thyroxine": 0,
         "On Antithyroid Medication": 0,
         "Sick": 0,
         "Pregnant": 0,
         "Thyroid Surgery": 0,
         "I131 Treatment": 0,
         "Query Hypothyroid": 0,
         "Query Hyperthyroid": 0,
         "Lithium": 0,
         "Goiter": 0,
         "Tumor": 0,
         "Hypopituitary": 0,
         "Psych": 0,
         "TSH Measured": 1,
         "TSH": 0.16,
         "T3 Measured": 1,
         "T3": 1.9,
         "TT4 Measured": 1,
         "TT4": 175,
         "T4U Measured": 0,
         "T4U": 0.98,
         "FTI Measured": 0,
         "FTI": 107,
         "Referral Source": 0,
         "Class": 0,
         "_deepnote_index_column": 3
        },
        {
         "Age": 70,
         "Sex": 0,
         "On Thyroxine": 0,
         "Query on Thyroxine": 0,
         "On Antithyroid Medication": 0,
         "Sick": 0,
         "Pregnant": 0,
         "Thyroid Surgery": 0,
         "I131 Treatment": 0,
         "Query Hypothyroid": 0,
         "Query Hyperthyroid": 0,
         "Lithium": 0,
         "Goiter": 0,
         "Tumor": 0,
         "Hypopituitary": 0,
         "Psych": 0,
         "TSH Measured": 1,
         "TSH": 0.72,
         "T3 Measured": 1,
         "T3": 1.2,
         "TT4 Measured": 1,
         "TT4": 61,
         "T4U Measured": 1,
         "T4U": 0.87,
         "FTI Measured": 1,
         "FTI": 70,
         "Referral Source": 0,
         "Class": 0,
         "_deepnote_index_column": 4
        },
        {
         "Age": 18,
         "Sex": 0,
         "On Thyroxine": 1,
         "Query on Thyroxine": 0,
         "On Antithyroid Medication": 0,
         "Sick": 0,
         "Pregnant": 0,
         "Thyroid Surgery": 0,
         "I131 Treatment": 0,
         "Query Hypothyroid": 0,
         "Query Hyperthyroid": 0,
         "Lithium": 0,
         "Goiter": 0,
         "Tumor": 0,
         "Hypopituitary": 0,
         "Psych": 0,
         "TSH Measured": 1,
         "TSH": 0.03,
         "T3 Measured": 0,
         "T3": 2,
         "TT4 Measured": 1,
         "TT4": 183,
         "T4U Measured": 1,
         "T4U": 1.3,
         "FTI Measured": 1,
         "FTI": 141,
         "Referral Source": 0,
         "Class": 0,
         "_deepnote_index_column": 5
        },
        {
         "Age": 59,
         "Sex": 0,
         "On Thyroxine": 0,
         "Query on Thyroxine": 0,
         "On Antithyroid Medication": 0,
         "Sick": 0,
         "Pregnant": 0,
         "Thyroid Surgery": 0,
         "I131 Treatment": 0,
         "Query Hypothyroid": 0,
         "Query Hyperthyroid": 0,
         "Lithium": 0,
         "Goiter": 0,
         "Tumor": 0,
         "Hypopituitary": 0,
         "Psych": 0,
         "TSH Measured": 0,
         "TSH": 1.4,
         "T3 Measured": 0,
         "T3": 2,
         "TT4 Measured": 1,
         "TT4": 72,
         "T4U Measured": 1,
         "T4U": 0.92,
         "FTI Measured": 1,
         "FTI": 78,
         "Referral Source": 0,
         "Class": 0,
         "_deepnote_index_column": 6
        },
        {
         "Age": 80,
         "Sex": 0,
         "On Thyroxine": 0,
         "Query on Thyroxine": 0,
         "On Antithyroid Medication": 0,
         "Sick": 0,
         "Pregnant": 0,
         "Thyroid Surgery": 0,
         "I131 Treatment": 0,
         "Query Hypothyroid": 0,
         "Query Hyperthyroid": 0,
         "Lithium": 0,
         "Goiter": 0,
         "Tumor": 0,
         "Hypopituitary": 0,
         "Psych": 0,
         "TSH Measured": 1,
         "TSH": 2.2,
         "T3 Measured": 1,
         "T3": 0.6,
         "TT4 Measured": 1,
         "TT4": 80,
         "T4U Measured": 1,
         "T4U": 0.7,
         "FTI Measured": 1,
         "FTI": 115,
         "Referral Source": 0,
         "Class": 0,
         "_deepnote_index_column": 7
        },
        {
         "Age": 66,
         "Sex": 0,
         "On Thyroxine": 0,
         "Query on Thyroxine": 0,
         "On Antithyroid Medication": 0,
         "Sick": 0,
         "Pregnant": 0,
         "Thyroid Surgery": 0,
         "I131 Treatment": 0,
         "Query Hypothyroid": 0,
         "Query Hyperthyroid": 0,
         "Lithium": 0,
         "Goiter": 0,
         "Tumor": 1,
         "Hypopituitary": 0,
         "Psych": 0,
         "TSH Measured": 1,
         "TSH": 0.6,
         "T3 Measured": 1,
         "T3": 2.2,
         "TT4 Measured": 1,
         "TT4": 123,
         "T4U Measured": 1,
         "T4U": 0.93,
         "FTI Measured": 1,
         "FTI": 132,
         "Referral Source": 0,
         "Class": 0,
         "_deepnote_index_column": 8
        },
        {
         "Age": 68,
         "Sex": 1,
         "On Thyroxine": 0,
         "Query on Thyroxine": 0,
         "On Antithyroid Medication": 0,
         "Sick": 0,
         "Pregnant": 0,
         "Thyroid Surgery": 0,
         "I131 Treatment": 0,
         "Query Hypothyroid": 0,
         "Query Hyperthyroid": 0,
         "Lithium": 0,
         "Goiter": 0,
         "Tumor": 0,
         "Hypopituitary": 0,
         "Psych": 0,
         "TSH Measured": 1,
         "TSH": 2.4,
         "T3 Measured": 1,
         "T3": 1.6,
         "TT4 Measured": 1,
         "TT4": 83,
         "T4U Measured": 1,
         "T4U": 0.89,
         "FTI Measured": 1,
         "FTI": 93,
         "Referral Source": 0,
         "Class": 0,
         "_deepnote_index_column": 9
        }
       ]
      },
      "text/plain": "       Age  Sex  On Thyroxine  Query on Thyroxine  On Antithyroid Medication  \\\n0     41.0    0             0                   0                          0   \n1     23.0    0             0                   0                          0   \n2     46.0    1             0                   0                          0   \n3     70.0    0             1                   0                          0   \n4     70.0    0             0                   0                          0   \n...    ...  ...           ...                 ...                        ...   \n2795  70.0    1             0                   0                          0   \n2796  73.0    1             0                   1                          0   \n2797  75.0    1             0                   0                          0   \n2798  60.0    0             0                   0                          0   \n2799  81.0    0             0                   0                          0   \n\n      Sick  Pregnant  Thyroid Surgery  I131 Treatment  Query Hypothyroid  ...  \\\n0        0         0                0               0                  0  ...   \n1        0         0                0               0                  0  ...   \n2        0         0                0               0                  0  ...   \n3        0         0                0               0                  0  ...   \n4        0         0                0               0                  0  ...   \n...    ...       ...              ...             ...                ...  ...   \n2795     0         0                0               0                  0  ...   \n2796     0         0                0               0                  0  ...   \n2797     0         0                0               0                  0  ...   \n2798     0         0                0               0                  0  ...   \n2799     0         0                0               0                  0  ...   \n\n      T3 Measured   T3  TT4 Measured    TT4  T4U Measured   T4U  FTI Measured  \\\n0               1  2.5             1  125.0             1  1.14             1   \n1               1  2.0             1  102.0             0  0.98             0   \n2               0  2.0             1  109.0             1  0.91             1   \n3               1  1.9             1  175.0             0  0.98             0   \n4               1  1.2             1   61.0             1  0.87             1   \n...           ...  ...           ...    ...           ...   ...           ...   \n2795            0  2.0             1  155.0             1  1.05             1   \n2796            1  0.7             1   63.0             1  0.88             1   \n2797            0  2.0             1  147.0             1  0.80             1   \n2798            0  2.0             1  100.0             1  0.83             1   \n2799            1  1.5             1  114.0             1  0.99             1   \n\n        FTI  Referral Source  Class  \n0     109.0                1      0  \n1     107.0                0      0  \n2     120.0                0      0  \n3     107.0                0      0  \n4      70.0                0      0  \n...     ...              ...    ...  \n2795  148.0                0      0  \n2796   72.0                0      0  \n2797  183.0                0      0  \n2798  121.0                0      0  \n2799  115.0                0      0  \n\n[2690 rows x 28 columns]",
      "text/html": "<div>\n<style scoped>\n    .dataframe tbody tr th:only-of-type {\n        vertical-align: middle;\n    }\n\n    .dataframe tbody tr th {\n        vertical-align: top;\n    }\n\n    .dataframe thead th {\n        text-align: right;\n    }\n</style>\n<table border=\"1\" class=\"dataframe\">\n  <thead>\n    <tr style=\"text-align: right;\">\n      <th></th>\n      <th>Age</th>\n      <th>Sex</th>\n      <th>On Thyroxine</th>\n      <th>Query on Thyroxine</th>\n      <th>On Antithyroid Medication</th>\n      <th>Sick</th>\n      <th>Pregnant</th>\n      <th>Thyroid Surgery</th>\n      <th>I131 Treatment</th>\n      <th>Query Hypothyroid</th>\n      <th>...</th>\n      <th>T3 Measured</th>\n      <th>T3</th>\n      <th>TT4 Measured</th>\n      <th>TT4</th>\n      <th>T4U Measured</th>\n      <th>T4U</th>\n      <th>FTI Measured</th>\n      <th>FTI</th>\n      <th>Referral Source</th>\n      <th>Class</th>\n    </tr>\n  </thead>\n  <tbody>\n    <tr>\n      <th>0</th>\n      <td>41.0</td>\n      <td>0</td>\n      <td>0</td>\n      <td>0</td>\n      <td>0</td>\n      <td>0</td>\n      <td>0</td>\n      <td>0</td>\n      <td>0</td>\n      <td>0</td>\n      <td>...</td>\n      <td>1</td>\n      <td>2.5</td>\n      <td>1</td>\n      <td>125.0</td>\n      <td>1</td>\n      <td>1.14</td>\n      <td>1</td>\n      <td>109.0</td>\n      <td>1</td>\n      <td>0</td>\n    </tr>\n    <tr>\n      <th>1</th>\n      <td>23.0</td>\n      <td>0</td>\n      <td>0</td>\n      <td>0</td>\n      <td>0</td>\n      <td>0</td>\n      <td>0</td>\n      <td>0</td>\n      <td>0</td>\n      <td>0</td>\n      <td>...</td>\n      <td>1</td>\n      <td>2.0</td>\n      <td>1</td>\n      <td>102.0</td>\n      <td>0</td>\n      <td>0.98</td>\n      <td>0</td>\n      <td>107.0</td>\n      <td>0</td>\n      <td>0</td>\n    </tr>\n    <tr>\n      <th>2</th>\n      <td>46.0</td>\n      <td>1</td>\n      <td>0</td>\n      <td>0</td>\n      <td>0</td>\n      <td>0</td>\n      <td>0</td>\n      <td>0</td>\n      <td>0</td>\n      <td>0</td>\n      <td>...</td>\n      <td>0</td>\n      <td>2.0</td>\n      <td>1</td>\n      <td>109.0</td>\n      <td>1</td>\n      <td>0.91</td>\n      <td>1</td>\n      <td>120.0</td>\n      <td>0</td>\n      <td>0</td>\n    </tr>\n    <tr>\n      <th>3</th>\n      <td>70.0</td>\n      <td>0</td>\n      <td>1</td>\n      <td>0</td>\n      <td>0</td>\n      <td>0</td>\n      <td>0</td>\n      <td>0</td>\n      <td>0</td>\n      <td>0</td>\n      <td>...</td>\n      <td>1</td>\n      <td>1.9</td>\n      <td>1</td>\n      <td>175.0</td>\n      <td>0</td>\n      <td>0.98</td>\n      <td>0</td>\n      <td>107.0</td>\n      <td>0</td>\n      <td>0</td>\n    </tr>\n    <tr>\n      <th>4</th>\n      <td>70.0</td>\n      <td>0</td>\n      <td>0</td>\n      <td>0</td>\n      <td>0</td>\n      <td>0</td>\n      <td>0</td>\n      <td>0</td>\n      <td>0</td>\n      <td>0</td>\n      <td>...</td>\n      <td>1</td>\n      <td>1.2</td>\n      <td>1</td>\n      <td>61.0</td>\n      <td>1</td>\n      <td>0.87</td>\n      <td>1</td>\n      <td>70.0</td>\n      <td>0</td>\n      <td>0</td>\n    </tr>\n    <tr>\n      <th>...</th>\n      <td>...</td>\n      <td>...</td>\n      <td>...</td>\n      <td>...</td>\n      <td>...</td>\n      <td>...</td>\n      <td>...</td>\n      <td>...</td>\n      <td>...</td>\n      <td>...</td>\n      <td>...</td>\n      <td>...</td>\n      <td>...</td>\n      <td>...</td>\n      <td>...</td>\n      <td>...</td>\n      <td>...</td>\n      <td>...</td>\n      <td>...</td>\n      <td>...</td>\n      <td>...</td>\n    </tr>\n    <tr>\n      <th>2795</th>\n      <td>70.0</td>\n      <td>1</td>\n      <td>0</td>\n      <td>0</td>\n      <td>0</td>\n      <td>0</td>\n      <td>0</td>\n      <td>0</td>\n      <td>0</td>\n      <td>0</td>\n      <td>...</td>\n      <td>0</td>\n      <td>2.0</td>\n      <td>1</td>\n      <td>155.0</td>\n      <td>1</td>\n      <td>1.05</td>\n      <td>1</td>\n      <td>148.0</td>\n      <td>0</td>\n      <td>0</td>\n    </tr>\n    <tr>\n      <th>2796</th>\n      <td>73.0</td>\n      <td>1</td>\n      <td>0</td>\n      <td>1</td>\n      <td>0</td>\n      <td>0</td>\n      <td>0</td>\n      <td>0</td>\n      <td>0</td>\n      <td>0</td>\n      <td>...</td>\n      <td>1</td>\n      <td>0.7</td>\n      <td>1</td>\n      <td>63.0</td>\n      <td>1</td>\n      <td>0.88</td>\n      <td>1</td>\n      <td>72.0</td>\n      <td>0</td>\n      <td>0</td>\n    </tr>\n    <tr>\n      <th>2797</th>\n      <td>75.0</td>\n      <td>1</td>\n      <td>0</td>\n      <td>0</td>\n      <td>0</td>\n      <td>0</td>\n      <td>0</td>\n      <td>0</td>\n      <td>0</td>\n      <td>0</td>\n      <td>...</td>\n      <td>0</td>\n      <td>2.0</td>\n      <td>1</td>\n      <td>147.0</td>\n      <td>1</td>\n      <td>0.80</td>\n      <td>1</td>\n      <td>183.0</td>\n      <td>0</td>\n      <td>0</td>\n    </tr>\n    <tr>\n      <th>2798</th>\n      <td>60.0</td>\n      <td>0</td>\n      <td>0</td>\n      <td>0</td>\n      <td>0</td>\n      <td>0</td>\n      <td>0</td>\n      <td>0</td>\n      <td>0</td>\n      <td>0</td>\n      <td>...</td>\n      <td>0</td>\n      <td>2.0</td>\n      <td>1</td>\n      <td>100.0</td>\n      <td>1</td>\n      <td>0.83</td>\n      <td>1</td>\n      <td>121.0</td>\n      <td>0</td>\n      <td>0</td>\n    </tr>\n    <tr>\n      <th>2799</th>\n      <td>81.0</td>\n      <td>0</td>\n      <td>0</td>\n      <td>0</td>\n      <td>0</td>\n      <td>0</td>\n      <td>0</td>\n      <td>0</td>\n      <td>0</td>\n      <td>0</td>\n      <td>...</td>\n      <td>1</td>\n      <td>1.5</td>\n      <td>1</td>\n      <td>114.0</td>\n      <td>1</td>\n      <td>0.99</td>\n      <td>1</td>\n      <td>115.0</td>\n      <td>0</td>\n      <td>0</td>\n    </tr>\n  </tbody>\n</table>\n<p>2690 rows × 28 columns</p>\n</div>"
     },
     "metadata": {}
    }
   ]
  },
  {
   "cell_type": "code",
   "metadata": {
    "tags": [],
    "deepnote_to_be_reexecuted": false,
    "source_hash": "4a1d2738",
    "execution_start": 1657913806031,
    "execution_millis": 3,
    "cell_id": "00050-2601d82a-2438-494f-8bde-dde921a1762e",
    "deepnote_cell_type": "code",
    "deepnote_cell_height": 468.953125
   },
   "source": "corr = dataset.corr()\nfor k in range(len(corr.columns)):\n    i = corr.columns[k]\n    for j in np.arange(k, len(corr[i])):\n        if((i != dataset.columns[j]) & (corr[i][j] >= 0.5)):\n            if(abs(corr['Class'][i]) > abs(corr['Class'][j])):\n                print(i, '&', dataset.columns[j])\n            else:\n                print(dataset.columns[j], '&', i)\n            #print(i, '&', dataset.columns[j], '\\t\\t', corr['Class'][i], '&', corr['Class'][j])\nremove_col = ['Psych', 'TT4 Measured', 'T4U Measured', 'FTI Measured', 'TT4', 'T3']",
   "execution_count": 24,
   "outputs": [
    {
     "name": "stdout",
     "text": "Referral Source & Psych\nTSH Measured & TT4 Measured\nTSH Measured & T4U Measured\nTSH Measured & FTI Measured\nClass & TSH\nTT4 & T3\nTT4 Measured & T4U Measured\nTT4 Measured & FTI Measured\nFTI & TT4\nT4U Measured & FTI Measured\n",
     "output_type": "stream"
    }
   ]
  },
  {
   "cell_type": "code",
   "metadata": {
    "tags": [],
    "deepnote_to_be_reexecuted": false,
    "source_hash": "44e24b48",
    "execution_start": 1657913806032,
    "execution_millis": 11003,
    "cell_id": "00051-b996ea42-af69-494f-9511-938fcef5ea4a",
    "deepnote_cell_type": "code",
    "deepnote_cell_height": 783,
    "deepnote_output_heights": [
     21.1875,
     611
    ]
   },
   "source": "sns.set(rc={'figure.figsize':(30, 30)})\nsns.heatmap(dataset.corr(), annot = True)",
   "execution_count": 25,
   "outputs": [
    {
     "output_type": "execute_result",
     "execution_count": 25,
     "data": {
      "text/plain": "<AxesSubplot:>"
     },
     "metadata": {}
    },
    {
     "data": {
      "text/plain": "<Figure size 2160x2160 with 2 Axes>",
      "image/png": "[encoded data removed]"
     },
     "metadata": {
      "image/png": {
       "width": 1708,
       "height": 1803
      }
     },
     "output_type": "display_data"
    }
   ]
  },
  {
   "cell_type": "code",
   "metadata": {
    "tags": [],
    "deepnote_to_be_reexecuted": false,
    "source_hash": "ceb74a6c",
    "execution_start": 1657913817058,
    "execution_millis": 4,
    "cell_id": "00052-f418b572-7bc3-4d3b-92b7-808e02213ab5",
    "deepnote_cell_type": "code",
    "deepnote_cell_height": 232.171875,
    "deepnote_output_heights": [
     117.171875
    ]
   },
   "source": "corr = dataset.corr()\ncorr['Class'][abs(corr['Class']) >= 0.1]",
   "execution_count": 26,
   "outputs": [
    {
     "output_type": "execute_result",
     "execution_count": 26,
     "data": {
      "text/plain": "TSH      0.556335\nT3      -0.194102\nTT4     -0.323707\nFTI     -0.347295\nClass    1.000000\nName: Class, dtype: float64"
     },
     "metadata": {}
    }
   ]
  },
  {
   "cell_type": "code",
   "metadata": {
    "tags": [],
    "deepnote_to_be_reexecuted": false,
    "source_hash": "b4da845e",
    "execution_start": 1657913817074,
    "execution_millis": 22,
    "cell_id": "00053-96aa8e88-6029-4c0d-b666-04706829246a",
    "deepnote_cell_type": "code",
    "deepnote_cell_height": 81
   },
   "source": "cols_to_remove = ['Age', 'Query on Thyroxine', 'Lithium', 'Tumor', 'Hypopituitary']",
   "execution_count": 27,
   "outputs": []
  },
  {
   "cell_type": "markdown",
   "source": "All right, let's now split our data into training and testing in an 80-20 split. For consistency, let's all use a seed of 8675309.",
   "metadata": {
    "colab_type": "text",
    "id": "4yEeqjv19hCX",
    "cell_id": "00054-36975137-3d1a-4d80-909b-aa321bf43f0b",
    "deepnote_cell_type": "markdown",
    "deepnote_cell_height": 52.390625
   }
  },
  {
   "cell_type": "code",
   "metadata": {
    "colab": {
     "autoexec": {
      "startup": false,
      "wait_interval": 0
     },
     "base_uri": "https://localhost:8080/",
     "height": 36
    },
    "colab_type": "code",
    "executionInfo": {
     "elapsed": 452,
     "status": "ok",
     "timestamp": 1531117461829,
     "user": {
      "displayName": "Lyle Lalunio",
      "photoUrl": "https://lh3.googleusercontent.com/a/default-user=s128",
      "userId": "108954789805627648380"
     },
     "user_tz": 240
    },
    "id": "GQqlCTGntXCX",
    "outputId": "17fb180a-5a12-4890-8de2-2b2d73bfe9df",
    "deepnote_to_be_reexecuted": false,
    "source_hash": "48808116",
    "execution_start": 1657913817142,
    "execution_millis": 611,
    "cell_id": "00055-fd347d55-cfb3-410a-a196-fbaf07fc8d23",
    "deepnote_cell_type": "code",
    "deepnote_cell_height": 171
   },
   "source": "from sklearn.model_selection import train_test_split\nX_cols = list(set(dataset.columns) - set(['Class']))\ny_col = 'Class'\nX_train, X_test, y_train, y_test = train_test_split(dataset[X_cols], dataset[y_col], test_size = 0.2, random_state= 8675309)\nX_train, X_val, y_train, y_val = train_test_split(X_train, y_train, test_size = 0.5, random_state= 8675309)\n",
   "execution_count": 28,
   "outputs": []
  },
  {
   "cell_type": "code",
   "metadata": {
    "tags": [],
    "deepnote_to_be_reexecuted": false,
    "source_hash": "1151fc06",
    "execution_start": 1657913817775,
    "execution_millis": 35,
    "cell_id": "00056-2805bd66-ee1f-4af5-969e-c92f834ae03c",
    "deepnote_cell_type": "code",
    "deepnote_cell_height": 172.1875,
    "deepnote_output_heights": [
     21.1875
    ]
   },
   "source": "'''rem = remove_col\nX_train = X_train.drop(rem, axis=1)\nX_test = X_test.drop(rem, axis = 1)\nX_val = X_val.drop(rem, axis = 1)'''",
   "execution_count": 29,
   "outputs": [
    {
     "output_type": "execute_result",
     "execution_count": 29,
     "data": {
      "text/plain": "'rem = remove_col\\nX_train = X_train.drop(rem, axis=1)\\nX_test = X_test.drop(rem, axis = 1)\\nX_val = X_val.drop(rem, axis = 1)'"
     },
     "metadata": {}
    }
   ]
  },
  {
   "cell_type": "markdown",
   "source": "For reusability, let's make a logistic regression function that will take our training and testing data as arguments. Inside the function, build a model on your training data, fit it with your training class data, and return a list of your predictions.",
   "metadata": {
    "colab_type": "text",
    "id": "6KGUCXBE-OFy",
    "cell_id": "00057-9d090783-b1fe-440d-90dc-b17bb9717faf",
    "deepnote_cell_type": "markdown",
    "deepnote_cell_height": 74.796875
   }
  },
  {
   "cell_type": "code",
   "metadata": {
    "tags": [],
    "deepnote_to_be_reexecuted": false,
    "source_hash": "2c9b3eb2",
    "execution_start": 1657915825700,
    "execution_millis": 23,
    "cell_id": "00058-919c5db7-62f8-40dd-a7c6-3e22394c394e",
    "deepnote_cell_type": "code",
    "deepnote_cell_height": 493.078125
   },
   "source": "#Decision Tree\nfrom sklearn.metrics import accuracy_score\nfrom sklearn.tree import DecisionTreeClassifier\nfrom sklearn import tree\nimport matplotlib.pyplot as plt\n#DECISION TREE:\ndecision_tree = DecisionTreeClassifier(criterion = \"entropy\", random_state = None,\n                              max_depth=10, min_samples_leaf=2)  # minimum sample leafs is the minimum sample \n                                                                # amount the leaf can have\n\n# Training/fitting the model with training data\ndecision_tree.fit(X_train, y_train)\n\ny_train_pred_dt= decision_tree.predict(X_train)\ny_val_pred_dt = decision_tree.predict(X_val)\nprint(\"Training Accuracy:\",accuracy_score(y_train,y_train_pred_dt)*100)\nprint(\"Validation Accuracy:\",accuracy_score(y_val,y_val_pred_dt)*100)\n\ny_test_pred_dt = decision_tree.predict(X_test)\nprint(\"Testing Accuracy:\",accuracy_score(y_test, y_test_pred_dt)*100)",
   "execution_count": 40,
   "outputs": [
    {
     "name": "stdout",
     "text": "Training Accuracy: 99.81412639405205\nValidation Accuracy: 99.34944237918215\nTesting Accuracy: 99.81412639405205\n",
     "output_type": "stream"
    }
   ]
  },
  {
   "cell_type": "markdown",
   "source": "Fantastic, we have just built a logistic regression model! Let's go see how well it performs.",
   "metadata": {
    "colab_type": "text",
    "id": "JR8xu_VVsygN",
    "cell_id": "00062-18c9390f-f55b-4015-b83b-0ebc675936e2",
    "owner_user_id": "352c27cf-5a1d-47ad-8dd9-e17d74f43711",
    "deepnote_cell_type": "markdown",
    "deepnote_cell_height": 52.390625
   }
  },
  {
   "cell_type": "markdown",
   "source": "### Model evaluation",
   "metadata": {
    "colab_type": "text",
    "id": "gAz096POwSRJ",
    "cell_id": "00063-6aa98b94-fb33-43a9-bfb5-8003dd4e71b7",
    "deepnote_cell_type": "markdown",
    "deepnote_cell_height": 62
   }
  },
  {
   "cell_type": "markdown",
   "source": "To start, let's establish the baseline performance. This is important because it provides a starting point of comparison for later evaluation methods, like accuracy.\n\nA good baseline model to use is the Zero Rule algorithm. In classification problems, it simply predicts the class value with the greatest number of instances every time.",
   "metadata": {
    "colab_type": "text",
    "id": "570duVNhrTZh",
    "cell_id": "00064-957aa77c-24a3-46df-af20-97af4256a87b",
    "deepnote_cell_type": "markdown",
    "deepnote_cell_height": 133.59375
   }
  },
  {
   "cell_type": "code",
   "metadata": {
    "colab": {
     "autoexec": {
      "startup": false,
      "wait_interval": 0
     }
    },
    "colab_type": "code",
    "id": "fwvqucK_Yg-2",
    "deepnote_to_be_reexecuted": false,
    "source_hash": "6279e59e",
    "execution_start": 1657915032537,
    "execution_millis": 0,
    "cell_id": "00065-4a25b425-d7ae-4b61-aec9-c24636e5fb03",
    "deepnote_cell_type": "code",
    "deepnote_cell_height": 297
   },
   "source": "from collections import Counter\n\ndef zero_rule_algorithm_classification(train,val):\n    if(Counter(train).most_common()[0][0] == 0):\n        train_acc = accuracy_score(train, np.zeros(train.shape[0]))*100\n    else:\n        train_acc = accuracy_score(train, np.ones(train.shape[0]))*100\n    if(Counter(val).most_common()[0][0] == 0):\n        val_acc = accuracy_score(val, np.zeros(val.shape[0]))*100\n    else:\n        val_acc = accuracy_score(val, np.ones(val.shape[0]))*100\n    return train_acc, val_acc\n    ",
   "execution_count": 32,
   "outputs": []
  },
  {
   "cell_type": "markdown",
   "source": "Get your baseline performance by calculating the accuracy of your Zero Rule algorithm.",
   "metadata": {
    "colab_type": "text",
    "id": "I_nExUgUYll5",
    "cell_id": "00066-a04018e8-1c29-46b2-a1dd-8a0544820bfd",
    "deepnote_cell_type": "markdown",
    "deepnote_cell_height": 52.390625
   }
  },
  {
   "cell_type": "code",
   "metadata": {
    "colab": {
     "autoexec": {
      "startup": false,
      "wait_interval": 0
     }
    },
    "colab_type": "code",
    "id": "zs0M8OdtYidB",
    "deepnote_to_be_reexecuted": false,
    "source_hash": "1fd647f6",
    "execution_start": 1657915035798,
    "execution_millis": 1,
    "cell_id": "00067-e7fc5371-610c-4fea-bd4f-e0c0773aa7cc",
    "deepnote_cell_type": "code",
    "deepnote_cell_height": 185.390625
   },
   "source": "(train, val) = zero_rule_algorithm_classification(y_train, y_val)\n\nprint(\"Training accuracy: \", train)\nprint(\"Validation accuracy:\", val)",
   "execution_count": 33,
   "outputs": [
    {
     "name": "stdout",
     "text": "Training accuracy:  92.84386617100373\nValidation accuracy: 91.07806691449815\n",
     "output_type": "stream"
    }
   ]
  },
  {
   "cell_type": "code",
   "metadata": {
    "tags": [],
    "deepnote_to_be_reexecuted": true,
    "source_hash": "6672fbd9",
    "execution_start": 1657908774598,
    "execution_millis": 17,
    "cell_id": "00068-1591f03f-f490-4cca-8782-2dd784aa4386",
    "deepnote_cell_type": "code",
    "deepnote_cell_height": 185.390625
   },
   "source": "(train, test) = zero_rule_algorithm_classification(y_train, y_test)\n\nprint(\"Training accuracy: \", train)\nprint(\"Testing accuracy:\", test)",
   "execution_count": null,
   "outputs": [
    {
     "name": "stdout",
     "text": "Training accuracy:  92.84386617100373\nTesting accuracy: 92.93680297397769\n",
     "output_type": "stream"
    }
   ]
  },
  {
   "cell_type": "markdown",
   "source": "So maybe accuracy isn't the best performance measure for this dataset. As you've seen already, even when the models predict \"negative\" for all the records, we could already achieve a ~92% accuracy. However, that also implies we incorrectly predicted 100% of the positive cases, which in the context of this problem, is fatal.\n\nThankfully, it isn't the only way to evaluate your model. Let's take a look at a confusion matrix.\n\n![alt text](https://i.imgur.com/uipmEwt.png)",
   "metadata": {
    "colab_type": "text",
    "id": "WksirqfT5Ecw",
    "cell_id": "00069-b5579004-0ce0-4b15-aff0-13accafe9405",
    "deepnote_cell_type": "markdown",
    "deepnote_cell_height": 542.59375
   }
  },
  {
   "cell_type": "markdown",
   "source": "Create a confusion matrix using the logistic regression function you built earlier.",
   "metadata": {
    "colab_type": "text",
    "id": "-vzqX_SKaBzK",
    "cell_id": "00070-92a58324-071c-4359-9546-9dde7d52ac77",
    "deepnote_cell_type": "markdown",
    "deepnote_cell_height": 52.390625
   }
  },
  {
   "cell_type": "code",
   "metadata": {
    "colab": {
     "autoexec": {
      "startup": false,
      "wait_interval": 0
     }
    },
    "colab_type": "code",
    "id": "DSS7JdYjaBWh",
    "deepnote_to_be_reexecuted": true,
    "source_hash": "b6ccd984",
    "execution_start": 1657908774627,
    "execution_millis": 48,
    "cell_id": "00071-20449854-ec75-4623-9606-7f25a7602913",
    "deepnote_cell_type": "code",
    "deepnote_cell_height": 439.140625
   },
   "source": "from sklearn.metrics import confusion_matrix\nlogreg = LogisticRegression()\nlogreg.fit(X_test, y_test)\ny_test_pred = logreg.predict(X_test)\ntest_acc = accuracy_score(y_test, y_test_pred)*100\nprint(test_acc)\ncm = metrics.confusion_matrix(y_test, y_test_pred)\nprint(cm)",
   "execution_count": null,
   "outputs": [
    {
     "name": "stdout",
     "text": "96.6542750929368\n[[495   5]\n [ 13  25]]\n/shared-libs/python3.9/py/lib/python3.9/site-packages/sklearn/linear_model/_logistic.py:444: ConvergenceWarning: lbfgs failed to converge (status=1):\nSTOP: TOTAL NO. of ITERATIONS REACHED LIMIT.\n\nIncrease the number of iterations (max_iter) or scale the data as shown in:\n    https://scikit-learn.org/stable/modules/preprocessing.html\nPlease also refer to the documentation for alternative solver options:\n    https://scikit-learn.org/stable/modules/linear_model.html#logistic-regression\n  n_iter_i = _check_optimize_result(\n",
     "output_type": "stream"
    }
   ]
  },
  {
   "cell_type": "markdown",
   "source": "\nYet another appropriate metric is the Area Under the Receiver Operator Curve. Specifically, the diagnostic performance of a test, or the accuracy of a test to discriminate diseased cases from normal cases is evaluated using Receiver Operating Characteristic (ROC) curve analysis.\n\nWhen you consider the results of a particular test in two populations, one population with a disease, the other population without the disease, you will rarely observe a perfect separation between the two groups. Hence, the overlapping areas in the diagram below (FN, FP).\n\nIn a Receiver Operating Characteristic (ROC) curve the true positive rate (Sensitivity) is plotted in function of the false positive rate (100-Specificity) for different cut-off points. Each point on the ROC curve represents a sensitivity/specificity pair corresponding to a particular decision threshold. A test with perfect discrimination (no overlap in the two distributions) has a ROC curve that passes through the upper left corner (100% sensitivity, 100% specificity). Therefore the closer the ROC curve is to the upper left corner, the higher the overall accuracy of the test.\n\n![alt text](https://www.medcalc.org/manual/_help/images/roc_intro1.png)\n\n\n\n",
   "metadata": {
    "colab_type": "text",
    "id": "z0JPOHmQn8N6",
    "cell_id": "00072-1c69058a-2744-4952-a2f1-9a60376e699b",
    "deepnote_cell_type": "markdown",
    "deepnote_cell_height": 516.375
   }
  },
  {
   "cell_type": "markdown",
   "source": "Now, to graph the AUROC curve, we will need to predict probabilities of choosing a specific class value rather than the class value itself. Make a new logistic regression model that does so.",
   "metadata": {
    "colab_type": "text",
    "id": "cvTWQTcycBEp",
    "cell_id": "00073-27bb6a36-73ae-4aef-9414-aea7c68c482e",
    "deepnote_cell_type": "markdown",
    "deepnote_cell_height": 74.796875
   }
  },
  {
   "cell_type": "markdown",
   "source": "Now calculate the area under the receiver operator curve with your predictions.",
   "metadata": {
    "colab_type": "text",
    "id": "Xm0yv6wmDnQz",
    "cell_id": "00074-3ebbb179-b96d-48d9-a68a-6600148f0638",
    "deepnote_cell_type": "markdown",
    "deepnote_cell_height": 52.390625
   }
  },
  {
   "cell_type": "code",
   "metadata": {
    "tags": [],
    "deepnote_to_be_reexecuted": true,
    "source_hash": "831aa24b",
    "execution_start": 1657908774677,
    "execution_millis": 23,
    "owner_user_id": "194cd911-cac3-400d-87db-1f259c3e5457",
    "cell_id": "00075-d27e6be2-c74b-4852-a2b3-b0537ee40def",
    "deepnote_cell_type": "code",
    "deepnote_cell_height": 183.6875
   },
   "source": "fpr, tpr, thresholds = metrics.roc_curve(y_test, logreg.predict(X_test))\n\n# Calculate the area under the ROC curve\nroc_auc = metrics.auc(fpr, tpr)\nprint(roc_auc)",
   "execution_count": null,
   "outputs": [
    {
     "name": "stdout",
     "text": "0.8239473684210527\n",
     "output_type": "stream"
    }
   ]
  },
  {
   "cell_type": "markdown",
   "source": "Now graph the ROC curve using matplotlib, fully labeled.",
   "metadata": {
    "colab_type": "text",
    "id": "w3hnQOGUczOn",
    "cell_id": "00076-360b23fa-bb43-45a2-9848-6ee483f17afa",
    "deepnote_cell_type": "markdown",
    "deepnote_cell_height": 52.390625
   }
  },
  {
   "cell_type": "code",
   "metadata": {
    "colab": {
     "autoexec": {
      "startup": false,
      "wait_interval": 0
     }
    },
    "colab_type": "code",
    "id": "JA-ieOGua55H",
    "deepnote_to_be_reexecuted": true,
    "source_hash": "fa2cd45b",
    "execution_start": 1657908774708,
    "execution_millis": 339,
    "cell_id": "00077-538af0ff-922e-4efc-8f58-3ce85cd278dc",
    "deepnote_cell_type": "code",
    "deepnote_cell_height": 726,
    "deepnote_output_heights": [
     395
    ]
   },
   "source": "import matplotlib.pyplot as plt\n\nplt.figure(figsize=(6,6))\nlw = 2\nplt.plot(fpr, tpr, color='darkorange',\n         lw=lw, label='ROC curve (area = %0.2f)' % roc_auc)\nplt.plot([0, 1], [0, 1], color='navy', lw=lw, linestyle='--')\nplt.xlim([0.0, 1.0])\nplt.ylim([0.0, 1.0])\nplt.xlabel('False Positive Rate')\nplt.ylabel('True Positive Rate')\nplt.title('Receiver operating characteristic')\nplt.legend(loc=\"lower right\")\nplt.show()",
   "execution_count": null,
   "outputs": [
    {
     "data": {
      "text/plain": "<Figure size 432x432 with 1 Axes>",
      "image/png": "[encoded data removed]"
     },
     "metadata": {
      "image/png": {
       "width": 401,
       "height": 393
      }
     },
     "output_type": "display_data"
    }
   ]
  },
  {
   "cell_type": "markdown",
   "source": "In conclusion, it looks like this model performed pretty bad. It's probably best to try out different columns or perhaps use a different model before we submit our model for scoring.",
   "metadata": {
    "colab_type": "text",
    "id": "5D4BtDZV6fxV",
    "cell_id": "00078-2d030489-5ef0-4c9d-98c7-c345a3828b3b",
    "deepnote_cell_type": "markdown",
    "deepnote_cell_height": 74.796875
   }
  },
  {
   "cell_type": "markdown",
   "source": "# Submitting your Model",
   "metadata": {
    "colab_type": "text",
    "id": "5JW3myd8LHJy",
    "cell_id": "00079-c38fbf7f-5969-4338-b9d9-c7b303f46c3b",
    "deepnote_cell_type": "markdown",
    "deepnote_cell_height": 82
   }
  },
  {
   "cell_type": "markdown",
   "source": "Once you believe to have found the best classifier, run your classifier on the test data and make a pickle file containing of your predictions contained a pandas dataframe.\n\nThis pandas dataframe will contain three columns for your binary classifier (or 5 columns for the multiclass classifier): the first column should be your model's \"best guess\" for each patient (either 0 or 1, negative or positive) and the last two columns should be the probability the patient would be classified as either a 0 or 1.\n\n(see below for reference)",
   "metadata": {
    "colab_type": "text",
    "id": "Wuexs1daLNBY",
    "cell_id": "00080-af31e2e5-a00c-42d2-85c9-9169461a9327",
    "deepnote_cell_type": "markdown",
    "deepnote_cell_height": 192.390625
   }
  },
  {
   "cell_type": "code",
   "metadata": {
    "colab": {
     "autoexec": {
      "startup": false,
      "wait_interval": 0
     },
     "base_uri": "https://localhost:8080/",
     "height": 16
    },
    "colab_type": "code",
    "executionInfo": {
     "elapsed": 735,
     "status": "ok",
     "timestamp": 1531300930305,
     "user": {
      "displayName": "Lyle Lalunio",
      "photoUrl": "https://lh3.googleusercontent.com/a/default-user=s128",
      "userId": "108954789805627648380"
     },
     "user_tz": 240
    },
    "id": "GkZOEgg3m3g1",
    "outputId": "6e113681-1554-4d5d-ee1a-14fce422cdfe",
    "deepnote_to_be_reexecuted": true,
    "source_hash": "5b56d332",
    "execution_start": 1657911991366,
    "execution_millis": 1,
    "cell_id": "00081-62a74a5b-8183-4bae-8a6b-0d023a1ebc14",
    "deepnote_cell_type": "code",
    "deepnote_cell_height": 279
   },
   "source": "# after running this cell, you should see the pickle file pop up in the file explorer to the left\n# use the three dots next to the filename to download the file\n# after downloading the pickle file, email it to medlytics-21@mit.edu\nimport pickle\npredictions = pd.DataFrame({\"guesses\":[0, 1, 0, 1],\"prob_neg\":[.75, .15, .63, .20],\"prob_pos\":[.25, .85, .27, .80]})\nprediction_pickle_path = 'multi_prediction.pkl'\n\n# Create an variable to pickle and open it in write mode\nprediction_pickle = open(prediction_pickle_path, 'wb')\npickle.dump(predictions, prediction_pickle)\n\nprediction_pickle.close()",
   "outputs": [],
   "execution_count": null
  },
  {
   "cell_type": "code",
   "metadata": {
    "colab": {
     "autoexec": {
      "startup": false,
      "wait_interval": 0
     },
     "base_uri": "https://localhost:8080/",
     "height": 105
    },
    "colab_type": "code",
    "executionInfo": {
     "elapsed": 263,
     "status": "ok",
     "timestamp": 1531301033636,
     "user": {
      "displayName": "Lyle Lalunio",
      "photoUrl": "https://lh3.googleusercontent.com/a/default-user=s128",
      "userId": "108954789805627648380"
     },
     "user_tz": 240
    },
    "id": "Dj6_AB6LnjrW",
    "outputId": "399f0da3-727f-4e2f-9213-385243a95553",
    "deepnote_to_be_reexecuted": true,
    "source_hash": "6bbc19f9",
    "execution_start": 1657911996848,
    "execution_millis": 37,
    "cell_id": "00082-93f34dac-0eac-4aad-bc05-5a98236f33e6",
    "deepnote_cell_type": "code",
    "deepnote_cell_height": 280.46875
   },
   "source": "prediction_unpickle = open(prediction_pickle_path, 'rb')\n \n# load the unpickle object into a variable\npredictions = pickle.load(prediction_unpickle)\n \nprint(predictions)",
   "outputs": [
    {
     "name": "stdout",
     "text": "   guesses  prob_neg  prob_pos\n0        0      0.75      0.25\n1        1      0.15      0.85\n2        0      0.63      0.27\n3        1      0.20      0.80\n",
     "output_type": "stream"
    }
   ],
   "execution_count": null
  },
  {
   "cell_type": "markdown",
   "source": "# Scoring your Model",
   "metadata": {
    "colab_type": "text",
    "id": "GW27RtFNttQA",
    "cell_id": "00083-2c09b2ca-e6d7-42af-806c-52662a3dbf1a",
    "deepnote_cell_type": "markdown",
    "deepnote_cell_height": 82
   }
  },
  {
   "cell_type": "markdown",
   "source": "\n**Area Under ROC Curve**: A receiver operating characteristic (ROC) curve plots the true positive rate (y) against the false positive rate (x) at many decision threshold settings (output < threshold = 0, output > threshold = 1). The area under this curve represents the probability that a classifier will rank a randomly chosen positive instance higher than a randomly chosen negative one.\n\n**Confusion Matrix**: You will receive a certain number of points for each correct classification and a certain point penalty for each incorrect classification. The points are weighted, and are designed to equate to 0 in a Zero Rule baseline model. This point scheme is designed to punish you heavily for predicting false positives (FP) and false negatives (FN)--FN cases especially. In doing so, we hope you see the importance of clinical considerations and treat your models from a more human perspective, rather than detached from it.\n\n**Real World Cost**: Similar to the confusion matrix, we want you to keep in mind the other aspects of healthcare analytics--in this case, economic feasibility. In essence, we want you to minimize the amount of time and money spent on data collection by reducing the number of features collected. Each record certainly required a lot of time and money from several individuals and businesses to reliably create, and we hope you gain a better understanding of conducting a useful cost-benefit analysis with this scoring method. The full details of the weighted features can be found in the GitHub.",
   "metadata": {
    "colab_type": "text",
    "id": "iJdiisMerewv",
    "cell_id": "00084-35fd799f-dd61-40d6-a966-420313d61d49",
    "deepnote_cell_type": "markdown",
    "deepnote_cell_height": 349.171875
   }
  },
  {
   "cell_type": "markdown",
   "source": "# Moving to the Next Level",
   "metadata": {
    "colab_type": "text",
    "id": "w66lpbB6Qv_M",
    "cell_id": "00085-1f65d9ad-9bdf-447b-a7e6-e404f821ce18",
    "deepnote_cell_type": "markdown",
    "deepnote_cell_height": 82
   }
  },
  {
   "cell_type": "markdown",
   "source": "For those that finish early, remember how I converted the class values into simply \"negative\" and \"positive\"? Now try tackling the multiclass classifier (predicting the different types of positive hypothyroid cases instead of simply negative or positive)! \n\nThe same rules apply!",
   "metadata": {
    "colab_type": "text",
    "id": "X-HZ12lht_so",
    "cell_id": "00086-c57b8dc8-7785-4b49-aea4-896a2cd2c1e8",
    "deepnote_cell_type": "markdown",
    "deepnote_cell_height": 111.1875
   }
  },
  {
   "cell_type": "markdown",
   "source": "<a style='text-decoration:none;line-height:16px;display:flex;color:#5B5B62;padding:10px;justify-content:end;' href='https://deepnote.com?utm_source=created-in-deepnote-cell&projectId=1d29a227-7622-44e1-ba66-49a2dbb9b67d' target=\"_blank\">\n<img alt='Created in deepnote.com' style='display:inline;max-height:16px;margin:0px;margin-right:7.5px;' src='data:image/svg+xml;base64,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' > </img>\nCreated in <span style='font-weight:600;margin-left:4px;'>Deepnote</span></a>",
   "metadata": {
    "tags": [],
    "created_in_deepnote_cell": true,
    "deepnote_cell_type": "markdown"
   }
  }
 ],
 "nbformat": 4,
 "nbformat_minor": 1,
 "metadata": {
  "colab": {
   "collapsed_sections": [],
   "default_view": {},
   "name": "Challenge_Project_STUDENT.ipynb",
   "provenance": [],
   "version": "0.3.2",
   "views": {}
  },
  "kernelspec": {
   "display_name": "Python 3",
   "language": "python",
   "name": "python3"
  },
  "language_info": {
   "codemirror_mode": {
    "name": "ipython",
    "version": 3
   },
   "file_extension": ".py",
   "mimetype": "text/x-python",
   "name": "python",
   "nbconvert_exporter": "python",
   "pygments_lexer": "ipython3",
   "version": "3.7.3"
  },
  "deepnote_notebook_id": "e6c4cb21-3528-42b1-a8f5-32fbdbfcdac1",
  "deepnote": {},
  "deepnote_execution_queue": []
 }
}